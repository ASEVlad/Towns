{
 "cells": [
  {
   "cell_type": "code",
   "execution_count": 4,
   "id": "843c076c-0f40-482a-b810-9cb8beb9407c",
   "metadata": {},
   "outputs": [],
   "source": [
    "import os\n",
    "import time\n",
    "import pyautogui\n",
    "import random\n",
    "from dotenv import load_dotenv\n",
    "import pyperclip\n",
    "from web3 import Web3\n",
    "from openai import OpenAI\n",
    "import requests\n",
    "\n",
    "from selenium.webdriver.common.by import By\n",
    "from selenium.webdriver.support.ui import WebDriverWait\n",
    "from selenium.webdriver.support import expected_conditions as EC"
   ]
  },
  {
   "cell_type": "code",
   "execution_count": 6,
   "id": "6ba5698d-8d1e-4988-8e5d-09d75e2e5aac",
   "metadata": {},
   "outputs": [],
   "source": [
    "from src.withdraw import binance_withdraw, okx_withdraw, wait_for_balance\n",
    "from src.towns_actions.new_town import create_new_town, join_free_town, join_paid_town\n",
    "from src.towns_actions.get_daily_points import get_daily_points\n",
    "from src.towns_actions.get_info import get_connected_wallet\n",
    "from src.towns_actions.logining import login_twitter, login_google, check_reauthentication, reauthenticate\n",
    "from src.towns_actions.open_random import open_random_town\n",
    "from src.towns_actions.open_towns import open_towns\n",
    "from src.towns_actions.write_message import write_n_messages\n",
    "from src.towns_profile_manager import TownsProfileManager\n",
    "from src.utils import extract_wallets_to_file, trim_stacktrace_error"
   ]
  },
  {
   "cell_type": "code",
   "execution_count": 8,
   "id": "d6588265-397c-4c39-a596-36d943ab7f89",
   "metadata": {},
   "outputs": [],
   "source": [
    "from src.towns_profile_manager import TownsProfileManager"
   ]
  },
  {
   "cell_type": "code",
   "execution_count": 10,
   "id": "1a917582-880c-4fcc-8f22-88e081765ef3",
   "metadata": {},
   "outputs": [],
   "source": [
    "load_dotenv()\n",
    "\n",
    "DOLPHIN_API = os.getenv(\"DOLPHIN_API\")\n",
    "TOWNS_LINK = os.getenv(\"TOWNS_LINK\")\n",
    "OPENAI_API = os.getenv(\"OPENAI_API\")"
   ]
  },
  {
   "cell_type": "code",
   "execution_count": null,
   "id": "adc37186-23b7-4b7c-a31f-1619481fd60d",
   "metadata": {},
   "outputs": [],
   "source": []
  },
  {
   "cell_type": "code",
   "execution_count": 10,
   "id": "40e0a23b-88ce-42c4-9db6-7dbf1603b209",
   "metadata": {},
   "outputs": [],
   "source": [
    "towns_profile = TownsProfileManager(profile_id=577170716, anty_type=\"dolphin\", login_with=\"twitter\")\n",
    "# towns_profile = TownsProfileManager(profile_id=\"kwgrk9t\", anty_type=\"adspower\", login_with=\"twitter\")"
   ]
  },
  {
   "cell_type": "code",
   "execution_count": 12,
   "id": "86b9d642-7fdf-4679-8614-b32db647034e",
   "metadata": {},
   "outputs": [
    {
     "data": {
      "text/plain": [
       "<selenium.webdriver.chrome.webdriver.WebDriver (session=\"609b946aea3a741cde1d4d68c4ec312b\")>"
      ]
     },
     "execution_count": 12,
     "metadata": {},
     "output_type": "execute_result"
    }
   ],
   "source": [
    "# open Profile\n",
    "towns_profile.open_profile()"
   ]
  },
  {
   "cell_type": "code",
   "execution_count": 31,
   "id": "4ed0b8e4-d844-4e56-807b-2a4e90c67643",
   "metadata": {},
   "outputs": [
    {
     "name": "stderr",
     "output_type": "stream",
     "text": [
      "\u001b[32m2025-04-13 17:21:47.018\u001b[0m | \u001b[1mINFO    \u001b[0m | \u001b[36msrc.towns_actions.open_towns\u001b[0m:\u001b[36mopen_towns\u001b[0m:\u001b[36m28\u001b[0m - \u001b[1mProfile_id: kwgrk9t. Successfully OPENED main page!\u001b[0m\n"
     ]
    },
    {
     "data": {
      "text/plain": [
       "False"
      ]
     },
     "execution_count": 31,
     "metadata": {},
     "output_type": "execute_result"
    }
   ],
   "source": [
    "# open Towns\n",
    "login_need = open_towns(towns_profile)\n",
    "login_need"
   ]
  },
  {
   "cell_type": "code",
   "execution_count": 18,
   "id": "12473cec-8e54-4cb2-852e-fef553c51675",
   "metadata": {},
   "outputs": [],
   "source": [
    "# twitter login\n",
    "if login_need:\n",
    "    login_twitter(towns_profile)\n",
    "\n",
    "# google login\n",
    "if login_need:\n",
    "    login_google(towns_profile)"
   ]
  },
  {
   "cell_type": "code",
   "execution_count": 20,
   "id": "f9a8906a-dda1-4178-9444-12439c5b0a17",
   "metadata": {},
   "outputs": [],
   "source": [
    "# # Reset Cache\n",
    "# reset_caches(driver)"
   ]
  },
  {
   "cell_type": "code",
   "execution_count": 22,
   "id": "7d9a2c63-67e3-443c-8670-1aed665dbbdb",
   "metadata": {},
   "outputs": [
    {
     "name": "stderr",
     "output_type": "stream",
     "text": [
      "\u001b[32m2025-04-02 17:37:17.069\u001b[0m | \u001b[1mINFO    \u001b[0m | \u001b[36msrc.towns_actions.get_info\u001b[0m:\u001b[36mget_connected_wallet\u001b[0m:\u001b[36m28\u001b[0m - \u001b[1mProfile_id: 577164824. Wallet successfully retrieved!\u001b[0m\n"
     ]
    },
    {
     "data": {
      "text/plain": [
       "'0xc4093E8F393d10F08D1754d3D5372d327Cb4fbd7'"
      ]
     },
     "execution_count": 22,
     "metadata": {},
     "output_type": "execute_result"
    }
   ],
   "source": [
    "# Get Connected Wallet\n",
    "get_connected_wallet(towns_profile)"
   ]
  },
  {
   "cell_type": "code",
   "execution_count": 19,
   "id": "7a7cb875-d6b1-414b-9702-ad91cfbc1a13",
   "metadata": {},
   "outputs": [
    {
     "name": "stderr",
     "output_type": "stream",
     "text": [
      "\u001b[32m2025-04-02 21:09:56.423\u001b[0m | \u001b[1mINFO    \u001b[0m | \u001b[36msrc.towns_actions.open_random\u001b[0m:\u001b[36mopen_random_town\u001b[0m:\u001b[36m33\u001b[0m - \u001b[1mProfile_id: 577170716. Successfully OPENED random town!\u001b[0m\n"
     ]
    },
    {
     "data": {
      "text/plain": [
       "'https://app.towns.com/t/0x9faf3b0c6185bd2ef701a40b5d67062e93a076a5/channels/209faf3b0c6185bd2ef701a40b5d67062e93a076a50000000000000000000000'"
      ]
     },
     "execution_count": 19,
     "metadata": {},
     "output_type": "execute_result"
    }
   ],
   "source": [
    "# open random town\n",
    "open_random_town(towns_profile)"
   ]
  },
  {
   "cell_type": "code",
   "execution_count": 28,
   "id": "b319da8e-bad7-4d5e-b92f-04063069e3ca",
   "metadata": {},
   "outputs": [
    {
     "name": "stderr",
     "output_type": "stream",
     "text": [
      "\u001b[32m2025-04-02 17:41:02.208\u001b[0m | \u001b[1mINFO    \u001b[0m | \u001b[36msrc.towns_actions.get_daily_points\u001b[0m:\u001b[36mget_daily_points\u001b[0m:\u001b[36m45\u001b[0m - \u001b[1mProfile_id: 577164824. Daily points are successfully farmed!\u001b[0m\n"
     ]
    }
   ],
   "source": [
    "# get daily points\n",
    "get_daily_points(towns_profile)"
   ]
  },
  {
   "cell_type": "code",
   "execution_count": 29,
   "id": "e68ef5c6-d765-48f2-8e10-0d655cb0277f",
   "metadata": {},
   "outputs": [
    {
     "name": "stderr",
     "output_type": "stream",
     "text": [
      "\u001b[32m2025-04-02 17:41:04.496\u001b[0m | \u001b[1mINFO    \u001b[0m | \u001b[36msrc.towns_actions.get_daily_points\u001b[0m:\u001b[36mget_daily_points\u001b[0m:\u001b[36m48\u001b[0m - \u001b[1mProfile_id: 577164824. Cooldown for daily points!\u001b[0m\n"
     ]
    }
   ],
   "source": [
    "# get daily points\n",
    "get_daily_points(towns_profile)"
   ]
  },
  {
   "cell_type": "code",
   "execution_count": 27,
   "id": "5c26ab2f-002f-48b9-9e7a-e923c7a2bad7",
   "metadata": {},
   "outputs": [
    {
     "name": "stderr",
     "output_type": "stream",
     "text": [
      "\u001b[32m2025-04-02 17:40:51.382\u001b[0m | \u001b[1mINFO    \u001b[0m | \u001b[36msrc.towns_actions.create_new_town\u001b[0m:\u001b[36mcreate_new_town\u001b[0m:\u001b[36m117\u001b[0m - \u001b[1mProfile_id: 577164824. Town of type free successfully created\u001b[0m\n"
     ]
    },
    {
     "data": {
      "text/plain": [
       "'https://app.towns.com/t/0x85f0aa8f0fdfa38f1042bc2807eaa064d4f6503a'"
      ]
     },
     "execution_count": 27,
     "metadata": {},
     "output_type": "execute_result"
    }
   ],
   "source": [
    "# create new free town\n",
    "create_new_town(towns_profile, \"free\", cost=0)"
   ]
  },
  {
   "cell_type": "code",
   "execution_count": 23,
   "id": "24ca97e1-8fe2-4f4f-9693-d3a7521ffc12",
   "metadata": {},
   "outputs": [
    {
     "name": "stderr",
     "output_type": "stream",
     "text": [
      "\u001b[32m2025-04-02 17:38:28.686\u001b[0m | \u001b[1mINFO    \u001b[0m | \u001b[36msrc.towns_actions.create_new_town\u001b[0m:\u001b[36mcreate_new_town\u001b[0m:\u001b[36m117\u001b[0m - \u001b[1mProfile_id: 577164824. Town of type dynamic successfully created\u001b[0m\n"
     ]
    },
    {
     "data": {
      "text/plain": [
       "'https://app.towns.com/t/0xf98ca09b34273d17b3d5f5969c4dc59ef8fbaf19'"
      ]
     },
     "execution_count": 23,
     "metadata": {},
     "output_type": "execute_result"
    }
   ],
   "source": [
    "# create new dynamic price town\n",
    "create_new_town(towns_profile, \"dynamic\", cost=0)"
   ]
  },
  {
   "cell_type": "code",
   "execution_count": 26,
   "id": "103487a0-1ce4-4645-87c4-210ed0f06178",
   "metadata": {},
   "outputs": [
    {
     "name": "stderr",
     "output_type": "stream",
     "text": [
      "\u001b[32m2025-04-02 17:39:46.053\u001b[0m | \u001b[1mINFO    \u001b[0m | \u001b[36msrc.towns_actions.create_new_town\u001b[0m:\u001b[36mcreate_new_town\u001b[0m:\u001b[36m117\u001b[0m - \u001b[1mProfile_id: 577164824. Town of type state successfully created\u001b[0m\n"
     ]
    },
    {
     "data": {
      "text/plain": [
       "'https://app.towns.com/t/0xba614116009f47d3cb33abeb3d9df26a5bbc482f'"
      ]
     },
     "execution_count": 26,
     "metadata": {},
     "output_type": "execute_result"
    }
   ],
   "source": [
    "# create new state price town\n",
    "create_new_town(towns_profile, \"state\", cost=0.01)"
   ]
  },
  {
   "cell_type": "code",
   "execution_count": 36,
   "id": "1b65625f-fa2a-4e3b-b115-1abd272b4612",
   "metadata": {
    "scrolled": true
   },
   "outputs": [
    {
     "name": "stderr",
     "output_type": "stream",
     "text": [
      "\u001b[32m2025-04-02 17:50:18.489\u001b[0m | \u001b[1mINFO    \u001b[0m | \u001b[36msrc.towns_actions.update_towns\u001b[0m:\u001b[36mupdate_towns\u001b[0m:\u001b[36m30\u001b[0m - \u001b[1mNo element 'Update Towns'\u001b[0m\n"
     ]
    }
   ],
   "source": [
    "# click on update town button\n",
    "update_towns(towns_profile)"
   ]
  },
  {
   "cell_type": "code",
   "execution_count": 38,
   "id": "90551522-5352-4586-80d6-8f39999a99dc",
   "metadata": {},
   "outputs": [
    {
     "name": "stderr",
     "output_type": "stream",
     "text": [
      "\u001b[32m2025-04-02 17:51:25.702\u001b[0m | \u001b[1mINFO    \u001b[0m | \u001b[36msrc.towns_actions.join_town\u001b[0m:\u001b[36mjoin_free_town\u001b[0m:\u001b[36m50\u001b[0m - \u001b[1mProfile_id: 577164824. Successfully JOINED into free town!\u001b[0m\n"
     ]
    }
   ],
   "source": [
    "# join free town\n",
    "town_link = \"https://app.towns.com/t/0xdc443716b9c203ff3ee9f3631182bfedf205dac8/\"\n",
    "join_free_town(towns_profile, town_link)"
   ]
  },
  {
   "cell_type": "code",
   "execution_count": 40,
   "id": "0b980833-fa36-4ead-88eb-3c1a57944d11",
   "metadata": {},
   "outputs": [
    {
     "name": "stdout",
     "output_type": "stream",
     "text": [
      "Not enough funds\n"
     ]
    }
   ],
   "source": [
    "# join paid town\n",
    "town_link = \"https://app.towns.com/t/0x8c5fd1c169c539e244260ba7df63f824d1303ce2\"\n",
    "join_paid_town(towns_profile, town_link, upper_limit=0.99)"
   ]
  },
  {
   "cell_type": "code",
   "execution_count": 44,
   "id": "d8309d3c-d125-4776-aeb2-62397c4473d6",
   "metadata": {},
   "outputs": [
    {
     "name": "stderr",
     "output_type": "stream",
     "text": [
      "\u001b[32m2025-04-02 17:54:03.361\u001b[0m | \u001b[1mINFO    \u001b[0m | \u001b[36msrc.towns_actions.write_message\u001b[0m:\u001b[36mwrite_n_messages\u001b[0m:\u001b[36m62\u001b[0m - \u001b[1mProfile_id: 577164824. Successfully WRITTEN MESSAGE!\u001b[0m\n",
      "\u001b[32m2025-04-02 17:54:20.560\u001b[0m | \u001b[1mINFO    \u001b[0m | \u001b[36msrc.towns_actions.write_message\u001b[0m:\u001b[36mwrite_n_messages\u001b[0m:\u001b[36m62\u001b[0m - \u001b[1mProfile_id: 577164824. Successfully WRITTEN MESSAGE!\u001b[0m\n",
      "\u001b[32m2025-04-02 17:54:38.003\u001b[0m | \u001b[1mINFO    \u001b[0m | \u001b[36msrc.towns_actions.write_message\u001b[0m:\u001b[36mwrite_n_messages\u001b[0m:\u001b[36m62\u001b[0m - \u001b[1mProfile_id: 577164824. Successfully WRITTEN MESSAGE!\u001b[0m\n",
      "\u001b[32m2025-04-02 17:54:56.476\u001b[0m | \u001b[1mINFO    \u001b[0m | \u001b[36msrc.towns_actions.write_message\u001b[0m:\u001b[36mwrite_n_messages\u001b[0m:\u001b[36m62\u001b[0m - \u001b[1mProfile_id: 577164824. Successfully WRITTEN MESSAGE!\u001b[0m\n"
     ]
    }
   ],
   "source": [
    "# write a message\n",
    "town_link = \"https://app.towns.com/t/0xdc443716b9c203ff3ee9f3631182bfedf205dac8/\" # free_town\n",
    "write_n_messages(towns_profile, town_link, 4, 10)"
   ]
  },
  {
   "cell_type": "code",
   "execution_count": 34,
   "id": "050f60d6-d55e-4ea6-98c2-601d458f0126",
   "metadata": {},
   "outputs": [],
   "source": [
    "towns_profile.close_profile()"
   ]
  },
  {
   "cell_type": "code",
   "execution_count": null,
   "id": "97dbd916-a1d1-4706-a165-73bfc85930f3",
   "metadata": {},
   "outputs": [],
   "source": []
  },
  {
   "cell_type": "code",
   "execution_count": 2,
   "id": "5ff16def-144f-4ac4-8ad0-3e700a479367",
   "metadata": {},
   "outputs": [],
   "source": [
    "a = list()"
   ]
  },
  {
   "cell_type": "code",
   "execution_count": 24,
   "id": "f106d87f-de30-4f84-90ef-29f3342b3a84",
   "metadata": {},
   "outputs": [],
   "source": [
    "from src.logic import get_random_town_link\n",
    "get_random_town_link(towns_profile, \"DYNAMIC\")"
   ]
  },
  {
   "cell_type": "code",
   "execution_count": null,
   "id": "a6fed459-f3a8-4af1-805a-8224764533fb",
   "metadata": {},
   "outputs": [],
   "source": []
  },
  {
   "cell_type": "code",
   "execution_count": null,
   "id": "0b8a41ac-89b0-4ce9-8170-7dc10278c382",
   "metadata": {},
   "outputs": [],
   "source": []
  },
  {
   "cell_type": "code",
   "execution_count": null,
   "id": "4c8daa8e-13a5-452d-8130-c3f7b0961b5d",
   "metadata": {},
   "outputs": [],
   "source": []
  },
  {
   "cell_type": "code",
   "execution_count": null,
   "id": "4b6d6372-c68a-4237-a284-f5d4a6bf9690",
   "metadata": {},
   "outputs": [],
   "source": []
  },
  {
   "cell_type": "code",
   "execution_count": null,
   "id": "487daf97-df9b-4f52-bb53-a13ddf5bd1f3",
   "metadata": {},
   "outputs": [],
   "source": []
  },
  {
   "cell_type": "code",
   "execution_count": null,
   "id": "d33841bc-49ae-4518-a876-13588aa29bd9",
   "metadata": {},
   "outputs": [],
   "source": []
  },
  {
   "cell_type": "code",
   "execution_count": null,
   "id": "da406ac4-044a-4bae-b681-2b09caf1de0f",
   "metadata": {},
   "outputs": [],
   "source": []
  },
  {
   "cell_type": "code",
   "execution_count": null,
   "id": "d7f8f2ee-942b-41ff-98a3-0a716734f41e",
   "metadata": {},
   "outputs": [],
   "source": []
  },
  {
   "cell_type": "code",
   "execution_count": null,
   "id": "f5612d11-8d78-4063-9196-bd1bce688421",
   "metadata": {},
   "outputs": [],
   "source": []
  },
  {
   "cell_type": "code",
   "execution_count": null,
   "id": "9a15fa33-5a7d-4317-96f0-b89dde97ec3a",
   "metadata": {},
   "outputs": [],
   "source": []
  },
  {
   "cell_type": "code",
   "execution_count": null,
   "id": "c381437b-f01f-45ab-ba0b-10c72d05d823",
   "metadata": {},
   "outputs": [],
   "source": []
  },
  {
   "cell_type": "code",
   "execution_count": null,
   "id": "2508fd09-32b4-4344-a62e-44658e808423",
   "metadata": {},
   "outputs": [],
   "source": []
  },
  {
   "cell_type": "code",
   "execution_count": null,
   "id": "5306f42f-c1a4-48ae-b067-15f2da67a301",
   "metadata": {},
   "outputs": [],
   "source": []
  },
  {
   "cell_type": "code",
   "execution_count": null,
   "id": "370d29c7-2109-4e07-a126-5adb6efe6614",
   "metadata": {},
   "outputs": [],
   "source": []
  },
  {
   "cell_type": "code",
   "execution_count": null,
   "id": "382e99d1-bc07-457d-ae53-8d3e2fc3a0e7",
   "metadata": {},
   "outputs": [],
   "source": []
  },
  {
   "cell_type": "code",
   "execution_count": null,
   "id": "48a13c4b-a225-4821-8b89-9b76fe4ab5f5",
   "metadata": {},
   "outputs": [],
   "source": []
  },
  {
   "cell_type": "code",
   "execution_count": null,
   "id": "7492f42e-12da-44f0-be07-1373b8b6e528",
   "metadata": {},
   "outputs": [],
   "source": []
  },
  {
   "cell_type": "code",
   "execution_count": null,
   "id": "e72abcd7-0244-47e1-96e9-409d7de26cf0",
   "metadata": {},
   "outputs": [],
   "source": []
  },
  {
   "cell_type": "code",
   "execution_count": null,
   "id": "c9bba499-7e8c-4f60-9202-5f5e22917b4f",
   "metadata": {},
   "outputs": [],
   "source": []
  },
  {
   "cell_type": "code",
   "execution_count": null,
   "id": "7993b0b4-08cb-405e-8b17-5a7a990d8b68",
   "metadata": {},
   "outputs": [],
   "source": []
  },
  {
   "cell_type": "code",
   "execution_count": null,
   "id": "1cd07046-d8c2-42bd-a6dd-80a47d4955bf",
   "metadata": {},
   "outputs": [],
   "source": []
  },
  {
   "cell_type": "code",
   "execution_count": null,
   "id": "f5aec8a6-d2b6-48a4-935f-5b131a8b4a1a",
   "metadata": {},
   "outputs": [],
   "source": []
  },
  {
   "cell_type": "code",
   "execution_count": null,
   "id": "40d8efae-5906-4a35-893d-999483b38491",
   "metadata": {},
   "outputs": [],
   "source": [
    "# open random channel START"
   ]
  },
  {
   "cell_type": "code",
   "execution_count": 180,
   "id": "4076dd1e-a9e4-447f-898a-2849eccbaa6b",
   "metadata": {},
   "outputs": [],
   "source": [
    "def open_random_channel(driver):\n",
    "    # find all possible channels\n",
    "    channel_elements = driver.find_elements(By.XPATH, \"//span[contains(@data-testid, '-channel')]\")\n",
    "    \n",
    "    # choose some channel\n",
    "    channel_to_open = random.randint(0, len(channel_elements)-1)\n",
    "    \n",
    "    # open this channel\n",
    "    channel_elements[channel_to_open].click()\n",
    "    \n",
    "    # wait untill it is loaded\n",
    "    WebDriverWait(driver, 20).until(EC.visibility_of_element_located((By.XPATH, \"//*[contains(text(), 'Send a message to ')]\")))\n",
    "\n",
    "open_random_channel(driver)"
   ]
  },
  {
   "cell_type": "code",
   "execution_count": null,
   "id": "501c2011-ee33-4533-b7c4-84980bbceb38",
   "metadata": {},
   "outputs": [],
   "source": [
    "# open random channel END"
   ]
  },
  {
   "cell_type": "code",
   "execution_count": null,
   "id": "dd7c09b8-cf75-430a-a63d-1dc34e2d3cff",
   "metadata": {},
   "outputs": [],
   "source": []
  },
  {
   "cell_type": "code",
   "execution_count": null,
   "id": "3c7a3aa8-7755-46de-a931-1fd868f5d64f",
   "metadata": {},
   "outputs": [],
   "source": []
  },
  {
   "cell_type": "code",
   "execution_count": null,
   "id": "45ccf11c-eba2-4621-b322-21d4837ae1c6",
   "metadata": {},
   "outputs": [],
   "source": []
  },
  {
   "cell_type": "code",
   "execution_count": null,
   "id": "00948209-cb7b-43fa-a205-0f60892727c2",
   "metadata": {},
   "outputs": [],
   "source": []
  },
  {
   "cell_type": "code",
   "execution_count": null,
   "id": "da4215e9-7f9d-4a7e-a2d2-b1aea47b48b8",
   "metadata": {},
   "outputs": [],
   "source": []
  },
  {
   "cell_type": "code",
   "execution_count": null,
   "id": "18773dcc-ff01-4b8f-82de-b2e41fe319ce",
   "metadata": {},
   "outputs": [],
   "source": []
  },
  {
   "cell_type": "code",
   "execution_count": null,
   "id": "dec8ad99-8800-4682-b29d-0346574cdaf9",
   "metadata": {},
   "outputs": [],
   "source": []
  },
  {
   "cell_type": "code",
   "execution_count": null,
   "id": "9ce7eed6-5b94-4b62-ba60-0adafa6b0403",
   "metadata": {},
   "outputs": [],
   "source": []
  },
  {
   "cell_type": "code",
   "execution_count": 227,
   "id": "7a5b034a-150d-403e-9e55-32eca5ff9cc9",
   "metadata": {},
   "outputs": [],
   "source": []
  },
  {
   "cell_type": "code",
   "execution_count": 239,
   "id": "4768f478-1d10-441b-9242-b788827111c0",
   "metadata": {},
   "outputs": [],
   "source": []
  },
  {
   "cell_type": "code",
   "execution_count": 241,
   "id": "f94a146e-0e68-4d41-bc30-38f3f426cf63",
   "metadata": {},
   "outputs": [],
   "source": []
  },
  {
   "cell_type": "code",
   "execution_count": null,
   "id": "8ab3547b-ab28-4fc5-a9ec-e41f9abf3568",
   "metadata": {},
   "outputs": [],
   "source": []
  },
  {
   "cell_type": "code",
   "execution_count": 12,
   "id": "b05feff0-6fcd-4a5d-8eb0-5c496aa7a95d",
   "metadata": {},
   "outputs": [],
   "source": [
    "import pandas as pd\n",
    "\n",
    "def parse_profiles():\n",
    "    # Read the CSV file\n",
    "    df = pd.read_csv(\"profiles.csv\")\n",
    "\n",
    "    # Shuffle the DataFrame rows\n",
    "    df = df.sample(frac=1).reset_index(drop=True)\n",
    "\n",
    "    profiles = list()\n",
    "    for _, profile_info in df.iterrows():\n",
    "        profiles.append(TownsProfileManager(\n",
    "            profile_id=profile_info[\"profile_id\"],\n",
    "            anty_type=profile_info[\"anty_type\"],\n",
    "            login_with=profile_info[\"login_with\"]\n",
    "        ))\n",
    "\n",
    "    return profiles"
   ]
  },
  {
   "cell_type": "code",
   "execution_count": 14,
   "id": "18b279ce-5713-447f-acfc-a2f540843486",
   "metadata": {},
   "outputs": [],
   "source": [
    "profiles = parse_profiles()"
   ]
  },
  {
   "cell_type": "code",
   "execution_count": 16,
   "id": "597a2a35-0055-4dac-91b8-e7b0a459d8d6",
   "metadata": {},
   "outputs": [],
   "source": [
    "i = 0"
   ]
  },
  {
   "cell_type": "code",
   "execution_count": 24,
   "id": "1b110c7c-4c59-422b-8643-4ec01608bbbb",
   "metadata": {},
   "outputs": [],
   "source": [
    "towns_profile = profiles[i]\n",
    "town_link = \"https://app.towns.com/t/0xb35e312f60b7231922948ffebd050af0df534c92\""
   ]
  },
  {
   "cell_type": "code",
   "execution_count": 30,
   "id": "13d570c9-c715-40a1-8135-d04d45abf236",
   "metadata": {},
   "outputs": [
    {
     "data": {
      "text/plain": [
       "'https://app.towns.com/t/0x621101787b103de3133b4d264815f1e49a23ec76'"
      ]
     },
     "execution_count": 30,
     "metadata": {},
     "output_type": "execute_result"
    }
   ],
   "source": [
    "town_link = towns_profile.driver.current_url\n",
    "town_link = town_link[:town_link.rfind(\"/channels\")]\n",
    "town_link"
   ]
  },
  {
   "cell_type": "code",
   "execution_count": 28,
   "id": "e8ddc6ef-c1a7-4d7d-beba-8141469e2203",
   "metadata": {},
   "outputs": [
    {
     "name": "stderr",
     "output_type": "stream",
     "text": [
      "\u001b[32m2025-04-14 12:33:31.901\u001b[0m | \u001b[1mINFO    \u001b[0m | \u001b[36msrc.towns_actions.open_towns\u001b[0m:\u001b[36mopen_towns\u001b[0m:\u001b[36m14\u001b[0m - \u001b[1mProfile_id: 577165494. OPEN TOWNs action just have started!\u001b[0m\n",
      "\u001b[32m2025-04-14 12:33:36.031\u001b[0m | \u001b[1mINFO    \u001b[0m | \u001b[36msrc.towns_actions.open_towns\u001b[0m:\u001b[36mopen_towns\u001b[0m:\u001b[36m30\u001b[0m - \u001b[1mProfile_id: 577165494. Successfully OPENED main page!\u001b[0m\n",
      "\u001b[32m2025-04-14 12:33:36.277\u001b[0m | \u001b[1mINFO    \u001b[0m | \u001b[36msrc.towns_actions.new_town\u001b[0m:\u001b[36mcreate_new_town\u001b[0m:\u001b[36m17\u001b[0m - \u001b[1mProfile_id: 577165494. CREATE STATE TOWN action just have started!\u001b[0m\n"
     ]
    },
    {
     "ename": "TypeError",
     "evalue": "expected str, bytes or os.PathLike object, not NoneType",
     "output_type": "error",
     "traceback": [
      "\u001b[0;31m---------------------------------------------------------------------------\u001b[0m",
      "\u001b[0;31mTypeError\u001b[0m                                 Traceback (most recent call last)",
      "Cell \u001b[0;32mIn[28], line 3\u001b[0m\n\u001b[1;32m      1\u001b[0m open_towns(towns_profile)\n\u001b[0;32m----> 3\u001b[0m create_new_town(towns_profile, \u001b[38;5;124m\"\u001b[39m\u001b[38;5;124mstate\u001b[39m\u001b[38;5;124m\"\u001b[39m, cost\u001b[38;5;241m=\u001b[39m\u001b[38;5;241m0.1\u001b[39m)\n",
      "File \u001b[0;32m~/program_files/github_asevlad/Towns/src/towns_actions/new_town.py:109\u001b[0m, in \u001b[0;36mcreate_new_town\u001b[0;34m(towns_profile, town_type, cost)\u001b[0m\n\u001b[1;32m    107\u001b[0m town_link \u001b[38;5;241m=\u001b[39m towns_profile\u001b[38;5;241m.\u001b[39mdriver\u001b[38;5;241m.\u001b[39mcurrent_url\n\u001b[1;32m    108\u001b[0m town_link \u001b[38;5;241m=\u001b[39m town_link[:town_link\u001b[38;5;241m.\u001b[39mrfind(\u001b[38;5;124m\"\u001b[39m\u001b[38;5;124m/channels\u001b[39m\u001b[38;5;124m\"\u001b[39m)]\n\u001b[0;32m--> 109\u001b[0m save_town_link(town_link, town_type)\n\u001b[1;32m    111\u001b[0m \u001b[38;5;28;01mif\u001b[39;00m town_type\u001b[38;5;241m.\u001b[39mupper() \u001b[38;5;241m==\u001b[39m \u001b[38;5;124m\"\u001b[39m\u001b[38;5;124mSTATE\u001b[39m\u001b[38;5;124m\"\u001b[39m:\n\u001b[1;32m    112\u001b[0m     towns_profile\u001b[38;5;241m.\u001b[39mstate_towns\u001b[38;5;241m.\u001b[39mappend(town_link)\n",
      "File \u001b[0;32m~/program_files/github_asevlad/Towns/src/utils.py:101\u001b[0m, in \u001b[0;36msave_town_link\u001b[0;34m(town_link, town_type)\u001b[0m\n\u001b[1;32m     98\u001b[0m     \u001b[38;5;28;01mpass\u001b[39;00m\n\u001b[1;32m    100\u001b[0m \u001b[38;5;28;01mwith\u001b[39;00m message_lock:\n\u001b[0;32m--> 101\u001b[0m     \u001b[38;5;28;01mwith\u001b[39;00m \u001b[38;5;28mopen\u001b[39m(towns_links_path, \u001b[38;5;124m'\u001b[39m\u001b[38;5;124ma\u001b[39m\u001b[38;5;124m'\u001b[39m) \u001b[38;5;28;01mas\u001b[39;00m file:\n\u001b[1;32m    102\u001b[0m         file\u001b[38;5;241m.\u001b[39mwrite(\u001b[38;5;124m\"\u001b[39m\u001b[38;5;130;01m\\n\u001b[39;00m\u001b[38;5;124m\"\u001b[39m \u001b[38;5;241m+\u001b[39m town_link)\n",
      "\u001b[0;31mTypeError\u001b[0m: expected str, bytes or os.PathLike object, not NoneType"
     ]
    }
   ],
   "source": [
    "open_towns(towns_profile)\n",
    "\n",
    "create_new_town(towns_profile, \"state\", cost=0.1)"
   ]
  },
  {
   "cell_type": "code",
   "execution_count": 26,
   "id": "7515491f-f61e-4190-831f-e7a0be2327d3",
   "metadata": {},
   "outputs": [
    {
     "name": "stderr",
     "output_type": "stream",
     "text": [
      "\u001b[32m2025-04-14 12:32:39.405\u001b[0m | \u001b[1mINFO    \u001b[0m | \u001b[36msrc.towns_actions.open_towns\u001b[0m:\u001b[36mopen_towns\u001b[0m:\u001b[36m14\u001b[0m - \u001b[1mProfile_id: 577165494. OPEN TOWNs action just have started!\u001b[0m\n",
      "\u001b[32m2025-04-14 12:33:04.565\u001b[0m | \u001b[31m\u001b[1mERROR   \u001b[0m | \u001b[36msrc.towns_actions.open_towns\u001b[0m:\u001b[36mopen_towns\u001b[0m:\u001b[36m37\u001b[0m - \u001b[31m\u001b[1mProfile_id: 577165494. Message:\u001b[0m\n"
     ]
    },
    {
     "ename": "TimeoutException",
     "evalue": "Message: \n",
     "output_type": "error",
     "traceback": [
      "\u001b[0;31m---------------------------------------------------------------------------\u001b[0m",
      "\u001b[0;31mTimeoutException\u001b[0m                          Traceback (most recent call last)",
      "Cell \u001b[0;32mIn[26], line 3\u001b[0m\n\u001b[1;32m      1\u001b[0m towns_profile\u001b[38;5;241m.\u001b[39mopen_profile()\n\u001b[0;32m----> 3\u001b[0m open_towns(towns_profile)\n\u001b[1;32m      5\u001b[0m create_new_town(towns_profile, \u001b[38;5;124m\"\u001b[39m\u001b[38;5;124mstate\u001b[39m\u001b[38;5;124m\"\u001b[39m, cost\u001b[38;5;241m=\u001b[39m\u001b[38;5;241m0.1\u001b[39m)\n",
      "File \u001b[0;32m~/program_files/github_asevlad/Towns/src/towns_actions/open_towns.py:25\u001b[0m, in \u001b[0;36mopen_towns\u001b[0;34m(towns_profile)\u001b[0m\n\u001b[1;32m     21\u001b[0m towns_profile\u001b[38;5;241m.\u001b[39mdriver\u001b[38;5;241m.\u001b[39mimplicitly_wait(\u001b[38;5;241m5\u001b[39m)\n\u001b[1;32m     23\u001b[0m \u001b[38;5;28;01mif\u001b[39;00m \u001b[38;5;124m\"\u001b[39m\u001b[38;5;124mTowns\u001b[39m\u001b[38;5;124m\"\u001b[39m \u001b[38;5;129;01min\u001b[39;00m towns_profile\u001b[38;5;241m.\u001b[39mdriver\u001b[38;5;241m.\u001b[39mtitle:\n\u001b[1;32m     24\u001b[0m     \u001b[38;5;66;03m# wait till open\u001b[39;00m\n\u001b[0;32m---> 25\u001b[0m     element \u001b[38;5;241m=\u001b[39m WebDriverWait(towns_profile\u001b[38;5;241m.\u001b[39mdriver, \u001b[38;5;241m20\u001b[39m)\u001b[38;5;241m.\u001b[39muntil(EC\u001b[38;5;241m.\u001b[39mvisibility_of_element_located((By\u001b[38;5;241m.\u001b[39mXPATH, \u001b[38;5;124m\"\u001b[39m\u001b[38;5;124m//a[@href=\u001b[39m\u001b[38;5;124m'\u001b[39m\u001b[38;5;124m/t/new\u001b[39m\u001b[38;5;124m'\u001b[39m\u001b[38;5;124m] | //*[contains(text(), \u001b[39m\u001b[38;5;124m'\u001b[39m\u001b[38;5;124mLog In\u001b[39m\u001b[38;5;124m'\u001b[39m\u001b[38;5;124m)]\u001b[39m\u001b[38;5;124m\"\u001b[39m)))\n\u001b[1;32m     27\u001b[0m     time\u001b[38;5;241m.\u001b[39msleep(\u001b[38;5;241m2\u001b[39m)\n\u001b[1;32m     29\u001b[0m     \u001b[38;5;66;03m# return True if Login is needed\u001b[39;00m\n",
      "File \u001b[0;32m~/anaconda3/lib/python3.12/site-packages/selenium/webdriver/support/wait.py:146\u001b[0m, in \u001b[0;36mWebDriverWait.until\u001b[0;34m(self, method, message)\u001b[0m\n\u001b[1;32m    144\u001b[0m         \u001b[38;5;28;01mbreak\u001b[39;00m\n\u001b[1;32m    145\u001b[0m     time\u001b[38;5;241m.\u001b[39msleep(\u001b[38;5;28mself\u001b[39m\u001b[38;5;241m.\u001b[39m_poll)\n\u001b[0;32m--> 146\u001b[0m \u001b[38;5;28;01mraise\u001b[39;00m TimeoutException(message, screen, stacktrace)\n",
      "\u001b[0;31mTimeoutException\u001b[0m: Message: \n"
     ]
    }
   ],
   "source": [
    "towns_profile.open_profile()\n",
    "\n",
    "open_towns(towns_profile)\n",
    "\n",
    "create_new_town(towns_profile, \"state\", cost=0.1)"
   ]
  },
  {
   "cell_type": "code",
   "execution_count": 36,
   "id": "68c488a9-aeaf-45fa-890d-8485d123efd8",
   "metadata": {},
   "outputs": [
    {
     "name": "stderr",
     "output_type": "stream",
     "text": [
      "\u001b[32m2025-04-14 11:05:23.920\u001b[0m | \u001b[1mINFO    \u001b[0m | \u001b[36msrc.towns_actions.open_towns\u001b[0m:\u001b[36mopen_towns\u001b[0m:\u001b[36m14\u001b[0m - \u001b[1mProfile_id: 577165838. OPEN TOWNs action just have started!\u001b[0m\n",
      "\u001b[32m2025-04-14 11:05:29.498\u001b[0m | \u001b[1mINFO    \u001b[0m | \u001b[36msrc.towns_actions.open_towns\u001b[0m:\u001b[36mopen_towns\u001b[0m:\u001b[36m30\u001b[0m - \u001b[1mProfile_id: 577165838. Successfully OPENED main page!\u001b[0m\n",
      "\u001b[32m2025-04-14 11:05:29.534\u001b[0m | \u001b[1mINFO    \u001b[0m | \u001b[36msrc.towns_actions.write_message\u001b[0m:\u001b[36mwrite_n_messages\u001b[0m:\u001b[36m28\u001b[0m - \u001b[1mProfile_id: 577165838. WRITE MESSAGES action just have started!\u001b[0m\n",
      "\u001b[32m2025-04-14 11:06:17.792\u001b[0m | \u001b[1mINFO    \u001b[0m | \u001b[36msrc.towns_actions.write_message\u001b[0m:\u001b[36mwrite_n_messages\u001b[0m:\u001b[36m71\u001b[0m - \u001b[1mProfile_id: 577165838. Successfully WRITTEN MESSAGE!\u001b[0m\n"
     ]
    }
   ],
   "source": [
    "towns_profile.open_profile()\n",
    "\n",
    "open_towns(towns_profile)\n",
    "\n",
    "# write a message\n",
    "write_n_messages(towns_profile, town_link, n_messages=1, time_delay=15)"
   ]
  },
  {
   "cell_type": "code",
   "execution_count": 38,
   "id": "5d7c7a22-6563-4b27-81d1-0552c51609a9",
   "metadata": {},
   "outputs": [],
   "source": [
    "i+=1"
   ]
  },
  {
   "cell_type": "code",
   "execution_count": 40,
   "id": "f5c0e712-4a3a-4959-b7cd-1eee8a7c500f",
   "metadata": {},
   "outputs": [],
   "source": [
    "towns_profile.close_profile()"
   ]
  },
  {
   "cell_type": "code",
   "execution_count": null,
   "id": "301d5c36-f1d5-4cd7-ad34-f257fb73e75a",
   "metadata": {},
   "outputs": [],
   "source": []
  },
  {
   "cell_type": "code",
   "execution_count": null,
   "id": "ad1d9a9a-2897-4019-8a6f-31e97498c1a1",
   "metadata": {},
   "outputs": [],
   "source": []
  },
  {
   "cell_type": "code",
   "execution_count": null,
   "id": "3862c58b-c1dd-4b64-b937-226f15760090",
   "metadata": {},
   "outputs": [],
   "source": []
  },
  {
   "cell_type": "code",
   "execution_count": null,
   "id": "8aff8bcc-5b4d-4575-b8d1-ebebb07ad012",
   "metadata": {},
   "outputs": [],
   "source": []
  },
  {
   "cell_type": "code",
   "execution_count": null,
   "id": "e65eaf48-6739-422a-9bf6-68b0fff2dbb2",
   "metadata": {},
   "outputs": [],
   "source": []
  },
  {
   "cell_type": "code",
   "execution_count": null,
   "id": "8f6f9c33-ea0c-4f91-bfff-3bab5403a845",
   "metadata": {},
   "outputs": [],
   "source": []
  },
  {
   "cell_type": "code",
   "execution_count": null,
   "id": "30bb8953-45e7-4944-b41b-42d0ae544912",
   "metadata": {},
   "outputs": [],
   "source": []
  },
  {
   "cell_type": "code",
   "execution_count": null,
   "id": "b42a7329-e290-401d-be7e-13ca96031db3",
   "metadata": {},
   "outputs": [],
   "source": []
  },
  {
   "cell_type": "code",
   "execution_count": null,
   "id": "70fed34f-c952-46ae-a8fa-3f68625324ef",
   "metadata": {},
   "outputs": [],
   "source": []
  },
  {
   "cell_type": "code",
   "execution_count": null,
   "id": "1a564257-5426-4e71-897f-4f36b32f90b1",
   "metadata": {},
   "outputs": [],
   "source": []
  },
  {
   "cell_type": "code",
   "execution_count": null,
   "id": "e1ddbe91-ac73-44da-b0a2-12df61428fc1",
   "metadata": {},
   "outputs": [],
   "source": []
  },
  {
   "cell_type": "code",
   "execution_count": null,
   "id": "52c35ad5-1a86-459f-9607-3a8dd4e375c1",
   "metadata": {},
   "outputs": [],
   "source": []
  },
  {
   "cell_type": "code",
   "execution_count": null,
   "id": "c932f943-1092-4d5f-959a-7f4fe9cd4a14",
   "metadata": {},
   "outputs": [],
   "source": []
  },
  {
   "cell_type": "code",
   "execution_count": null,
   "id": "224e632e-dcb3-4268-a4d9-d073f7ae0089",
   "metadata": {},
   "outputs": [],
   "source": []
  },
  {
   "cell_type": "code",
   "execution_count": null,
   "id": "c451e0fc-2fe0-4ee7-9dac-4d8fc11a20b9",
   "metadata": {},
   "outputs": [],
   "source": []
  },
  {
   "cell_type": "code",
   "execution_count": null,
   "id": "266cc9b0-a3be-4db5-98ea-a9790866bacf",
   "metadata": {},
   "outputs": [],
   "source": []
  },
  {
   "cell_type": "code",
   "execution_count": null,
   "id": "12458966-b0e1-4732-8e02-6c6b219dc725",
   "metadata": {},
   "outputs": [],
   "source": []
  },
  {
   "cell_type": "code",
   "execution_count": null,
   "id": "65d5309c-bd33-47c7-91a5-9b6fd5b163fa",
   "metadata": {},
   "outputs": [],
   "source": []
  },
  {
   "cell_type": "code",
   "execution_count": null,
   "id": "f9fd993e-d1d8-4aaf-8379-68f6040b154a",
   "metadata": {},
   "outputs": [],
   "source": []
  },
  {
   "cell_type": "code",
   "execution_count": null,
   "id": "11c23605-7d05-4289-afc5-da7da550ca86",
   "metadata": {},
   "outputs": [],
   "source": [
    "# write review START"
   ]
  },
  {
   "cell_type": "code",
   "execution_count": 351,
   "id": "432e5877-18ba-443d-a7f4-d0830d9d2447",
   "metadata": {},
   "outputs": [],
   "source": [
    "def write_review(driver):\n",
    "    # open review tab\n",
    "    review_element = WebDriverWait(driver, 20).until(\n",
    "        EC.visibility_of_element_located((By.XPATH, \"//*[contains(text(), 'Review This Town')]\")))\n",
    "    review_element.click()\n",
    "\n",
    "    # click write_review button to open box with writing review\n",
    "    write_review_element = WebDriverWait(driver, 20).until(\n",
    "        EC.visibility_of_element_located((By.XPATH, \"//*[contains(text(), 'Write a Review')]\")))\n",
    "    write_review_element.click()\n",
    "\n",
    "    # find an element in the box\n",
    "    your_review_element = WebDriverWait(driver, 20).until(\n",
    "        EC.visibility_of_element_located((By.XPATH, \".//*[contains(text(), 'Your Review')]\")))\n",
    "    your_review_element_xpath = get_full_xpath_element(driver, your_review_element)\n",
    "    \n",
    "    # find xpath of the review box\n",
    "    review_box_xpath = your_review_element_xpath[:your_review_element_xpath.rfind(\"span[\") - 1]\n",
    "    review_box_element = driver.find_element(\"xpath\", review_box_xpath)\n",
    "\n",
    "    # find text_area\n",
    "    review_element = review_box_element.find_element(\"xpath\", \".//textarea\")\n",
    "    # generate review\n",
    "    review_text = generate_review()\n",
    "    # send text to the textarea\n",
    "    review_element.send_keys(review_text)\n",
    "\n",
    "    time.sleep(1)\n",
    "    \n",
    "    # find rating element\n",
    "    select_rating_element = driver.find_element(\"xpath\",\"//*[contains(text(), 'Select your rating')]\")\n",
    "    rating = random.randint(4, 5)\n",
    "    rating_element = select_rating_element.find_element(\"xpath\", \"..\").find_elements(\"xpath\", \".//div\")[rating - 1]\n",
    "    # rate town\n",
    "    rating_element.click()\n",
    "\n",
    "    time.sleep(1) # sleep between ac\n",
    "    \n",
    "    # click Post_review\n",
    "    your_review_element = WebDriverWait(driver, 20).until(\n",
    "        EC.visibility_of_element_located((By.XPATH, \"//*[contains(text(), 'Post Review')]\")))\n",
    "    post_review_element.click()\n",
    "    \n",
    "    # click on Pay_with_ETH\n",
    "    your_review_element = WebDriverWait(driver, 20).until(\n",
    "        EC.visibility_of_element_located((By.XPATH, \"//*[contains(text(), 'Pay with ETH')]\")))\n",
    "    pay_with_ETH_element.click()\n",
    "    \n",
    "    # Wait till review will be submitted\n",
    "    driver.find_element(\"xpath\", \"//*[contains(text(), 'Review posted successfully')]\")\n",
    "\n",
    "    time.sleep(1)\n",
    "    \n",
    "def send_keys(element, text):\n",
    "    for letter in text:\n",
    "        review_element.send_keys(letter)\n",
    "        time.sleep(random.randint(1, 7)/100)\n",
    "    \n",
    "def generate_review():\n",
    "    return \"great town. I guess it will grow and grow\""
   ]
  },
  {
   "cell_type": "code",
   "execution_count": 399,
   "id": "703b361d-854c-4b61-97f6-afe4de032ded",
   "metadata": {},
   "outputs": [],
   "source": [
    "# write review END"
   ]
  },
  {
   "cell_type": "code",
   "execution_count": 2,
   "id": "d9bc981d-212c-45f8-a085-51156963f7ac",
   "metadata": {},
   "outputs": [],
   "source": [
    "def trim_stacktrace(log: str) -> str:\n",
    "    \"\"\"\n",
    "    Keeps only the first two stacktrace lines that start with '#'.\n",
    "    \"\"\"\n",
    "    lines = log.strip().splitlines()\n",
    "    trimmed_lines = []\n",
    "    count = 0\n",
    "\n",
    "    for line in lines:\n",
    "        if line.strip().startswith(\"#\"):\n",
    "            if count < 2:\n",
    "                trimmed_lines.append(line)\n",
    "                count += 1\n",
    "            else:\n",
    "                break\n",
    "        else:\n",
    "            trimmed_lines.append(line)\n",
    "\n",
    "    return \"\\n\".join(trimmed_lines)\n"
   ]
  },
  {
   "cell_type": "code",
   "execution_count": 4,
   "id": "d3364263-ad8e-4b02-9506-80f3cfff66ab",
   "metadata": {},
   "outputs": [
    {
     "name": "stdout",
     "output_type": "stream",
     "text": [
      "Stacktrace:\n",
      "#0 0x652a66e0a29e <unknown>\n",
      "#1 0x652a668d9de6 <unknown>\n"
     ]
    }
   ],
   "source": [
    "log = \"\"\"\n",
    "Stacktrace:\n",
    "#0 0x652a66e0a29e <unknown>\n",
    "#1 0x652a668d9de6 <unknown>\n",
    "#2 0x652a66925685 <unknown>\n",
    "#3 0x652a66925a81 <unknown>\n",
    "#4 0x652a6696d9a4 <unknown>\n",
    "\"\"\"\n",
    "\n",
    "print(trim_stacktrace(log))\n"
   ]
  },
  {
   "cell_type": "code",
   "execution_count": null,
   "id": "beea00eb-cdfb-486e-821c-1852ae5347d8",
   "metadata": {},
   "outputs": [],
   "source": []
  },
  {
   "cell_type": "code",
   "execution_count": null,
   "id": "368d0295-38c5-49d0-adf6-54de136ab366",
   "metadata": {},
   "outputs": [],
   "source": []
  },
  {
   "cell_type": "code",
   "execution_count": null,
   "id": "46edfe2f-632c-4986-b40e-b37b1732294e",
   "metadata": {},
   "outputs": [],
   "source": []
  },
  {
   "cell_type": "code",
   "execution_count": null,
   "id": "70e43cbd-0ceb-49f8-92a5-38fc90f3892f",
   "metadata": {},
   "outputs": [],
   "source": []
  },
  {
   "cell_type": "code",
   "execution_count": null,
   "id": "4bbdb887-5ccf-43e1-8911-09f5bd1d4892",
   "metadata": {},
   "outputs": [],
   "source": []
  },
  {
   "cell_type": "code",
   "execution_count": 6,
   "id": "d927dc0b-cc5e-4ffb-af5a-93900a7b32e6",
   "metadata": {},
   "outputs": [],
   "source": [
    "def generate_message_flow(last_messages, current_wallet):\n",
    "    message_flow = \"\"\n",
    "    persons = dict()\n",
    "\n",
    "    for message_info in last_messages:\n",
    "        if current_wallet == message_info.get(\"sender\", \"\"):\n",
    "            message_flow += f\"You: {message_info.get('text', '')}\\n\"\n",
    "        else:\n",
    "            if message_info.get(\"sender\", \"\") not in persons:\n",
    "                persons[message_info.get(\"sender\", \"\")] = len(persons) + 1\n",
    "            message_flow += f\"Person_{persons.get(message_info.get(\"sender\", \"\"), 0)}: {message_info.get(\"text\")}\\n\"\n",
    "    return message_flow[:-1]"
   ]
  },
  {
   "cell_type": "code",
   "execution_count": 8,
   "id": "7d786b5a-f5e4-4d5a-99b4-59ab497e3cd5",
   "metadata": {},
   "outputs": [],
   "source": [
    "m = [\n",
    "    {\"sender\": \"0\", \"text\": \"text1\", \"timestamp\": 0},\n",
    "    {\"sender\": \"1\", \"text\": \"text2\", \"timestamp\": 1},\n",
    "    {\"sender\": \"0\", \"text\": \"text3\", \"timestamp\": 2},\n",
    "    {\"sender\": \"2\", \"text\": \"text4\", \"timestamp\": 3},\n",
    "]"
   ]
  },
  {
   "cell_type": "code",
   "execution_count": 12,
   "id": "0bf5fcec-2d7c-480b-a6f8-198346884c2a",
   "metadata": {},
   "outputs": [
    {
     "data": {
      "text/plain": [
       "'You: text1\\nPerson_1: text2\\nYou: text3\\nPerson_2: text4'"
      ]
     },
     "execution_count": 12,
     "metadata": {},
     "output_type": "execute_result"
    }
   ],
   "source": [
    "generate_message_flow(m, \"0\")"
   ]
  },
  {
   "cell_type": "code",
   "execution_count": null,
   "id": "b906be80-00bc-47d5-a9de-b1b38608f47c",
   "metadata": {},
   "outputs": [],
   "source": []
  }
 ],
 "metadata": {
  "kernelspec": {
   "display_name": "Python [conda env:base] *",
   "language": "python",
   "name": "conda-base-py"
  },
  "language_info": {
   "codemirror_mode": {
    "name": "ipython",
    "version": 3
   },
   "file_extension": ".py",
   "mimetype": "text/x-python",
   "name": "python",
   "nbconvert_exporter": "python",
   "pygments_lexer": "ipython3",
   "version": "3.12.7"
  }
 },
 "nbformat": 4,
 "nbformat_minor": 5
}
