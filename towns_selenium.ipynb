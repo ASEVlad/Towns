{
 "cells": [
  {
   "cell_type": "code",
   "execution_count": 7,
   "id": "843c076c-0f40-482a-b810-9cb8beb9407c",
   "metadata": {},
   "outputs": [
    {
     "name": "stdout",
     "output_type": "stream",
     "text": [
      "Warning! To work with pyppeteer.\n",
      " You need install it with: pip install pyppeteer\n",
      "Warning! To work with playwright.\n",
      " You need install it with: pip install playwright\n"
     ]
    }
   ],
   "source": [
    "import os\n",
    "import time\n",
    "import pyautogui\n",
    "import random\n",
    "from dotenv import load_dotenv\n",
    "import pyperclip\n",
    "import pyanty\n",
    "from web3 import Web3\n",
    "from openai import OpenAI\n",
    "import requests\n",
    "\n",
    "from selenium.webdriver.common.by import By\n",
    "from selenium.webdriver.support.ui import WebDriverWait\n",
    "from selenium.webdriver.support import expected_conditions as EC"
   ]
  },
  {
   "cell_type": "code",
   "execution_count": 9,
   "id": "3db89873-7aca-406a-b2a0-379ae149ef54",
   "metadata": {},
   "outputs": [],
   "source": [
    "def get_full_xpath_element(driver, element):\n",
    "    full_xpath_element= driver.execute_script(\n",
    "        \"\"\"function absoluteXPath(element) {\n",
    "            var comp, comps = [];\n",
    "            var parent = null;\n",
    "            var xpath = '';\n",
    "            var getPos = function(element) {\n",
    "                var position = 1, curNode;\n",
    "                if (element.nodeType == Node.ATTRIBUTE_NODE) {\n",
    "                    return null;\n",
    "                }\n",
    "                for (curNode = element.previousSibling; curNode; curNode = curNode.previousSibling) {\n",
    "                    if (curNode.nodeName == element.nodeName) {\n",
    "                        ++position;\n",
    "                    }\n",
    "                }\n",
    "                return position;\n",
    "            };\n",
    "            if (element instanceof Document) {\n",
    "                return '/';\n",
    "            }\n",
    "            for (; element && !(element instanceof Document); element = element.nodeType == Node.ATTRIBUTE_NODE ? element.ownerElement : element.parentNode) {\n",
    "                comp = comps[comps.length] = {};\n",
    "                comp.name = element.nodeName;\n",
    "                comp.position = getPos(element);\n",
    "            }\n",
    "            for (var i = comps.length - 1; i >= 0; i--) {\n",
    "                comp = comps[i];\n",
    "                xpath += '/' + comp.name.toLowerCase() + (comp.position > 1 ? '[' + comp.position + ']' : '');\n",
    "            }\n",
    "            return xpath;\n",
    "        }\n",
    "        return absoluteXPath(arguments[0]);\"\"\",\n",
    "        element\n",
    "    )\n",
    "    return full_xpath_element"
   ]
  },
  {
   "cell_type": "code",
   "execution_count": 41,
   "id": "1a917582-880c-4fcc-8f22-88e081765ef3",
   "metadata": {},
   "outputs": [],
   "source": [
    "load_dotenv()\n",
    "\n",
    "DOLPHIN_API = os.getenv(\"DOLPHIN_API\")\n",
    "TOWNS_LINK = os.getenv(\"TOWNS_LINK\")\n",
    "OPENAI_API = os.getenv(\"OPENAI_API\")"
   ]
  },
  {
   "cell_type": "code",
   "execution_count": 43,
   "id": "f92c0f50-ea4d-48be-8734-7a4230973e4d",
   "metadata": {},
   "outputs": [],
   "source": [
    "api = pyanty.DolphinAPI(api_key=DOLPHIN_API)"
   ]
  },
  {
   "cell_type": "code",
   "execution_count": null,
   "id": "c5e91b6b-d957-414b-8e2e-d91399c552e8",
   "metadata": {},
   "outputs": [],
   "source": []
  },
  {
   "cell_type": "code",
   "execution_count": 46,
   "id": "0c2860e7-cbf7-4c79-b230-ed01df18583e",
   "metadata": {},
   "outputs": [],
   "source": [
    "# not necessary\n",
    "response = api.get_profiles()\n",
    "profile_id = [profile[\"id\"] for profile in response[\"data\"]][15]"
   ]
  },
  {
   "cell_type": "code",
   "execution_count": null,
   "id": "21bc4e92-dd33-4087-afcb-6216eaa9ac44",
   "metadata": {},
   "outputs": [],
   "source": []
  },
  {
   "cell_type": "code",
   "execution_count": 49,
   "id": "2477ed8f-761d-463b-87d5-bbc50693d534",
   "metadata": {},
   "outputs": [],
   "source": [
    "# open profile with selenium (FINISHED)"
   ]
  },
  {
   "cell_type": "code",
   "execution_count": 51,
   "id": "b4703f71-afd6-4ba0-b8bd-910e6a85d2ec",
   "metadata": {},
   "outputs": [],
   "source": [
    "def open_profile_with_selenium(profile_id):\n",
    "    response = pyanty.run_profile(profile_id)\n",
    "    port = response['automation']['port']\n",
    "    driver = pyanty.get_driver(port=port)\n",
    "    \n",
    "    return driver\n",
    "\n",
    "driver = open_profile_with_selenium(profile_id)"
   ]
  },
  {
   "cell_type": "code",
   "execution_count": 19,
   "id": "beb68100-00a4-487b-82b4-7c1254b65be9",
   "metadata": {},
   "outputs": [],
   "source": [
    "# open profile with selenium END (FINISHED)"
   ]
  },
  {
   "cell_type": "code",
   "execution_count": null,
   "id": "adc37186-23b7-4b7c-a31f-1619481fd60d",
   "metadata": {},
   "outputs": [],
   "source": []
  },
  {
   "cell_type": "code",
   "execution_count": null,
   "id": "e2900f90-cc5e-4b74-9b49-897297bb6571",
   "metadata": {},
   "outputs": [],
   "source": []
  },
  {
   "cell_type": "code",
   "execution_count": null,
   "id": "482669da-cceb-4227-9c08-7f71be3f2019",
   "metadata": {},
   "outputs": [],
   "source": []
  },
  {
   "cell_type": "code",
   "execution_count": 23,
   "id": "a7db9710-5ea8-4962-8e80-5815c5358fe6",
   "metadata": {},
   "outputs": [],
   "source": [
    "# open towns START (FINISHED)"
   ]
  },
  {
   "cell_type": "code",
   "execution_count": 53,
   "id": "4ed0b8e4-d844-4e56-807b-2a4e90c67643",
   "metadata": {},
   "outputs": [
    {
     "data": {
      "text/plain": [
       "False"
      ]
     },
     "execution_count": 53,
     "metadata": {},
     "output_type": "execute_result"
    }
   ],
   "source": [
    "def open_towns(driver):\n",
    "    # open link\n",
    "    driver.execute_script(f\"window.open('https://app.towns.com/explore', '_blank');\")\n",
    "    driver.implicitly_wait(5)\n",
    "    \n",
    "    # make tab with Towns active \n",
    "    for handle in reversed(driver.window_handles):  # Iterate in reverse order\n",
    "        driver.switch_to.window(handle)\n",
    "        if \"Towns\" in driver.title:  # Adjust the title check if needed\n",
    "            break  # Found the correct tab\n",
    "\n",
    "    # wait till open\n",
    "    element = WebDriverWait(driver, 20).until(EC.visibility_of_element_located((By.XPATH, \"//a[@href='/t/new'] | //*[contains(text(), 'Log In')]\")))\n",
    "    \n",
    "    time.sleep(2)\n",
    "\n",
    "    # return True if Login is needed\n",
    "    return element.text == \"Login\"\n",
    "\n",
    "login_need = open_towns(driver)\n",
    "login_need"
   ]
  },
  {
   "cell_type": "code",
   "execution_count": 26,
   "id": "c91d514b-34da-44d4-a083-b512224fa4d4",
   "metadata": {},
   "outputs": [],
   "source": [
    "# open towns END (FINISHED)"
   ]
  },
  {
   "cell_type": "code",
   "execution_count": null,
   "id": "1bba2e49-cfbe-4891-a220-3d7bb4823bd8",
   "metadata": {},
   "outputs": [],
   "source": []
  },
  {
   "cell_type": "code",
   "execution_count": null,
   "id": "6d1c2bfb-608f-415e-8d18-5ed3583e5c5e",
   "metadata": {},
   "outputs": [],
   "source": []
  },
  {
   "cell_type": "code",
   "execution_count": 217,
   "id": "1cf0ab15-b7b2-435d-83a7-eee8f392d32b",
   "metadata": {},
   "outputs": [],
   "source": [
    "# Twitter login START "
   ]
  },
  {
   "cell_type": "code",
   "execution_count": 26,
   "id": "12473cec-8e54-4cb2-852e-fef553c51675",
   "metadata": {},
   "outputs": [],
   "source": [
    "def login_twitter():\n",
    "    # # find element with Login text\n",
    "    # login_p_element = WebDriverWait(driver, 20).until(EC.visibility_of_element_located((By.XPATH, \"//*[contains(text(), 'Log In')]\")))\n",
    "    # # get xpath\n",
    "    # login_p_xpath = get_full_xpath_element(driver, login_p_element)\n",
    "    # # get xpath of button with this element\n",
    "    # login_button_xpath = login_p_xpath[:login_p_xpath.rfind(\"button\") + 6]\n",
    "    # # get button element\n",
    "    # login_button_element = driver.find_element(By.XPATH, login_button_xpath)\n",
    "    # # click Login button\n",
    "    # login_button_element.click()\n",
    "\n",
    "    # find element with Login text\n",
    "    login_button_element = WebDriverWait(driver, 20).until(\n",
    "        EC.visibility_of_element_located((By.XPATH, \"//button[contains(text(), 'Log In')]\")))\n",
    "    # click Login button\n",
    "    login_button_element.click()\n",
    "    \n",
    "    # wait untill elements are loaded \n",
    "    WebDriverWait(driver, 20).until(\n",
    "        EC.visibility_of_element_located((By.XPATH, \"//button[contains(@class, 'LoginMethodButton')]\")))\n",
    "    # find login_method elements\n",
    "    login_elements = driver.find_elements(By.XPATH, \"//button[contains(@class, 'LoginMethodButton')]\")\n",
    "    # get twitter method_element\n",
    "    twitter_method_element = find_login_method_element(login_elements, \"Twitter\")\n",
    "    # click\n",
    "    twitter_method_element.click()\n",
    "    \n",
    "    # find authorize button\n",
    "    autorize_element = WebDriverWait(driver, 20).until(EC.visibility_of_element_located((By.XPATH, \"//button[@data-testid='OAuth_Consent_Button']\")))\n",
    "    # click\n",
    "    autorize_element.click()\n",
    "    \n",
    "    # wait until successfull text will appear \n",
    "    success_element = WebDriverWait(driver, 20).until(EC.visibility_of_element_located(\n",
    "        (By.XPATH, \"//*[contains(text(), 'Successfully connected with Twitter')] | //*[contains(text(), 'Authentication failed')]\")))\n",
    "\n",
    "    if success_element.text == \"Authentication failed\":\n",
    "        print(success_element.find_element(By.XPATH, \"..\").text)\n",
    "        return False\n",
    "    else:\n",
    "        return True\n",
    "\n",
    "def find_login_method_element(login_elements, method=\"Twitter\"):\n",
    "    # find twitter_login_method_element\n",
    "    login_method_element = None\n",
    "    for element in login_elements:\n",
    "        if element.text == method:\n",
    "            login_method_element = element\n",
    "    \n",
    "    return login_method_element\n",
    "\n",
    "if login_need:\n",
    "    login_twitter()"
   ]
  },
  {
   "cell_type": "code",
   "execution_count": 28,
   "id": "5930e623-e46e-4443-ae47-8792cd21a5b1",
   "metadata": {},
   "outputs": [],
   "source": [
    "# Twitter login END (FINISHED)"
   ]
  },
  {
   "cell_type": "code",
   "execution_count": null,
   "id": "f9a8906a-dda1-4178-9444-12439c5b0a17",
   "metadata": {},
   "outputs": [],
   "source": []
  },
  {
   "cell_type": "code",
   "execution_count": null,
   "id": "ebe6c28e-c810-44a7-8327-ab4b14e8b7f8",
   "metadata": {},
   "outputs": [],
   "source": []
  },
  {
   "cell_type": "code",
   "execution_count": null,
   "id": "d9b85357-a693-4d16-85de-8f2d0d3d44a6",
   "metadata": {},
   "outputs": [],
   "source": []
  },
  {
   "cell_type": "code",
   "execution_count": 33,
   "id": "a679be96-aff9-4501-a485-8f9408cb9fd0",
   "metadata": {},
   "outputs": [],
   "source": [
    "# login google START"
   ]
  },
  {
   "cell_type": "code",
   "execution_count": 35,
   "id": "72f45ed0-61d5-4f89-a6f0-a4779585420a",
   "metadata": {},
   "outputs": [],
   "source": [
    "def login_google():\n",
    "    # find element with Login text\n",
    "    login_button_element = WebDriverWait(driver, 20).until(EC.visibility_of_element_located((By.XPATH, \"//button[contains(text(), 'Log In')]\")))\n",
    "    # click Login button\n",
    "    login_button_element.click()\n",
    "\n",
    "    # wait till elements are visible\n",
    "    WebDriverWait(driver, 20).until(EC.visibility_of_element_located((By.XPATH, \"//button[contains(@class, 'LoginMethodButton')]\")))\n",
    "    # find login_method elements\n",
    "    login_elements = driver.find_elements(By.XPATH, \"//button[contains(@class, 'LoginMethodButton')]\")\n",
    "    # get and click twitter method_element\n",
    "    google_method_element = find_login_method_element(login_elements, \"Google\")\n",
    "    google_method_element.click()\n",
    "\n",
    "    # find and click first google account\n",
    "    login_elements = WebDriverWait(driver, 20).until(\n",
    "        EC.visibility_of_element_located((By.XPATH, \"//*[@role='link' and @data-item-index='0']\")))\n",
    "    login_elements.click()\n",
    "\n",
    "    # wait until successfull text will appear \n",
    "    success_element = WebDriverWait(driver, 20).until(EC.visibility_of_element_located(\n",
    "        (By.XPATH, \"//*[contains(text(), 'Successfully connected with Google')] | //*[contains(text(), 'Authentication failed')]\")))\n",
    "\n",
    "    if success_element.text == \"Authentication failed\":\n",
    "        print(success_element.find_element(By.XPATH, \"..\").text)\n",
    "        return False\n",
    "    else:\n",
    "        return True\n",
    "\n",
    "if login_need:\n",
    "    login_google()"
   ]
  },
  {
   "cell_type": "code",
   "execution_count": 37,
   "id": "e5b40add-4023-45b8-9cd0-353c93d32eca",
   "metadata": {},
   "outputs": [],
   "source": [
    "# login google END (FINISHED)"
   ]
  },
  {
   "cell_type": "code",
   "execution_count": null,
   "id": "18c78561-ccfa-45ea-9587-bc873b204540",
   "metadata": {},
   "outputs": [],
   "source": []
  },
  {
   "cell_type": "code",
   "execution_count": null,
   "id": "a19e3c97-9801-4226-bfaf-10142a587d97",
   "metadata": {},
   "outputs": [],
   "source": []
  },
  {
   "cell_type": "code",
   "execution_count": null,
   "id": "f54d79f8-78b3-46ca-9c9e-e17c98d9d47c",
   "metadata": {},
   "outputs": [],
   "source": []
  },
  {
   "cell_type": "code",
   "execution_count": null,
   "id": "b486fa9f-6b99-4ff6-891d-74bac2a9d1fa",
   "metadata": {},
   "outputs": [],
   "source": []
  },
  {
   "cell_type": "code",
   "execution_count": null,
   "id": "955992c6-d129-41bf-9348-528a8c31ae43",
   "metadata": {},
   "outputs": [],
   "source": []
  },
  {
   "cell_type": "code",
   "execution_count": null,
   "id": "c51056a7-db8e-40de-b2ed-aa28a1f30458",
   "metadata": {},
   "outputs": [],
   "source": []
  },
  {
   "cell_type": "code",
   "execution_count": null,
   "id": "e6e4b87c-c664-4f32-a2a9-3993f00ff93b",
   "metadata": {},
   "outputs": [],
   "source": [
    "# reset caches START"
   ]
  },
  {
   "cell_type": "code",
   "execution_count": 272,
   "id": "3eb13c90-116a-423b-8c39-9c54d6a51c48",
   "metadata": {},
   "outputs": [],
   "source": [
    "def reset_caches():\n",
    "    # find and click bug_report button\n",
    "    bug_report_element = WebDriverWait(driver, 20).until(EC.visibility_of_element_located((By.XPATH, \"//span[@data-testid='report-bug-button']\")))\n",
    "    bug_report_element.click()\n",
    "\n",
    "    # find and click reset_caches button\n",
    "    reset_caches_elements = WebDriverWait(driver, 20).until(EC.visibility_of_element_located((By.XPATH, \"//*[contains(text(), 'Reset Caches')]\")))\n",
    "    reset_caches_elements.click()\n",
    "    \n",
    "    # find and click confirm reset caches button\n",
    "    confirm_element = WebDriverWait(driver, 20).until(EC.visibility_of_element_located((By.XPATH, \"//button[contains(text(), 'Confirm')]\")))\n",
    "    confirm_element.click()\n",
    "\n",
    "# reset_caches()"
   ]
  },
  {
   "cell_type": "code",
   "execution_count": 264,
   "id": "2c4903f5-db1a-41d9-8e1f-4edcab510545",
   "metadata": {},
   "outputs": [],
   "source": [
    "# reset caches END (FINISHED)"
   ]
  },
  {
   "cell_type": "code",
   "execution_count": 266,
   "id": "7d9a2c63-67e3-443c-8670-1aed665dbbdb",
   "metadata": {},
   "outputs": [],
   "source": []
  },
  {
   "cell_type": "code",
   "execution_count": null,
   "id": "7a7cb875-d6b1-414b-9702-ad91cfbc1a13",
   "metadata": {},
   "outputs": [],
   "source": []
  },
  {
   "cell_type": "code",
   "execution_count": null,
   "id": "d9dc33f8-8637-477e-bf08-c2d79002f880",
   "metadata": {},
   "outputs": [],
   "source": []
  },
  {
   "cell_type": "code",
   "execution_count": null,
   "id": "5ece6004-5029-4c1e-a1fc-704e7be4a440",
   "metadata": {},
   "outputs": [],
   "source": [
    "# get connected wallet START"
   ]
  },
  {
   "cell_type": "code",
   "execution_count": 151,
   "id": "a398c7e2-8acb-435c-b898-5898524385bd",
   "metadata": {},
   "outputs": [
    {
     "data": {
      "text/plain": [
       "'0xBAFc33E259BDA12fdf5Bdf7e764508EBF772005e'"
      ]
     },
     "execution_count": 151,
     "metadata": {},
     "output_type": "execute_result"
    }
   ],
   "source": [
    "def get_connected_wallet():\n",
    "    def copy_connected_wallet():\n",
    "        # find element with Town Wallet <p>\n",
    "        towns_wallet_text_element = WebDriverWait(driver, 20).until(\n",
    "            EC.visibility_of_element_located((By.XPATH, \"//p[contains(text(), 'Towns Wallet')]\")))\n",
    "        # find and click on button that copy text\n",
    "        copy_wallet_element = towns_wallet_text_element.find_element(By.XPATH, \"..\").find_element(By.XPATH, \"span\")\n",
    "        copy_wallet_element.click()\n",
    "        \n",
    "        return pyperclip.paste()\n",
    "        \n",
    "    # find and click user-profile-button\n",
    "    user_profile_button_element = WebDriverWait(driver, 20).until(EC.visibility_of_element_located((By.XPATH, \"//span[@data-testid='user-profile-button']\")))\n",
    "    user_profile_button_element.click()\n",
    "\n",
    "    # find and click Linked Wallets button\n",
    "    linked_wallets_element = WebDriverWait(driver, 20).until(EC.visibility_of_element_located((By.XPATH, \"//*[contains(text(), 'Linked Wallets')]\")))\n",
    "    linked_wallets_element.click()\n",
    "\n",
    "    # retrieve connected wallet until 2 consequtive wallets are identical\n",
    "    copied_wallet = None\n",
    "    prev_copied_wallet = None\n",
    "    while True:\n",
    "        copied_wallet = copy_connected_wallet()\n",
    "        if copied_wallet == prev_copied_wallet:\n",
    "            return copied_wallet\n",
    "        else:\n",
    "            prev_copied_wallet = copied_wallet\n",
    "\n",
    "connected_wallet = get_connected_wallet()\n",
    "connected_wallet"
   ]
  },
  {
   "cell_type": "code",
   "execution_count": null,
   "id": "e757791a-826a-4ab4-9d24-83e7a6e194fa",
   "metadata": {},
   "outputs": [],
   "source": [
    "# get connected wallet END"
   ]
  },
  {
   "cell_type": "code",
   "execution_count": null,
   "id": "578730dd-aa6f-4378-b058-f5d84e4cd153",
   "metadata": {},
   "outputs": [],
   "source": []
  },
  {
   "cell_type": "code",
   "execution_count": null,
   "id": "b9d85844-9520-4d0a-93b4-6977f2742878",
   "metadata": {},
   "outputs": [],
   "source": []
  },
  {
   "cell_type": "code",
   "execution_count": null,
   "id": "bb15344a-8756-4552-a377-6cd40087b91a",
   "metadata": {},
   "outputs": [],
   "source": []
  },
  {
   "cell_type": "code",
   "execution_count": 51,
   "id": "7e43715b-7673-4c11-ae10-15efb4d74799",
   "metadata": {},
   "outputs": [],
   "source": [
    "# open random town START (FINISHED)"
   ]
  },
  {
   "cell_type": "code",
   "execution_count": 153,
   "id": "7cb1b4a7-4dfb-405a-b710-7c4d855a5378",
   "metadata": {},
   "outputs": [],
   "source": [
    "def open_random_town(driver):\n",
    "    # find create_new_town element \n",
    "    new_town_element = WebDriverWait(driver, 20).until(EC.visibility_of_element_located((By.XPATH, '//a[@href=\"/t/new\"]')))\n",
    "    new_town_xpath = get_full_xpath_element(driver, new_town_element)\n",
    "    \n",
    "    # find left_box element\n",
    "    left_box_xpath = new_town_xpath[:new_town_xpath.rfind(\"div[\") - 1]\n",
    "    left_box_element = driver.find_element(\"xpath\", left_box_xpath)\n",
    "    \n",
    "    # find all left_box elements\n",
    "    left_box_elements = left_box_element.find_elements(\"xpath\", \"./div\")\n",
    "    towns_num = len(left_box_elements) - 2\n",
    "    \n",
    "    # choose random towns\n",
    "    town_to_open = random.randint(0, towns_num - 1)\n",
    "    \n",
    "    # open random towns\n",
    "    left_box_elements[town_to_open + 2].click()\n",
    "    WebDriverWait(driver, 20).until(EC.visibility_of_element_located((By.XPATH, \"//*[contains(text(), 'Share Town Link')]\")))\n",
    "\n",
    "open_random_town(driver)"
   ]
  },
  {
   "cell_type": "code",
   "execution_count": 155,
   "id": "0ce1780c-fbf1-4a1b-aab5-5fcbd766c645",
   "metadata": {},
   "outputs": [],
   "source": [
    "# open random town END (FINISHED)"
   ]
  },
  {
   "cell_type": "code",
   "execution_count": null,
   "id": "ed1da105-4296-4959-bcee-f52fe7081e2e",
   "metadata": {},
   "outputs": [],
   "source": []
  },
  {
   "cell_type": "code",
   "execution_count": null,
   "id": "8e35b162-e04a-41c3-9916-97ebd60f48ec",
   "metadata": {},
   "outputs": [],
   "source": []
  },
  {
   "cell_type": "code",
   "execution_count": null,
   "id": "8ce4050f-85ee-4823-a5e9-9078ddd588ad",
   "metadata": {},
   "outputs": [],
   "source": []
  },
  {
   "cell_type": "code",
   "execution_count": 160,
   "id": "a562091b-759f-47c2-b93f-bbdacff53a9f",
   "metadata": {},
   "outputs": [],
   "source": [
    "# join town START"
   ]
  },
  {
   "cell_type": "code",
   "execution_count": 170,
   "id": "50ed8e99-6655-4217-9d2e-48d7995d614b",
   "metadata": {},
   "outputs": [],
   "source": [
    "def join_free_town(town_link):\n",
    "    # open town link\n",
    "    driver.get(town_link)\n",
    "\n",
    "    # check if you already a member\n",
    "    share_link_element = WebDriverWait(driver, 20).until(EC.visibility_of_element_located(\n",
    "        (By.XPATH, \"//*[contains(text(), 'Share Town Link')] | //*[contains(text(), 'Share Link')]\")))\n",
    "    if share_link_element.text == \"Share Town Link\":\n",
    "        print(\"You are already a member of this town\")\n",
    "        return False\n",
    "\n",
    "    # check if town is free\n",
    "    membership_element = WebDriverWait(driver, 20).until(EC.visibility_of_element_located((By.XPATH, \"//*[contains(text(), 'Membership')]\")))\n",
    "    price_box_element = membership_element.find_element(By.XPATH, \"..\").find_element(By.XPATH, \"..\").find_element(By.XPATH, \"..\")\n",
    "    if \"Free\" not in price_box_element.text:\n",
    "        print(\"Town is not Free\")\n",
    "        return False\n",
    "\n",
    "    # find and click JOIN button\n",
    "    join_element = WebDriverWait(driver, 20).until(EC.visibility_of_element_located((By.XPATH, \"//button[@type='button']\")))\n",
    "    join_element.click()"
   ]
  },
  {
   "cell_type": "code",
   "execution_count": 172,
   "id": "90551522-5352-4586-80d6-8f39999a99dc",
   "metadata": {},
   "outputs": [
    {
     "name": "stdout",
     "output_type": "stream",
     "text": [
      "You are already a member of this town\n"
     ]
    },
    {
     "data": {
      "text/plain": [
       "False"
      ]
     },
     "execution_count": 172,
     "metadata": {},
     "output_type": "execute_result"
    }
   ],
   "source": [
    "town_link = \"https://app.towns.com/t/0xdc443716b9c203ff3ee9f3631182bfedf205dac8/\"\n",
    "join_free_town(town_link)"
   ]
  },
  {
   "cell_type": "code",
   "execution_count": null,
   "id": "146af5f5-4272-45d6-a277-7d9d024220ce",
   "metadata": {},
   "outputs": [],
   "source": []
  },
  {
   "cell_type": "code",
   "execution_count": null,
   "id": "8128a17b-0741-44fb-b672-ee9df2b056c5",
   "metadata": {},
   "outputs": [],
   "source": []
  },
  {
   "cell_type": "code",
   "execution_count": null,
   "id": "e3a015d3-7d74-4a3f-86cd-2b6cbdf9d6eb",
   "metadata": {},
   "outputs": [],
   "source": []
  },
  {
   "cell_type": "code",
   "execution_count": 86,
   "id": "da48af31-6819-471c-957f-98fdb58f08c7",
   "metadata": {},
   "outputs": [],
   "source": [
    "# find and click JOIN button\n",
    "join_element = WebDriverWait(driver, 20).until(EC.visibility_of_element_located((By.XPATH, \"//button[contains(text(), 'Join')]\")))\n",
    "join_element.click()"
   ]
  },
  {
   "cell_type": "code",
   "execution_count": 100,
   "id": "c51685b4-0ee0-4f53-9c17-889e2b6c0b7a",
   "metadata": {},
   "outputs": [],
   "source": [
    "# wait till nft minting and welcome page. Find and click Join Town\n",
    "join_town_text_element = WebDriverWait(driver, 4).until(EC.visibility_of_element_located((By.XPATH, \"//*[contains(text(), 'Join Town')]\")))\n",
    "join_town_text_xpath = get_full_xpath_element(driver, join_town_text_element)\n",
    "join_town_button_xpath = join_town_text_xpath[:join_town_text_xpath.rfind(\"button\") + 6]\n",
    "join_town_button_element = driver.find_element(By.XPATH, join_town_button_xpath)\n",
    "join_town_button_element.click()"
   ]
  },
  {
   "cell_type": "code",
   "execution_count": null,
   "id": "b893a038-f9ac-48e6-b0b7-8733b13be409",
   "metadata": {},
   "outputs": [],
   "source": []
  },
  {
   "cell_type": "code",
   "execution_count": null,
   "id": "3bd3d9c7-b07b-4875-a294-d4bc1041c3c5",
   "metadata": {},
   "outputs": [],
   "source": [
    "# join town END"
   ]
  },
  {
   "cell_type": "code",
   "execution_count": null,
   "id": "8536459c-4937-441f-8373-a31a32174844",
   "metadata": {},
   "outputs": [],
   "source": []
  },
  {
   "cell_type": "code",
   "execution_count": null,
   "id": "45b7aa94-db2e-409f-a615-9bc1d17077b4",
   "metadata": {},
   "outputs": [],
   "source": []
  },
  {
   "cell_type": "code",
   "execution_count": null,
   "id": "4fe67564-78ba-4f02-9048-5b82f395666a",
   "metadata": {},
   "outputs": [],
   "source": []
  },
  {
   "cell_type": "code",
   "execution_count": null,
   "id": "ea276d97-9ee9-4302-9979-7aa27bdbc363",
   "metadata": {},
   "outputs": [],
   "source": [
    "# join payd TOWN"
   ]
  },
  {
   "cell_type": "code",
   "execution_count": 110,
   "id": "88e3547d-0a03-4da1-aac1-1a531304270e",
   "metadata": {},
   "outputs": [],
   "source": [
    "def get_base_balance(address):\n",
    "    # Replace with your Base RPC URL\n",
    "    BASE_RPC_URL = \"https://mainnet.base.org\"\n",
    "\n",
    "    # Connect to the Base network\n",
    "    web3 = Web3(Web3.HTTPProvider(BASE_RPC_URL))\n",
    "    \n",
    "    # Check if the connection is successful\n",
    "    if web3.is_connected():\n",
    "        print(\"Connected to Base Network\")\n",
    "    else:\n",
    "        print(\"Failed to connect\")\n",
    "    \n",
    "    # Get the balance (returns balance in Wei)\n",
    "    balance_wei = web3.eth.get_balance(address)\n",
    "    # Convert Wei to Ether\n",
    "    balance_eth = web3.from_wei(balance_wei, \"ether\")\n",
    "    print(f\"ETH Balance on Base: {balance_eth} ETH\")\n",
    "    \n",
    "    return balance_eth"
   ]
  },
  {
   "cell_type": "code",
   "execution_count": null,
   "id": "2dcf6c36-5e50-4999-b993-be82e16f3ca6",
   "metadata": {},
   "outputs": [],
   "source": []
  },
  {
   "cell_type": "code",
   "execution_count": null,
   "id": "ae5d0dcf-68cd-4db2-b36d-7950487993f6",
   "metadata": {},
   "outputs": [],
   "source": []
  },
  {
   "cell_type": "code",
   "execution_count": null,
   "id": "5e816652-4bba-479e-ad3a-2aac6c710323",
   "metadata": {},
   "outputs": [],
   "source": []
  },
  {
   "cell_type": "code",
   "execution_count": null,
   "id": "64cf6f20-cb26-4e8a-8b0f-f7cd175e167d",
   "metadata": {},
   "outputs": [],
   "source": []
  },
  {
   "cell_type": "code",
   "execution_count": 21,
   "id": "00cf6057-d335-45e5-90f9-de91fdd002b3",
   "metadata": {},
   "outputs": [],
   "source": [
    "def get_random_town_link():\n",
    "    # Read the file and get all links\n",
    "    with open(\"towns_links.txt\", \"r\", encoding=\"utf-8\") as file:\n",
    "        links = file.read().splitlines()  # Read lines and remove newline characters\n",
    "    \n",
    "    # Choose a random link\n",
    "    if links:\n",
    "        return random.choice(links)\n",
    "    else:\n",
    "        return None\n",
    "\n",
    "def open_town():\n",
    "    driver.get(get_random_town_link())\n",
    "    WebDriverWait(driver, 20).until(EC.visibility_of_element_located((By.XPATH, \"//*[contains(text(), 'Threads')]\")))\n"
   ]
  },
  {
   "cell_type": "code",
   "execution_count": 261,
   "id": "503dd8f6-8266-4986-b0b0-d1d3e558796a",
   "metadata": {},
   "outputs": [],
   "source": []
  },
  {
   "cell_type": "code",
   "execution_count": null,
   "id": "7993b0b4-08cb-405e-8b17-5a7a990d8b68",
   "metadata": {},
   "outputs": [],
   "source": []
  },
  {
   "cell_type": "code",
   "execution_count": null,
   "id": "3d8e2145-18bb-428a-90a1-96af81486368",
   "metadata": {},
   "outputs": [],
   "source": [
    "def check_available_channels():\n",
    "    "
   ]
  },
  {
   "cell_type": "code",
   "execution_count": null,
   "id": "1cd07046-d8c2-42bd-a6dd-80a47d4955bf",
   "metadata": {},
   "outputs": [],
   "source": []
  },
  {
   "cell_type": "code",
   "execution_count": null,
   "id": "f5aec8a6-d2b6-48a4-935f-5b131a8b4a1a",
   "metadata": {},
   "outputs": [],
   "source": []
  },
  {
   "cell_type": "code",
   "execution_count": null,
   "id": "40d8efae-5906-4a35-893d-999483b38491",
   "metadata": {},
   "outputs": [],
   "source": [
    "# open random channel START"
   ]
  },
  {
   "cell_type": "code",
   "execution_count": 180,
   "id": "4076dd1e-a9e4-447f-898a-2849eccbaa6b",
   "metadata": {},
   "outputs": [],
   "source": [
    "def open_random_channel(driver):\n",
    "    # find all possible channels\n",
    "    channel_elements = driver.find_elements(By.XPATH, \"//span[contains(@data-testid, '-channel')]\")\n",
    "    \n",
    "    # choose some channel\n",
    "    channel_to_open = random.randint(0, len(channel_elements)-1)\n",
    "    \n",
    "    # open this channel\n",
    "    channel_elements[channel_to_open].click()\n",
    "    \n",
    "    # wait untill it is loaded\n",
    "    WebDriverWait(driver, 20).until(EC.visibility_of_element_located((By.XPATH, \"//*[contains(text(), 'Send a message to ')]\")))\n",
    "\n",
    "open_random_channel(driver)"
   ]
  },
  {
   "cell_type": "code",
   "execution_count": null,
   "id": "501c2011-ee33-4533-b7c4-84980bbceb38",
   "metadata": {},
   "outputs": [],
   "source": [
    "# open random channel END"
   ]
  },
  {
   "cell_type": "code",
   "execution_count": null,
   "id": "dd7c09b8-cf75-430a-a63d-1dc34e2d3cff",
   "metadata": {},
   "outputs": [],
   "source": []
  },
  {
   "cell_type": "code",
   "execution_count": null,
   "id": "3c7a3aa8-7755-46de-a931-1fd868f5d64f",
   "metadata": {},
   "outputs": [],
   "source": []
  },
  {
   "cell_type": "code",
   "execution_count": null,
   "id": "45ccf11c-eba2-4621-b322-21d4837ae1c6",
   "metadata": {},
   "outputs": [],
   "source": []
  },
  {
   "cell_type": "code",
   "execution_count": null,
   "id": "f29472ee-2e40-4b80-a1f1-576920150850",
   "metadata": {},
   "outputs": [],
   "source": [
    "# write a message START"
   ]
  },
  {
   "cell_type": "code",
   "execution_count": 165,
   "id": "7a5b034a-150d-403e-9e55-32eca5ff9cc9",
   "metadata": {},
   "outputs": [],
   "source": [
    "# wait till page is loaded\n",
    "new_message_element = WebDriverWait(driver, 20).until(EC.visibility_of_element_located((By.XPATH, \"//*[contains(text(), 'Send a message to ')]\")))"
   ]
  },
  {
   "cell_type": "code",
   "execution_count": 131,
   "id": "c80953a6-8bdc-4bb2-8e8f-c8146e4b08c1",
   "metadata": {},
   "outputs": [],
   "source": [
    "# find messages\n",
    "message_elements = driver.find_elements(By.XPATH, \"//div[@data-testid='chat-message-container']\")"
   ]
  },
  {
   "cell_type": "code",
   "execution_count": 163,
   "id": "f4a721a8-55db-4bf5-9e5d-c5dfcc7af6ff",
   "metadata": {},
   "outputs": [
    {
     "name": "stdout",
     "output_type": "stream",
     "text": [
      "Decrypting problem!\n"
     ]
    }
   ],
   "source": [
    "def get_last_n_messages(message_elements):\n",
    "    messages = list()\n",
    "    errors = 0\n",
    "    \n",
    "    for i in range(1, 6):\n",
    "        try:\n",
    "            #find message text\n",
    "            message_text = message_elements[-i].find_element(By.TAG_NAME, \"p\").text\n",
    "            if \"Waiting for message to decrypt\" not in message_text:\n",
    "                messages.append(message_text)\n",
    "        except:\n",
    "            errors += 1\n",
    "    \n",
    "    if errors >= 2:\n",
    "        print(\"could load messages\")\n",
    "    if len(messages) == 0:\n",
    "        print(\"Decrypting problem!\")\n",
    "\n",
    "    return messages\n",
    "\n",
    "messages = get_last_n_messages(message_elements)"
   ]
  },
  {
   "cell_type": "code",
   "execution_count": 169,
   "id": "3696a5ed-2edf-4064-8f3d-43bb4b4d1d4e",
   "metadata": {},
   "outputs": [],
   "source": [
    "# generate next message based on previous messages\n",
    "def generate_next_message(messages):\n",
    "    next_message = \"Hello\"\n",
    "    \n",
    "    return next_message\n",
    "\n",
    "next_message = generate_next_message(messages)"
   ]
  },
  {
   "cell_type": "code",
   "execution_count": 185,
   "id": "f94a146e-0e68-4d41-bc30-38f3f426cf63",
   "metadata": {},
   "outputs": [],
   "source": [
    "new_message_element = new_message_element.find_element(By.XPATH, \"..\").find_element(By.XPATH, \"//div[@role='textbox']\")"
   ]
  },
  {
   "cell_type": "code",
   "execution_count": 187,
   "id": "1fa85478-3f4f-4a31-a80f-cc68e04f4e38",
   "metadata": {},
   "outputs": [],
   "source": [
    "def send_keys(element, text):\n",
    "    for letter in text:\n",
    "        element.send_keys(letter)\n",
    "        time.sleep(random.randint(1, 7)/100)\n",
    "\n",
    "send_keys(new_message_element, next_message)"
   ]
  },
  {
   "cell_type": "code",
   "execution_count": 195,
   "id": "1d0b7c8a-7d5c-40a8-abdf-9e3a1bf185bc",
   "metadata": {},
   "outputs": [],
   "source": [
    "send_message_element = driver.find_element(By.XPATH, \"//button[@type='button' and @role='button' and @data-testid='submit']\")\n",
    "send_message_element.click()"
   ]
  },
  {
   "cell_type": "code",
   "execution_count": null,
   "id": "537982ac-07c9-469f-83ea-5acd0e673d76",
   "metadata": {},
   "outputs": [],
   "source": [
    "# write a message END"
   ]
  },
  {
   "cell_type": "code",
   "execution_count": null,
   "id": "8ab3547b-ab28-4fc5-a9ec-e41f9abf3568",
   "metadata": {},
   "outputs": [],
   "source": []
  },
  {
   "cell_type": "code",
   "execution_count": null,
   "id": "13306740-0b43-4757-b853-e6609996ff22",
   "metadata": {},
   "outputs": [],
   "source": []
  },
  {
   "cell_type": "code",
   "execution_count": null,
   "id": "597a2a35-0055-4dac-91b8-e7b0a459d8d6",
   "metadata": {},
   "outputs": [],
   "source": []
  },
  {
   "cell_type": "code",
   "execution_count": 82,
   "id": "a6dd68db-a490-4f59-9a1f-497400316324",
   "metadata": {},
   "outputs": [],
   "source": [
    "message_text_xpath = get_full_xpath_element(driver, element)"
   ]
  },
  {
   "cell_type": "code",
   "execution_count": 84,
   "id": "0d5e46aa-4aed-4d24-a8f1-3396fdd1454d",
   "metadata": {},
   "outputs": [
    {
     "data": {
      "text/plain": [
       "'/html/body/div/span/span/div[2]/div[2]/div[3]/div/div[2]/div/div/div/span/span/span[2]/span/span/span/div/div/p/span/span/span'"
      ]
     },
     "execution_count": 84,
     "metadata": {},
     "output_type": "execute_result"
    }
   ],
   "source": [
    "message_text_xpath"
   ]
  },
  {
   "cell_type": "code",
   "execution_count": 92,
   "id": "8712d19a-e87f-4fcd-ae67-431ffeea210b",
   "metadata": {},
   "outputs": [],
   "source": [
    "message_box_xpath = message_text_xpath[:message_text_xpath.find(\"span[\")-1]\n",
    "send_button_element = driver.find_element(\"xpath\", message_box_xpath).find_elements(\"xpath\", \".//button\")[0]"
   ]
  },
  {
   "cell_type": "code",
   "execution_count": 94,
   "id": "fd9c61e3-8c54-405c-bb60-6f7337b1e1e2",
   "metadata": {},
   "outputs": [],
   "source": [
    "send_button_element.click()"
   ]
  },
  {
   "cell_type": "code",
   "execution_count": null,
   "id": "8661f362-2844-4252-9fc9-b22f644919fa",
   "metadata": {},
   "outputs": [],
   "source": [
    "message_box_xpath = message_text_xpath[:message_text_xpath.rfind(\"span[\")-1]\n",
    "send_button_element = driver.find_element(\"xpath\", message_box_xpath).find_elements(\"xpath\", \".//alt\")[0]"
   ]
  },
  {
   "cell_type": "code",
   "execution_count": null,
   "id": "95eeda08-5d19-4d6a-9af6-d872acb8d494",
   "metadata": {},
   "outputs": [],
   "source": []
  },
  {
   "cell_type": "code",
   "execution_count": 212,
   "id": "77350cb7-1fd1-4ae9-ba7d-15d3d9494c43",
   "metadata": {},
   "outputs": [],
   "source": [
    "# get daily points START"
   ]
  },
  {
   "cell_type": "code",
   "execution_count": 40,
   "id": "f9d45bdd-36a4-42ae-9d3a-964a3abe3d9e",
   "metadata": {},
   "outputs": [],
   "source": [
    "def get_daily_points(driver):\n",
    "    # click on beaver icon\n",
    "    towns_points_element = driver.find_element(\"xpath\", '//img[@alt=\"Towns Points\"]')\n",
    "    towns_points_element.click()\n",
    "    \n",
    "    # find element inside beaver box\n",
    "    beaver_text_element = WebDriverWait(driver, 20).until(EC.visibility_of_element_located((By.XPATH, \"//*[contains(text(), 'Towns Points')]\")))\n",
    "    \n",
    "    # find beaver_box element\n",
    "    beaver_text_xpath = get_full_xpath_element(driver, beaver_text_element)\n",
    "    beaver_box_xpath = beaver_text_xpath[:beaver_text_xpath.rfind(\"div[\") - 1]\n",
    "    beaver_box_element = WebDriverWait(driver, 20).until(EC.visibility_of_element_located((By.XPATH, beaver_box_xpath)))\n",
    "    \n",
    "    # find and click on beaver_belly element\n",
    "    beaver_belly_element = WebDriverWait(driver, 20).until(EC.visibility_of_element_located((By.XPATH, \".//canvas\")))\n",
    "    beaver_belly_element = beaver_box_element.find_element(\"xpath\", \".//canvas\").find_element(\"xpath\", \"..\").find_element(\"xpath\", \".//span\")\n",
    "    beaver_belly_element.click()\n",
    "    \n",
    "    # find and click on pay_with_ETH button\n",
    "    pay_with_ETH_element = WebDriverWait(driver, 20).until(EC.visibility_of_element_located((By.XPATH, \"//*[contains(text(), 'Pay with ETH')]\")))\n",
    "    pay_with_ETH_element.click()\n",
    "    \n",
    "    # wait untill the tx will be processed\n",
    "    text_to_wait = \"You've earned\"\n",
    "    WebDriverWait(driver, 40).until(EC.visibility_of_element_located((By.XPATH, f'//*[contains(text(), \"{text_to_wait}\")]')))\n",
    "\n",
    "get_daily_points(driver)\n",
    "# TODO: check on if everything is already opened..."
   ]
  },
  {
   "cell_type": "code",
   "execution_count": 41,
   "id": "c5c48a69-060e-46d5-ad95-834b5f876c37",
   "metadata": {},
   "outputs": [],
   "source": [
    "# get daily points END (FINISHED)"
   ]
  },
  {
   "cell_type": "code",
   "execution_count": null,
   "id": "301d5c36-f1d5-4cd7-ad34-f257fb73e75a",
   "metadata": {},
   "outputs": [],
   "source": []
  },
  {
   "cell_type": "code",
   "execution_count": 196,
   "id": "05d71595-0a98-4d5c-8576-2e91c9885363",
   "metadata": {},
   "outputs": [],
   "source": []
  },
  {
   "cell_type": "code",
   "execution_count": 198,
   "id": "c2e9f9d4-145f-429b-a449-860b20563bd6",
   "metadata": {},
   "outputs": [],
   "source": []
  },
  {
   "cell_type": "code",
   "execution_count": null,
   "id": "647a8f56-0999-494c-8aa4-5e8ff0dbaedd",
   "metadata": {},
   "outputs": [],
   "source": []
  },
  {
   "cell_type": "code",
   "execution_count": null,
   "id": "b5d86920-139f-4043-aa72-a8e8861bcb7e",
   "metadata": {},
   "outputs": [],
   "source": []
  },
  {
   "cell_type": "code",
   "execution_count": null,
   "id": "eb68050a-6e00-4483-8025-6a1b5892dd0a",
   "metadata": {},
   "outputs": [],
   "source": []
  },
  {
   "cell_type": "code",
   "execution_count": null,
   "id": "2f578344-c692-415b-b041-44280db44752",
   "metadata": {},
   "outputs": [],
   "source": []
  },
  {
   "cell_type": "code",
   "execution_count": null,
   "id": "fd303c51-9ebf-45a0-b1b8-1c8d0c01db43",
   "metadata": {},
   "outputs": [],
   "source": [
    "# create new town START"
   ]
  },
  {
   "cell_type": "code",
   "execution_count": 83,
   "id": "576d2f11-dc14-4f55-aa33-a0dc7bb9ad19",
   "metadata": {},
   "outputs": [
    {
     "data": {
      "text/plain": [
       "'MysticPangolin'"
      ]
     },
     "execution_count": 83,
     "metadata": {},
     "output_type": "execute_result"
    }
   ],
   "source": [
    "from discord_names import unusual_discord_usernames\n",
    "\n",
    "def generate_username():\n",
    "    client = OpenAI(api_key=OPENAI_API)\n",
    "    \n",
    "    random_unusual_discord_usernames = random.sample(unusual_discord_usernames, 5)\n",
    "    content_message = f\"\"\"\n",
    "    Generate discord username.\n",
    "    Provide only the generated name.\n",
    "    \n",
    "    Here are the examples:\n",
    "    Generate discord username. Answer: {random_unusual_discord_usernames[0]}\n",
    "    Generate discord username. Answer: {random_unusual_discord_usernames[1]}\n",
    "    Generate discord username. Answer: {random_unusual_discord_usernames[2]}\n",
    "    Generate discord username. Answer: {random_unusual_discord_usernames[3]}\n",
    "    Generate discord username. Answer: {random_unusual_discord_usernames[4]}\n",
    "\n",
    "    Now generate new one similar to the names in the examples.\n",
    "    Generate discord username. Answer: \"\"\"\n",
    "    \n",
    "    messages = [{\"role\": \"user\", \"content\": content_message}]\n",
    "    \n",
    "    try:\n",
    "        response = client.chat.completions.create(\n",
    "            model=\"gpt-4o-mini\",\n",
    "            messages=messages\n",
    "        )\n",
    "        return response.choices[0].message.content\n",
    "    except Exception as e:\n",
    "        print(f\"Error generating response from OpenAI: {e}\")\n",
    "        return None\n",
    "        \n",
    "username = generate_username()\n",
    "username"
   ]
  },
  {
   "cell_type": "code",
   "execution_count": 84,
   "id": "e7e4bf38-62d5-40fa-9e31-932226de713f",
   "metadata": {},
   "outputs": [
    {
     "data": {
      "text/plain": [
       "'FrostedFalconField'"
      ]
     },
     "execution_count": 84,
     "metadata": {},
     "output_type": "execute_result"
    }
   ],
   "source": [
    "from discord_names import unusual_discord_channels\n",
    "\n",
    "def generate_town_name():\n",
    "    client = OpenAI(api_key=OPENAI_API)\n",
    "    \n",
    "    random_unusual_discord_channels = random.sample(unusual_discord_channels, 5)\n",
    "    content_message = f\"\"\"\n",
    "    Generate discord channel name.\n",
    "    Provide only the generated name.\n",
    "    \n",
    "    Here are the examples:\n",
    "    Generate discord channel name. Answer: {random_unusual_discord_channels[0]}\n",
    "    Generate discord channel name. Answer: {random_unusual_discord_channels[1]}\n",
    "    Generate discord channel name. Answer: {random_unusual_discord_channels[2]}\n",
    "    Generate discord channel name. Answer: {random_unusual_discord_channels[3]}\n",
    "    Generate discord channel name. Answer: {random_unusual_discord_channels[4]}\n",
    "\n",
    "    Now generate new one similar to the names in the examples.\n",
    "    Generate discord channel name. Answer: \"\"\"\n",
    "    \n",
    "    messages = [{\"role\": \"user\", \"content\": content_message}]\n",
    "    \n",
    "    try:\n",
    "        response = client.chat.completions.create(\n",
    "            model=\"gpt-4o-mini\",\n",
    "            messages=messages\n",
    "        )\n",
    "        return response.choices[0].message.content\n",
    "    except Exception as e:\n",
    "        print(f\"Error generating response from OpenAI: {e}\")\n",
    "        return None\n",
    "        \n",
    "town_name = generate_town_name()\n",
    "town_name"
   ]
  },
  {
   "cell_type": "code",
   "execution_count": 85,
   "id": "b61b8286-879e-4ddb-97df-bb28a7f61c48",
   "metadata": {},
   "outputs": [
    {
     "data": {
      "text/plain": [
       "'/home/asevlad/program_files/github_asevlad/towns_selenium/towns_images/town_logo_15.png'"
      ]
     },
     "execution_count": 85,
     "metadata": {},
     "output_type": "execute_result"
    }
   ],
   "source": [
    "def generate_town_logo(town_name):\n",
    "    client = OpenAI(api_key=OPENAI_API)\n",
    "\n",
    "    basic_colors = [\"red\", \"blue\", \"green\", \"yellow\", \"orange\", \"purple\", \"black\", \"white\", \"brown\", \"gray\"]\n",
    "    random_colors = random.sample(basic_colors, 2)\n",
    "    \n",
    "    response = client.images.generate(\n",
    "        model=\"dall-e-2\",\n",
    "        prompt=f\"A modern discord channel logo with the name {town_name} with minimalist design, {random_colors[0]} and {random_colors[1]} color theme\",\n",
    "        n=1,  # Number of images to generate\n",
    "        size=\"256x256\"  # Image size\n",
    "    )\n",
    "    \n",
    "    # Get the generated image URL\n",
    "    logo_url = response.data[0].url\n",
    "\n",
    "    # Download and save the image\n",
    "    path_to_logos = \"towns_images\"\n",
    "    num_of_existed_logos = len(os.listdir(path_to_logos))\n",
    "    \n",
    "    logo_path = os.path.join(path_to_logos, f\"town_logo_{num_of_existed_logos}.png\")\n",
    "    logo_data = requests.get(logo_url).content\n",
    "    with open(logo_path, \"wb\") as file:\n",
    "        file.write(logo_data)\n",
    "\n",
    "    abs_logo_path = os.path.join(os.getcwd(), logo_path)\n",
    "\n",
    "    return abs_logo_path\n",
    "    \n",
    "generate_town_logo(town_name)"
   ]
  },
  {
   "cell_type": "code",
   "execution_count": null,
   "id": "26577552-b1d6-4976-8a5c-99659b9c2cda",
   "metadata": {},
   "outputs": [],
   "source": [
    "def save_town_link(town_link, town_type):\n",
    "    towns_folder = \"towns_links\"\n",
    "    if town_type == \"free\":\n",
    "        towns_links_path = os.path.join(towns_folder, \"free_towns.txt\")\n",
    "    elif town_type == \"dynamic\":\n",
    "        towns_links_path = os.path.join(towns_folder, \"dynamic_towns.txt\")\n",
    "    elif town_type == \"state\":\n",
    "        towns_links_path = os.path.join(towns_folder, \"state_towns.txt\")\n",
    "\n",
    "    with open(towns_links_path, 'a') as file:\n",
    "        file.write(\"\\n\" + town_link)"
   ]
  },
  {
   "cell_type": "code",
   "execution_count": 86,
   "id": "57078fb8-bbc4-4ef3-aae1-5fb0d748ae63",
   "metadata": {},
   "outputs": [],
   "source": [
    "def create_new_free_town():    \n",
    "    driver.get(\"https://app.towns.com/t/new\")\n",
    "    \n",
    "    # generate name and imamge for town\n",
    "    town_name = generate_town_name()\n",
    "    logo_path = generate_town_logo(town_name)\n",
    "\n",
    "    # provide town_logo\n",
    "    input_image_element = driver.find_element(By.XPATH, '//input[@type=\"file\"]')\n",
    "    input_image_element.send_keys(logo_path)\n",
    "    driver.implicitly_wait(0.5)\n",
    "    \n",
    "    # provide town_name\n",
    "    imput_town_name_element = driver.find_element(By.XPATH, \"//input[@placeholder='Town Name']\")\n",
    "    imput_town_name_element.send_keys(town_name)\n",
    "    time.sleep(3)\n",
    "    \n",
    "    # click next_button\n",
    "    next_button_element = driver.find_element(By.XPATH, \"//button[@data-testid='next-button']\")\n",
    "    next_button_element.click()\n",
    "    time.sleep(3)\n",
    "    \n",
    "    # click Free button\n",
    "    free_town_element = WebDriverWait(driver, 20).until(\n",
    "        EC.visibility_of_element_located((By.XPATH, \"//*[contains(text(), 'Free')]\")))\n",
    "    free_town_element.click()\n",
    "    time.sleep(3)\n",
    "\n",
    "    # click create button\n",
    "    create_town_element = WebDriverWait(driver, 20).until(\n",
    "        EC.visibility_of_element_located((By.XPATH, \"//button[@data-testid='create-town-button']\")))\n",
    "    create_town_element.click()\n",
    "    \n",
    "    # wait till creation\n",
    "    while True:\n",
    "        element = WebDriverWait(driver, 20).until(\n",
    "            EC.visibility_of_element_located((By.XPATH, \"//*[contains(text(), 'Give it a moment. Building a town takes a village')] | //*[contains(text(), 'You created')]\")))\n",
    "        \n",
    "        if \"Give it a moment. Building a town takes a village\" in element.text:\n",
    "            pass\n",
    "        else:\n",
    "            break\n",
    "\n",
    "        time.sleep(2)\n",
    "\n",
    "    # enter username if needed\n",
    "    username_elements = driver.find_elements(By.XPATH, \"//input[@data-testid='town-username-input']\")\n",
    "    if len(username_elements) != 0:\n",
    "        username_element = username_elements[0]\n",
    "        if username_element.get_attribute(\"value\") == \"\":\n",
    "            username = generate_username()\n",
    "            username_element.send_keys(username)\n",
    "\n",
    "    # save town_link\n",
    "    town_link = driver.current_url\n",
    "    town_link = town_link[:town_link.rfind(\"/channels\")]\n",
    "\n",
    "    save_town_link(town_link, \"free\")\n",
    "\n",
    "    return town_link"
   ]
  },
  {
   "cell_type": "code",
   "execution_count": null,
   "id": "4737446f-d155-49c9-ab0f-ed34916d82bf",
   "metadata": {},
   "outputs": [],
   "source": [
    "def create_new_dynamic_town():\n",
    "    driver.get(\"https://app.towns.com/t/new\")\n",
    "    \n",
    "    # generate name and imamge for town\n",
    "    town_name = generate_town_name()\n",
    "    logo_path = generate_town_logo(town_name)\n",
    "\n",
    "    # provide town_logo\n",
    "    input_image_element = WebDriverWait(driver, 20).until(\n",
    "        EC.visibility_of_element_located((By.XPATH, '//input[@type=\"file\"]')))\n",
    "    input_image_element.send_keys(logo_path)\n",
    "    driver.implicitly_wait(0.5)\n",
    "    \n",
    "    # provide town_name\n",
    "    imput_town_name_element = WebDriverWait(driver, 20).until(\n",
    "        EC.visibility_of_element_located((By.XPATH, \"//input[@placeholder='Town Name']\")))\n",
    "    imput_town_name_element.send_keys(town_name)\n",
    "    time.sleep(3)\n",
    "    \n",
    "    # click next_button\n",
    "    next_button_element = WebDriverWait(driver, 20).until(\n",
    "        EC.visibility_of_element_located((By.XPATH, \"//button[@data-testid='next-button']\")))\n",
    "    next_button_element.click()\n",
    "    time.sleep(3)\n",
    "    \n",
    "    # click Free button\n",
    "    free_town_element = WebDriverWait(driver, 20).until(\n",
    "        EC.visibility_of_element_located((By.XPATH, \"//*[contains(text(), 'Free')]\")))\n",
    "    free_town_element.click()\n",
    "    time.sleep(3)\n",
    "\n",
    "    # click create button\n",
    "    create_town_element = WebDriverWait(driver, 20).until(\n",
    "        EC.visibility_of_element_located((By.XPATH, \"//button[@data-testid='create-town-button']\")))\n",
    "    create_town_element.click()\n",
    "    \n",
    "    # wait till creation\n",
    "    while True:\n",
    "        element = WebDriverWait(driver, 20).until(\n",
    "            EC.visibility_of_element_located((By.XPATH, \"//*[contains(text(), 'Give it a moment. Building a town takes a village')] | //*[contains(text(), 'You created')]\")))\n",
    "        \n",
    "        if \"Give it a moment. Building a town takes a village\" in element.text:\n",
    "            pass\n",
    "        else:\n",
    "            break\n",
    "\n",
    "        time.sleep(2)\n",
    "\n",
    "    # enter username if needed\n",
    "    username_elements = driver.find_elements(By.XPATH, \"//input[@data-testid='town-username-input']\")\n",
    "    if len(username_elements) != 0:\n",
    "        username_element = username_elements[0]\n",
    "        if username_element.get_attribute(\"value\") == \"\":\n",
    "            username = generate_username()\n",
    "            username_element.send_keys(username)\n",
    "\n",
    "    # save town_link\n",
    "    town_link = driver.current_url\n",
    "    town_link = town_link[:town_link.rfind(\"/channels\")]\n",
    "\n",
    "    save_town_link(town_link, \"free\")\n",
    "\n",
    "    return town_link"
   ]
  },
  {
   "cell_type": "code",
   "execution_count": null,
   "id": "9f196372-23c3-4f5d-8b51-eddfa822e8db",
   "metadata": {},
   "outputs": [],
   "source": [
    "def create_new_dynamic_town(town_type, cost=0):\n",
    "    driver.get(\"https://app.towns.com/t/new\")\n",
    "    \n",
    "    # generate name and imamge for town\n",
    "    town_name = generate_town_name()\n",
    "    logo_path = generate_town_logo(town_name)\n",
    "\n",
    "    # provide town_logo\n",
    "    input_image_element = WebDriverWait(driver, 20).until(\n",
    "        EC.visibility_of_element_located((By.XPATH, '//input[@type=\"file\"]')))\n",
    "    input_image_element.send_keys(logo_path)\n",
    "    driver.implicitly_wait(0.5)\n",
    "    \n",
    "    # provide town_name\n",
    "    imput_town_name_element = WebDriverWait(driver, 20).until(\n",
    "        EC.visibility_of_element_located((By.XPATH, \"//input[@placeholder='Town Name']\")))\n",
    "    imput_town_name_element.send_keys(town_name)\n",
    "    time.sleep(3)\n",
    "    \n",
    "    # click next_button\n",
    "    next_button_element = WebDriverWait(driver, 20).until(\n",
    "        EC.visibility_of_element_located((By.XPATH, \"//button[@data-testid='next-button']\")))\n",
    "    next_button_element.click()\n",
    "    time.sleep(3)\n",
    "\n",
    "    if town_type == \"free\":\n",
    "        pass\n",
    "        \n",
    "    elif town_type == \"dynamic\":\n",
    "        # click Paid option\n",
    "        paid_town_element = WebDriverWait(driver, 20).until(\n",
    "            EC.visibility_of_element_located((By.XPATH, \"//*[contains(text(), 'Paid')]\")))\n",
    "        paid_town_element.click()\n",
    "    \n",
    "        # click Dynamic option\n",
    "        dynamic_town_element = WebDriverWait(driver, 20).until(\n",
    "            EC.visibility_of_element_located((By.XPATH, \"//*[contains(text(), 'Dynamic')]\")))\n",
    "        dynamic_town_element.click()\n",
    "        time.sleep(3)\n",
    "        \n",
    "    elif town_type == \"state\":\n",
    "        \n",
    "        \n",
    "    # click Create button\n",
    "    create_town_element = WebDriverWait(driver, 20).until(\n",
    "        EC.visibility_of_element_located((By.XPATH, \"//button[@data-testid='create-town-button']\")))\n",
    "    create_town_element.click()\n",
    "    \n",
    "    # wait till creation\n",
    "    while True:\n",
    "        element = WebDriverWait(driver, 20).until(\n",
    "            EC.visibility_of_element_located((By.XPATH, \"//*[contains(text(), 'Give it a moment. Building a town takes a village')] | //*[contains(text(), 'You created')]\")))\n",
    "        \n",
    "        if \"Give it a moment. Building a town takes a village\" in element.text:\n",
    "            pass\n",
    "        else:\n",
    "            break\n",
    "\n",
    "        time.sleep(2)\n",
    "\n",
    "    # enter username if needed\n",
    "    username_elements = driver.find_elements(By.XPATH, \"//input[@data-testid='town-username-input']\")\n",
    "    if len(username_elements) != 0:\n",
    "        username_element = username_elements[0]\n",
    "        if username_element.get_attribute(\"value\") == \"\":\n",
    "            username = generate_username()\n",
    "            username_element.send_keys(username)\n",
    "\n",
    "    # save town_link\n",
    "    town_link = driver.current_url\n",
    "    town_link = town_link[:town_link.rfind(\"/channels\")]\n",
    "\n",
    "    save_town_link(town_link, \"free\")\n",
    "\n",
    "    return town_link"
   ]
  },
  {
   "cell_type": "code",
   "execution_count": 152,
   "id": "195153fc-b85f-415f-a69b-52f61d767e29",
   "metadata": {},
   "outputs": [],
   "source": [
    "driver.get(\"https://app.towns.com/t/new\")\n",
    "\n",
    "# generate name and imamge for town\n",
    "town_name = generate_town_name()\n",
    "logo_path = generate_town_logo(town_name)\n",
    "\n",
    "# provide town_logo\n",
    "input_image_element = driver.find_element(By.XPATH, '//input[@type=\"file\"]')\n",
    "input_image_element.send_keys(logo_path)\n",
    "driver.implicitly_wait(0.5)\n",
    "\n",
    "# provide town_name\n",
    "imput_town_name_element = driver.find_element(By.XPATH, \"//input[@placeholder='Town Name']\")\n",
    "imput_town_name_element.send_keys(town_name)\n",
    "time.sleep(3)\n",
    "\n",
    "# click next_button\n",
    "next_button_element = driver.find_element(By.XPATH, \"//button[@data-testid='next-button']\")\n",
    "next_button_element.click()\n",
    "time.sleep(3)"
   ]
  },
  {
   "cell_type": "code",
   "execution_count": 156,
   "id": "399216b6-30e3-4e6c-bff2-27bfea6e04c6",
   "metadata": {},
   "outputs": [],
   "source": [
    "# paid_town_element = WebDriverWait(driver, 20).until(\n",
    "#         EC.visibility_of_element_located((By.XPATH, \"//*[contains(text(), 'Paid')]\")))\n",
    "# paid_town_element.click()\n",
    "\n",
    "fixed_town_element = WebDriverWait(driver, 20).until(\n",
    "        EC.visibility_of_element_located((By.XPATH, \"//*[contains(text(), 'Fixed')]\")))\n",
    "fixed_town_element.click()"
   ]
  },
  {
   "cell_type": "code",
   "execution_count": 158,
   "id": "3cd5eb12-5124-4c3b-b5dd-18e162783118",
   "metadata": {},
   "outputs": [],
   "source": []
  },
  {
   "cell_type": "code",
   "execution_count": 160,
   "id": "778584f9-dd37-47e0-9f06-1a47b06dda56",
   "metadata": {},
   "outputs": [],
   "source": [
    "# click create button\n",
    "cost_town_element = WebDriverWait(driver, 20).until(\n",
    "    EC.visibility_of_element_located((By.XPATH, \"//input[@name='slideMembership.membershipCost']\")))\n",
    "cost_town_element.send_keys(str(cost))"
   ]
  },
  {
   "cell_type": "code",
   "execution_count": 162,
   "id": "1a1e9b69-aa4f-46ea-b2ce-72be23456e68",
   "metadata": {},
   "outputs": [],
   "source": [
    "# click create button\n",
    "create_town_element = WebDriverWait(driver, 20).until(\n",
    "    EC.visibility_of_element_located((By.XPATH, \"//button[@data-testid='create-town-button']\")))\n",
    "create_town_element.click()"
   ]
  },
  {
   "cell_type": "code",
   "execution_count": null,
   "id": "021ec88c-63db-4c02-907e-32ee8845f1e3",
   "metadata": {},
   "outputs": [],
   "source": []
  },
  {
   "cell_type": "code",
   "execution_count": 232,
   "id": "a85afcd1-ecbc-4908-9bb5-01a587d6c50f",
   "metadata": {},
   "outputs": [],
   "source": [
    "# paid_town_element = WebDriverWait(driver, 90).until(\n",
    "#         EC.visibility_of_element_located((By.XPATH, \"//*[contains(text(), 'Paid')]\")))\n",
    "# paid_town_element.click()"
   ]
  },
  {
   "cell_type": "code",
   "execution_count": 228,
   "id": "9467e8be-5e90-4b9d-aec6-78ef2c90d75f",
   "metadata": {},
   "outputs": [],
   "source": [
    "free_town_element = WebDriverWait(driver, 90).until(\n",
    "        EC.visibility_of_element_located((By.XPATH, \"//*[contains(text(), 'Free')]\")))\n",
    "free_town_element.click()"
   ]
  },
  {
   "cell_type": "code",
   "execution_count": 230,
   "id": "2d6b8471-bca7-412d-bc99-7d0cd90c3d85",
   "metadata": {},
   "outputs": [],
   "source": [
    "create_town_element = driver.find_element(By.XPATH, \"//button[@data-testid='create-town-button']\")\n",
    "create_town_element.click()"
   ]
  },
  {
   "cell_type": "code",
   "execution_count": null,
   "id": "77e63f04-35a3-4057-bc04-38c6b2f3d91d",
   "metadata": {},
   "outputs": [],
   "source": []
  },
  {
   "cell_type": "code",
   "execution_count": 236,
   "id": "be922174-bac5-496f-8e26-30362869fc6f",
   "metadata": {},
   "outputs": [],
   "source": [
    "# wait till creation\n",
    "while True:\n",
    "    element = WebDriverWait(driver, 90).until(\n",
    "        EC.visibility_of_element_located((By.XPATH, \"//*[contains(text(), 'Give it a moment. Building a town takes a village')] | //*[contains(text(), 'You created')]\")))\n",
    "    if \"Give it a moment. Building a town takes a village\" in element.text:\n",
    "        pass\n",
    "    else:\n",
    "        break"
   ]
  },
  {
   "cell_type": "code",
   "execution_count": 244,
   "id": "ddbf259d-7af8-45df-bbce-342fc1992997",
   "metadata": {},
   "outputs": [
    {
     "data": {
      "text/plain": [
       "'https://app.towns.com/t/0x0f954f52b927314c120c6c111ceaafc96a6f6ba1'"
      ]
     },
     "execution_count": 244,
     "metadata": {},
     "output_type": "execute_result"
    }
   ],
   "source": [
    "town_link = driver.current_url\n",
    "town_link = town_link[:town_link.rfind(\"/channels\")]\n",
    "town_link"
   ]
  },
  {
   "cell_type": "code",
   "execution_count": null,
   "id": "19eba72a-9b75-425c-9e60-b8bbfeb9cb28",
   "metadata": {},
   "outputs": [],
   "source": []
  },
  {
   "cell_type": "code",
   "execution_count": null,
   "id": "3e459231-1ac9-442c-92ca-ebdacaa27a88",
   "metadata": {},
   "outputs": [],
   "source": [
    "# create new town END"
   ]
  },
  {
   "cell_type": "code",
   "execution_count": null,
   "id": "f9c0a821-8730-491d-a5c0-061697096f56",
   "metadata": {},
   "outputs": [],
   "source": []
  },
  {
   "cell_type": "code",
   "execution_count": null,
   "id": "bfd389aa-d65d-4392-a1b4-e4ba1ec25b6a",
   "metadata": {},
   "outputs": [],
   "source": []
  },
  {
   "cell_type": "code",
   "execution_count": null,
   "id": "6e5de614-8c98-4995-8e65-3463e26d2bb2",
   "metadata": {},
   "outputs": [],
   "source": []
  },
  {
   "cell_type": "code",
   "execution_count": null,
   "id": "dba37ce2-6ac7-414a-8704-824c154d796c",
   "metadata": {},
   "outputs": [],
   "source": []
  },
  {
   "cell_type": "code",
   "execution_count": null,
   "id": "ba623d44-ced4-4bcf-b689-b8f362a596c2",
   "metadata": {},
   "outputs": [],
   "source": [
    "# Update Towns START"
   ]
  },
  {
   "cell_type": "code",
   "execution_count": 83,
   "id": "45f98c86-500d-4d15-8778-01dc323fe587",
   "metadata": {},
   "outputs": [
    {
     "name": "stdout",
     "output_type": "stream",
     "text": [
      "No element 'Update Towns'\n"
     ]
    }
   ],
   "source": [
    "def update_towns(driver):\n",
    "    update_towns_p_element = None\n",
    "\n",
    "    # try to find elemement with text 'Update Towns'\n",
    "    try:\n",
    "        update_towns_p_element = driver.find_element(By.XPATH, \"//*[contains(text(), 'Update Towns')]\")\n",
    "    except:\n",
    "        print(\"No element 'Update Towns'\")\n",
    "\n",
    "    # if element exists\n",
    "    if update_towns_p_element:\n",
    "        # get xpath of element with text\n",
    "        update_towns_p_xapth = get_full_xpath_element(driver, update_towns_p_element)\n",
    "        \n",
    "        # get xpath of button with this element\n",
    "        update_towns_button_xpath = update_towns_element[:update_towns_element.rfind(\"button\") + 6]\n",
    "\n",
    "        # get button element\n",
    "        update_towns_button_element = driver.find_element(By.XPATH, update_towns_button_xpath)\n",
    "\n",
    "        # click\n",
    "        update_towns_button_element.click()\n",
    "\n",
    "update_towns(driver)"
   ]
  },
  {
   "cell_type": "code",
   "execution_count": 63,
   "id": "a51f5505-ad2b-433f-a83a-dd034ee22458",
   "metadata": {},
   "outputs": [
    {
     "data": {
      "text/plain": [
       "'/html/body/div/span/span/div[2]/div[2]/div[2]/div/div/span[2]/div/span/button/span/p'"
      ]
     },
     "execution_count": 63,
     "metadata": {},
     "output_type": "execute_result"
    }
   ],
   "source": []
  },
  {
   "cell_type": "code",
   "execution_count": null,
   "id": "70fed34f-c952-46ae-a8fa-3f68625324ef",
   "metadata": {},
   "outputs": [],
   "source": []
  },
  {
   "cell_type": "code",
   "execution_count": null,
   "id": "1a564257-5426-4e71-897f-4f36b32f90b1",
   "metadata": {},
   "outputs": [],
   "source": []
  },
  {
   "cell_type": "code",
   "execution_count": null,
   "id": "e1ddbe91-ac73-44da-b0a2-12df61428fc1",
   "metadata": {},
   "outputs": [],
   "source": []
  },
  {
   "cell_type": "code",
   "execution_count": 351,
   "id": "432e5877-18ba-443d-a7f4-d0830d9d2447",
   "metadata": {},
   "outputs": [],
   "source": [
    "def write_review(driver):\n",
    "    # open review tab\n",
    "    review_element = WebDriverWait(driver, 20).until(\n",
    "        EC.visibility_of_element_located((By.XPATH, \"//*[contains(text(), 'Review This Town')]\")))\n",
    "    review_element.click()\n",
    "\n",
    "    # click write_review button to open box with writing review\n",
    "    write_review_element = WebDriverWait(driver, 20).until(\n",
    "        EC.visibility_of_element_located((By.XPATH, \"//*[contains(text(), 'Write a Review')]\")))\n",
    "    write_review_element.click()\n",
    "\n",
    "    # find an element in the box\n",
    "    your_review_element = WebDriverWait(driver, 20).until(\n",
    "        EC.visibility_of_element_located((By.XPATH, \".//*[contains(text(), 'Your Review')]\")))\n",
    "    your_review_element_xpath = get_full_xpath_element(driver, your_review_element)\n",
    "    \n",
    "    # find xpath of the review box\n",
    "    review_box_xpath = your_review_element_xpath[:your_review_element_xpath.rfind(\"span[\") - 1]\n",
    "    review_box_element = driver.find_element(\"xpath\", review_box_xpath)\n",
    "\n",
    "    # find text_area\n",
    "    review_element = review_box_element.find_element(\"xpath\", \".//textarea\")\n",
    "    # generate review\n",
    "    review_text = generate_review()\n",
    "    # send text to the textarea\n",
    "    review_element.send_keys(review_text)\n",
    "\n",
    "    time.sleep(1)\n",
    "    \n",
    "    # find rating element\n",
    "    select_rating_element = driver.find_element(\"xpath\",\"//*[contains(text(), 'Select your rating')]\")\n",
    "    rating = random.randint(4, 5)\n",
    "    rating_element = select_rating_element.find_element(\"xpath\", \"..\").find_elements(\"xpath\", \".//div\")[rating - 1]\n",
    "    # rate town\n",
    "    rating_element.click()\n",
    "\n",
    "    time.sleep(1) # sleep between ac\n",
    "    \n",
    "    # click Post_review\n",
    "    your_review_element = WebDriverWait(driver, 20).until(\n",
    "        EC.visibility_of_element_located((By.XPATH, \"//*[contains(text(), 'Post Review')]\")))\n",
    "    post_review_element.click()\n",
    "    \n",
    "    # click on Pay_with_ETH\n",
    "    your_review_element = WebDriverWait(driver, 20).until(\n",
    "        EC.visibility_of_element_located((By.XPATH, \"//*[contains(text(), 'Pay with ETH')]\")))\n",
    "    pay_with_ETH_element.click()\n",
    "    \n",
    "    # Wait till review will be submitted\n",
    "    driver.find_element(\"xpath\", \"//*[contains(text(), 'Review posted successfully')]\")\n",
    "\n",
    "    time.sleep(1)\n",
    "    \n",
    "def send_keys(element, text):\n",
    "    for letter in text:\n",
    "        review_element.send_keys(letter)\n",
    "        time.sleep(random.randint(1, 7)/100)\n",
    "    \n",
    "def generate_review():\n",
    "    return \"great town. I guess it will grow and grow\""
   ]
  },
  {
   "cell_type": "code",
   "execution_count": 399,
   "id": "703b361d-854c-4b61-97f6-afe4de032ded",
   "metadata": {},
   "outputs": [],
   "source": []
  },
  {
   "cell_type": "code",
   "execution_count": 359,
   "id": "bd9b3a59-3763-4e0b-9deb-aaa92c007853",
   "metadata": {},
   "outputs": [],
   "source": [
    "# find an element in the box\n",
    "your_review_element = WebDriverWait(driver, 20).until(EC.visibility_of_element_located((By.XPATH, \".//*[contains(text(), 'Your Review')]\")))\n",
    "your_review_element_xpath = get_full_xpath_element(driver, your_review_element)\n",
    "\n",
    "# find xpath of the review box\n",
    "review_box_xpath = your_review_element_xpath[:your_review_element_xpath.rfind(\"span[\") - 1]\n",
    "review_box_element = driver.find_element(\"xpath\", review_box_xpath)\n",
    "\n",
    "# find text_area\n",
    "review_element = review_box_element.find_element(\"xpath\", \".//textarea\")\n",
    "# generate review\n",
    "review_text = generate_review()\n",
    "# send text to the textarea\n",
    "review_element.send_keys(\".\")"
   ]
  },
  {
   "cell_type": "code",
   "execution_count": 285,
   "id": "b6584be1-f27e-4515-89fc-17799b020bc0",
   "metadata": {},
   "outputs": [
    {
     "data": {
      "text/plain": [
       "<selenium.webdriver.remote.webelement.WebElement (session=\"2073a7c028f7f6350c00602064e23a3f\", element=\"f.82CD5B98A8D811ED9B7922CAB8F04263.d.18191B6AE14928AE93115074CCCE6043.e.2117\")>"
      ]
     },
     "execution_count": 285,
     "metadata": {},
     "output_type": "execute_result"
    }
   ],
   "source": [
    "review_box_element = driver.find_element(\"xpath\", review_box_xpath)\n",
    "review_box_element"
   ]
  },
  {
   "cell_type": "code",
   "execution_count": 295,
   "id": "7996bd92-6a18-43c9-9982-f940317c9c38",
   "metadata": {},
   "outputs": [],
   "source": []
  },
  {
   "cell_type": "code",
   "execution_count": 301,
   "id": "bb27c31d-5b9b-4beb-8258-6f9c2f51c01d",
   "metadata": {},
   "outputs": [],
   "source": []
  },
  {
   "cell_type": "code",
   "execution_count": null,
   "id": "7eb14bfc-1066-4eb9-a490-6be0f277f553",
   "metadata": {},
   "outputs": [],
   "source": []
  },
  {
   "cell_type": "code",
   "execution_count": 341,
   "id": "7d184406-f57d-4af8-be6e-95036291f94a",
   "metadata": {},
   "outputs": [
    {
     "data": {
      "text/plain": [
       "<selenium.webdriver.remote.webelement.WebElement (session=\"2073a7c028f7f6350c00602064e23a3f\", element=\"f.82CD5B98A8D811ED9B7922CAB8F04263.d.18191B6AE14928AE93115074CCCE6043.e.2756\")>"
      ]
     },
     "execution_count": 341,
     "metadata": {},
     "output_type": "execute_result"
    }
   ],
   "source": []
  },
  {
   "cell_type": "code",
   "execution_count": 343,
   "id": "62929aa2-111d-4b13-8049-e42ac3ffb151",
   "metadata": {},
   "outputs": [],
   "source": [
    "def give_rating(driver):\n",
    "    select_rating_element = driver.find_element(\"xpath\",\"//*[contains(text(), 'Select your rating')]\")\n",
    "    rating = random.randint(4, 5)\n",
    "    rating_element = select_rating_element.find_element(\"xpath\", \"..\").find_elements(\"xpath\", \".//div\")[rating - 1]\n",
    "    rating_element.click()"
   ]
  },
  {
   "cell_type": "code",
   "execution_count": 345,
   "id": "f2c608d6-1ec4-49ea-83f7-8c468bdd5910",
   "metadata": {},
   "outputs": [
    {
     "data": {
      "text/plain": [
       "5"
      ]
     },
     "execution_count": 345,
     "metadata": {},
     "output_type": "execute_result"
    }
   ],
   "source": [
    "rating"
   ]
  },
  {
   "cell_type": "code",
   "execution_count": null,
   "id": "4bbdb887-5ccf-43e1-8911-09f5bd1d4892",
   "metadata": {},
   "outputs": [],
   "source": []
  },
  {
   "cell_type": "code",
   "execution_count": null,
   "id": "d7b6b84f-cd25-452e-84c1-d7f648113073",
   "metadata": {},
   "outputs": [],
   "source": []
  },
  {
   "cell_type": "code",
   "execution_count": null,
   "id": "8a0b0342-de71-4236-8d51-5924dad8bbce",
   "metadata": {},
   "outputs": [],
   "source": []
  },
  {
   "cell_type": "code",
   "execution_count": null,
   "id": "ed51a7bf-ab8c-4dd2-99c3-999744c4dc67",
   "metadata": {},
   "outputs": [],
   "source": []
  },
  {
   "cell_type": "code",
   "execution_count": null,
   "id": "aeae0ffb-c662-4862-ac0d-95ba476ebbce",
   "metadata": {},
   "outputs": [],
   "source": []
  },
  {
   "cell_type": "code",
   "execution_count": 3,
   "id": "cd0e1a5f-73de-4344-b255-3e47d959ee53",
   "metadata": {},
   "outputs": [],
   "source": [
    "# AdsPower start profile START"
   ]
  },
  {
   "cell_type": "code",
   "execution_count": 5,
   "id": "52b8abc8-a314-4b50-ab37-db33f7583e6b",
   "metadata": {},
   "outputs": [
    {
     "ename": "NameError",
     "evalue": "name 'os' is not defined",
     "output_type": "error",
     "traceback": [
      "\u001b[0;31m---------------------------------------------------------------------------\u001b[0m",
      "\u001b[0;31mNameError\u001b[0m                                 Traceback (most recent call last)",
      "Cell \u001b[0;32mIn[5], line 1\u001b[0m\n\u001b[0;32m----> 1\u001b[0m ADS_API \u001b[38;5;241m=\u001b[39m os\u001b[38;5;241m.\u001b[39mgetenv(\u001b[38;5;124m\"\u001b[39m\u001b[38;5;124mADS_API\u001b[39m\u001b[38;5;124m\"\u001b[39m)\n\u001b[1;32m      3\u001b[0m \u001b[38;5;28;01mdef\u001b[39;00m \u001b[38;5;21mopen_ads_pwer_profile\u001b[39m(profile_id):\n\u001b[1;32m      4\u001b[0m     \u001b[38;5;66;03m# Adspower API details\u001b[39;00m\n\u001b[1;32m      5\u001b[0m     API_URL \u001b[38;5;241m=\u001b[39m \u001b[38;5;124m\"\u001b[39m\u001b[38;5;124mhttp://127.0.0.1:50325\u001b[39m\u001b[38;5;124m\"\u001b[39m  \u001b[38;5;66;03m# Change if Adspower runs on a different port\u001b[39;00m\n",
      "\u001b[0;31mNameError\u001b[0m: name 'os' is not defined"
     ]
    }
   ],
   "source": [
    "ADS_API = os.getenv(\"ADS_API\")\n",
    "\n",
    "def open_ads_pwer_profile(profile_id):\n",
    "    # Adspower API details\n",
    "    API_URL = \"http://127.0.0.1:50325\"  # Change if Adspower runs on a different port\n",
    "\n",
    "    # Start the Adspower profile\n",
    "    start_url = f\"{ADS_API}/api/v1/browser/start?user_id={profile_id}\"\n",
    "    response = requests.get(start_url).json()\n",
    "\n",
    "    ws_url = response[\"data\"][\"ws\"][\"selenium\"]\n",
    "    print(f\"WebSocket Debugging URL: {ws_url}\")\n",
    "\n",
    "    # Connect Selenium to the running Adspower profile\n",
    "    options = webdriver.ChromeOptions()\n",
    "    options.debugger_address = ws_url.replace(\"ws://\", \"\").replace(\"/devtools/browser/\", \"\")\n",
    "\n",
    "    service = Service(\"/home/asevlad/program_files/github_asevlad/towns_selenium/chromedriver\")  # Ensure you have the correct path\n",
    "    driver = webdriver.Chrome(service=service, options=options)\n",
    "\n",
    "    # Test by opening a website\n",
    "    driver.get(\"https://www.google.com\")\n",
    "\n",
    "    return driver\n",
    "\n",
    "driver = open_ads_pwer_profile(\"kw2ov4m\")"
   ]
  },
  {
   "cell_type": "code",
   "execution_count": null,
   "id": "2031c578-0d72-4313-88cc-a94c4a5845d7",
   "metadata": {},
   "outputs": [],
   "source": [
    "# AdsPower start profile END (FINISHED)"
   ]
  },
  {
   "cell_type": "code",
   "execution_count": null,
   "id": "2039ebb9-cb0d-4e4f-a39d-79a72e9d5714",
   "metadata": {},
   "outputs": [],
   "source": []
  },
  {
   "cell_type": "code",
   "execution_count": null,
   "id": "b906be80-00bc-47d5-a9de-b1b38608f47c",
   "metadata": {},
   "outputs": [],
   "source": []
  }
 ],
 "metadata": {
  "kernelspec": {
   "display_name": "Python [conda env:base] *",
   "language": "python",
   "name": "conda-base-py"
  },
  "language_info": {
   "codemirror_mode": {
    "name": "ipython",
    "version": 3
   },
   "file_extension": ".py",
   "mimetype": "text/x-python",
   "name": "python",
   "nbconvert_exporter": "python",
   "pygments_lexer": "ipython3",
   "version": "3.12.7"
  }
 },
 "nbformat": 4,
 "nbformat_minor": 5
}
