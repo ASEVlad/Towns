{
 "cells": [
  {
   "cell_type": "code",
   "execution_count": 6,
   "id": "843c076c-0f40-482a-b810-9cb8beb9407c",
   "metadata": {},
   "outputs": [],
   "source": [
    "import os\n",
    "import time\n",
    "import pyautogui\n",
    "import random\n",
    "from dotenv import load_dotenv\n",
    "import pyperclip\n",
    "from web3 import Web3\n",
    "from openai import OpenAI\n",
    "import requests\n",
    "\n",
    "from selenium.webdriver.common.by import By\n",
    "from selenium.webdriver.support.ui import WebDriverWait\n",
    "from selenium.webdriver.support import expected_conditions as EC"
   ]
  },
  {
   "cell_type": "code",
   "execution_count": 8,
   "id": "6ba5698d-8d1e-4988-8e5d-09d75e2e5aac",
   "metadata": {},
   "outputs": [],
   "source": [
    "from src.towns_actions.create_new_town import create_new_town\n",
    "from src.towns_actions.get_daily_points import get_daily_points\n",
    "from src.towns_actions.get_info import get_connected_wallet\n",
    "from src.towns_actions.join_town import join_free_town, join_paid_town\n",
    "from src.towns_actions.logining import login_twitter, login_google\n",
    "from src.towns_actions.open_random import open_random_town\n",
    "from src.towns_actions.open_towns import open_towns\n",
    "from src.towns_actions.reset_caches import reset_caches\n",
    "from src.towns_actions.update_towns import update_towns\n",
    "from src.towns_actions.write_message import write_n_messages"
   ]
  },
  {
   "cell_type": "code",
   "execution_count": 10,
   "id": "d6588265-397c-4c39-a596-36d943ab7f89",
   "metadata": {},
   "outputs": [],
   "source": [
    "from src.towns_profile_manager import TownsProfileManager"
   ]
  },
  {
   "cell_type": "code",
   "execution_count": 12,
   "id": "1a917582-880c-4fcc-8f22-88e081765ef3",
   "metadata": {},
   "outputs": [],
   "source": [
    "load_dotenv()\n",
    "\n",
    "DOLPHIN_API = os.getenv(\"DOLPHIN_API\")\n",
    "TOWNS_LINK = os.getenv(\"TOWNS_LINK\")\n",
    "OPENAI_API = os.getenv(\"OPENAI_API\")"
   ]
  },
  {
   "cell_type": "code",
   "execution_count": null,
   "id": "adc37186-23b7-4b7c-a31f-1619481fd60d",
   "metadata": {},
   "outputs": [],
   "source": []
  },
  {
   "cell_type": "code",
   "execution_count": 53,
   "id": "40e0a23b-88ce-42c4-9db6-7dbf1603b209",
   "metadata": {},
   "outputs": [],
   "source": [
    "# towns_profile = TownsProfileManager(profile_id=577170716, anty_type=\"dolphin\", login_with=\"twitter\")\n",
    "towns_profile = TownsProfileManager(profile_id=\"kwgrk9t\", anty_type=\"adspower\", login_with=\"twitter\")"
   ]
  },
  {
   "cell_type": "code",
   "execution_count": 55,
   "id": "86b9d642-7fdf-4679-8614-b32db647034e",
   "metadata": {},
   "outputs": [
    {
     "ename": "SessionNotCreatedException",
     "evalue": "Message: session not created: cannot connect to chrome at 127.0.0.1:40497\nfrom session not created: This version of ChromeDriver only supports Chrome version 135\nCurrent browser version is 134.0.6998.36\nStacktrace:\n#0 0x58c56454ce9e <unknown>\n#1 0x58c563ffcb76 <unknown>\n#2 0x58c564039012 <unknown>\n#3 0x58c564037f68 <unknown>\n#4 0x58c56402e3db <unknown>\n#5 0x58c56407d743 <unknown>\n#6 0x58c56407cce6 <unknown>\n#7 0x58c56406e3e3 <unknown>\n#8 0x58c56403bcfd <unknown>\n#9 0x58c56403c921 <unknown>\n#10 0x58c56451e561 <unknown>\n#11 0x58c56452170d <unknown>\n#12 0x58c5645211db <unknown>\n#13 0x58c564521b75 <unknown>\n#14 0x58c56450be3b <unknown>\n#15 0x58c564521f3c <unknown>\n#16 0x58c5644f4e75 <unknown>\n#17 0x58c56453cc78 <unknown>\n#18 0x58c56453ce9c <unknown>\n#19 0x58c56454ba3c <unknown>\n#20 0x70f4a969caa4 <unknown>\n#21 0x70f4a9729c3c <unknown>\n",
     "output_type": "error",
     "traceback": [
      "\u001b[0;31m---------------------------------------------------------------------------\u001b[0m",
      "\u001b[0;31mSessionNotCreatedException\u001b[0m                Traceback (most recent call last)",
      "Cell \u001b[0;32mIn[55], line 2\u001b[0m\n\u001b[1;32m      1\u001b[0m \u001b[38;5;66;03m# open Profile\u001b[39;00m\n\u001b[0;32m----> 2\u001b[0m towns_profile\u001b[38;5;241m.\u001b[39mopen_profile()\n",
      "File \u001b[0;32m~/program_files/github_asevlad/Towns/src/towns_profile_manager.py:67\u001b[0m, in \u001b[0;36mTownsProfileManager.open_profile\u001b[0;34m(self)\u001b[0m\n\u001b[1;32m     65\u001b[0m \u001b[38;5;28;01mdef\u001b[39;00m \u001b[38;5;21mopen_profile\u001b[39m(\u001b[38;5;28mself\u001b[39m):\n\u001b[1;32m     66\u001b[0m     \u001b[38;5;28;01mif\u001b[39;00m \u001b[38;5;28mself\u001b[39m\u001b[38;5;241m.\u001b[39manty_type \u001b[38;5;241m==\u001b[39m \u001b[38;5;124m\"\u001b[39m\u001b[38;5;124mADSPOWER\u001b[39m\u001b[38;5;124m\"\u001b[39m:\n\u001b[0;32m---> 67\u001b[0m         \u001b[38;5;28mself\u001b[39m\u001b[38;5;241m.\u001b[39mdriver \u001b[38;5;241m=\u001b[39m \u001b[38;5;28mself\u001b[39m\u001b[38;5;241m.\u001b[39mopen_ads_power_profile()\n\u001b[1;32m     68\u001b[0m     \u001b[38;5;28;01melif\u001b[39;00m \u001b[38;5;28mself\u001b[39m\u001b[38;5;241m.\u001b[39manty_type \u001b[38;5;241m==\u001b[39m \u001b[38;5;124m\"\u001b[39m\u001b[38;5;124mDOLPHIN\u001b[39m\u001b[38;5;124m\"\u001b[39m:\n\u001b[1;32m     69\u001b[0m         \u001b[38;5;28mself\u001b[39m\u001b[38;5;241m.\u001b[39mdriver \u001b[38;5;241m=\u001b[39m \u001b[38;5;28mself\u001b[39m\u001b[38;5;241m.\u001b[39mopen_dolphin_profile()\n",
      "File \u001b[0;32m~/program_files/github_asevlad/Towns/src/towns_profile_manager.py:82\u001b[0m, in \u001b[0;36mTownsProfileManager.open_ads_power_profile\u001b[0;34m(self)\u001b[0m\n\u001b[1;32m     80\u001b[0m geckodriver_path \u001b[38;5;241m=\u001b[39m get_geckodriver_path()\n\u001b[1;32m     81\u001b[0m service \u001b[38;5;241m=\u001b[39m Service(geckodriver_path)\n\u001b[0;32m---> 82\u001b[0m driver \u001b[38;5;241m=\u001b[39m webdriver\u001b[38;5;241m.\u001b[39mChrome(service\u001b[38;5;241m=\u001b[39mservice, options\u001b[38;5;241m=\u001b[39moptions)\n\u001b[1;32m     83\u001b[0m \u001b[38;5;28;01mreturn\u001b[39;00m driver\n",
      "File \u001b[0;32m~/anaconda3/lib/python3.12/site-packages/selenium/webdriver/chrome/webdriver.py:45\u001b[0m, in \u001b[0;36mWebDriver.__init__\u001b[0;34m(self, options, service, keep_alive)\u001b[0m\n\u001b[1;32m     42\u001b[0m service \u001b[38;5;241m=\u001b[39m service \u001b[38;5;28;01mif\u001b[39;00m service \u001b[38;5;28;01melse\u001b[39;00m Service()\n\u001b[1;32m     43\u001b[0m options \u001b[38;5;241m=\u001b[39m options \u001b[38;5;28;01mif\u001b[39;00m options \u001b[38;5;28;01melse\u001b[39;00m Options()\n\u001b[0;32m---> 45\u001b[0m \u001b[38;5;28msuper\u001b[39m()\u001b[38;5;241m.\u001b[39m\u001b[38;5;21m__init__\u001b[39m(\n\u001b[1;32m     46\u001b[0m     browser_name\u001b[38;5;241m=\u001b[39mDesiredCapabilities\u001b[38;5;241m.\u001b[39mCHROME[\u001b[38;5;124m\"\u001b[39m\u001b[38;5;124mbrowserName\u001b[39m\u001b[38;5;124m\"\u001b[39m],\n\u001b[1;32m     47\u001b[0m     vendor_prefix\u001b[38;5;241m=\u001b[39m\u001b[38;5;124m\"\u001b[39m\u001b[38;5;124mgoog\u001b[39m\u001b[38;5;124m\"\u001b[39m,\n\u001b[1;32m     48\u001b[0m     options\u001b[38;5;241m=\u001b[39moptions,\n\u001b[1;32m     49\u001b[0m     service\u001b[38;5;241m=\u001b[39mservice,\n\u001b[1;32m     50\u001b[0m     keep_alive\u001b[38;5;241m=\u001b[39mkeep_alive,\n\u001b[1;32m     51\u001b[0m )\n",
      "File \u001b[0;32m~/anaconda3/lib/python3.12/site-packages/selenium/webdriver/chromium/webdriver.py:66\u001b[0m, in \u001b[0;36mChromiumDriver.__init__\u001b[0;34m(self, browser_name, vendor_prefix, options, service, keep_alive)\u001b[0m\n\u001b[1;32m     57\u001b[0m executor \u001b[38;5;241m=\u001b[39m ChromiumRemoteConnection(\n\u001b[1;32m     58\u001b[0m     remote_server_addr\u001b[38;5;241m=\u001b[39m\u001b[38;5;28mself\u001b[39m\u001b[38;5;241m.\u001b[39mservice\u001b[38;5;241m.\u001b[39mservice_url,\n\u001b[1;32m     59\u001b[0m     browser_name\u001b[38;5;241m=\u001b[39mbrowser_name,\n\u001b[0;32m   (...)\u001b[0m\n\u001b[1;32m     62\u001b[0m     ignore_proxy\u001b[38;5;241m=\u001b[39moptions\u001b[38;5;241m.\u001b[39m_ignore_local_proxy,\n\u001b[1;32m     63\u001b[0m )\n\u001b[1;32m     65\u001b[0m \u001b[38;5;28;01mtry\u001b[39;00m:\n\u001b[0;32m---> 66\u001b[0m     \u001b[38;5;28msuper\u001b[39m()\u001b[38;5;241m.\u001b[39m\u001b[38;5;21m__init__\u001b[39m(command_executor\u001b[38;5;241m=\u001b[39mexecutor, options\u001b[38;5;241m=\u001b[39moptions)\n\u001b[1;32m     67\u001b[0m \u001b[38;5;28;01mexcept\u001b[39;00m \u001b[38;5;167;01mException\u001b[39;00m:\n\u001b[1;32m     68\u001b[0m     \u001b[38;5;28mself\u001b[39m\u001b[38;5;241m.\u001b[39mquit()\n",
      "File \u001b[0;32m~/anaconda3/lib/python3.12/site-packages/selenium/webdriver/remote/webdriver.py:250\u001b[0m, in \u001b[0;36mWebDriver.__init__\u001b[0;34m(self, command_executor, keep_alive, file_detector, options, locator_converter, web_element_cls, client_config)\u001b[0m\n\u001b[1;32m    248\u001b[0m \u001b[38;5;28mself\u001b[39m\u001b[38;5;241m.\u001b[39m_authenticator_id \u001b[38;5;241m=\u001b[39m \u001b[38;5;28;01mNone\u001b[39;00m\n\u001b[1;32m    249\u001b[0m \u001b[38;5;28mself\u001b[39m\u001b[38;5;241m.\u001b[39mstart_client()\n\u001b[0;32m--> 250\u001b[0m \u001b[38;5;28mself\u001b[39m\u001b[38;5;241m.\u001b[39mstart_session(capabilities)\n\u001b[1;32m    251\u001b[0m \u001b[38;5;28mself\u001b[39m\u001b[38;5;241m.\u001b[39m_fedcm \u001b[38;5;241m=\u001b[39m FedCM(\u001b[38;5;28mself\u001b[39m)\n\u001b[1;32m    253\u001b[0m \u001b[38;5;28mself\u001b[39m\u001b[38;5;241m.\u001b[39m_websocket_connection \u001b[38;5;241m=\u001b[39m \u001b[38;5;28;01mNone\u001b[39;00m\n",
      "File \u001b[0;32m~/anaconda3/lib/python3.12/site-packages/selenium/webdriver/remote/webdriver.py:342\u001b[0m, in \u001b[0;36mWebDriver.start_session\u001b[0;34m(self, capabilities)\u001b[0m\n\u001b[1;32m    333\u001b[0m \u001b[38;5;250m\u001b[39m\u001b[38;5;124;03m\"\"\"Creates a new session with the desired capabilities.\u001b[39;00m\n\u001b[1;32m    334\u001b[0m \n\u001b[1;32m    335\u001b[0m \u001b[38;5;124;03mParameters:\u001b[39;00m\n\u001b[0;32m   (...)\u001b[0m\n\u001b[1;32m    338\u001b[0m \u001b[38;5;124;03m    - A capabilities dict to start the session with.\u001b[39;00m\n\u001b[1;32m    339\u001b[0m \u001b[38;5;124;03m\"\"\"\u001b[39;00m\n\u001b[1;32m    341\u001b[0m caps \u001b[38;5;241m=\u001b[39m _create_caps(capabilities)\n\u001b[0;32m--> 342\u001b[0m response \u001b[38;5;241m=\u001b[39m \u001b[38;5;28mself\u001b[39m\u001b[38;5;241m.\u001b[39mexecute(Command\u001b[38;5;241m.\u001b[39mNEW_SESSION, caps)[\u001b[38;5;124m\"\u001b[39m\u001b[38;5;124mvalue\u001b[39m\u001b[38;5;124m\"\u001b[39m]\n\u001b[1;32m    343\u001b[0m \u001b[38;5;28mself\u001b[39m\u001b[38;5;241m.\u001b[39msession_id \u001b[38;5;241m=\u001b[39m response\u001b[38;5;241m.\u001b[39mget(\u001b[38;5;124m\"\u001b[39m\u001b[38;5;124msessionId\u001b[39m\u001b[38;5;124m\"\u001b[39m)\n\u001b[1;32m    344\u001b[0m \u001b[38;5;28mself\u001b[39m\u001b[38;5;241m.\u001b[39mcaps \u001b[38;5;241m=\u001b[39m response\u001b[38;5;241m.\u001b[39mget(\u001b[38;5;124m\"\u001b[39m\u001b[38;5;124mcapabilities\u001b[39m\u001b[38;5;124m\"\u001b[39m)\n",
      "File \u001b[0;32m~/anaconda3/lib/python3.12/site-packages/selenium/webdriver/remote/webdriver.py:429\u001b[0m, in \u001b[0;36mWebDriver.execute\u001b[0;34m(self, driver_command, params)\u001b[0m\n\u001b[1;32m    427\u001b[0m response \u001b[38;5;241m=\u001b[39m \u001b[38;5;28mself\u001b[39m\u001b[38;5;241m.\u001b[39mcommand_executor\u001b[38;5;241m.\u001b[39mexecute(driver_command, params)\n\u001b[1;32m    428\u001b[0m \u001b[38;5;28;01mif\u001b[39;00m response:\n\u001b[0;32m--> 429\u001b[0m     \u001b[38;5;28mself\u001b[39m\u001b[38;5;241m.\u001b[39merror_handler\u001b[38;5;241m.\u001b[39mcheck_response(response)\n\u001b[1;32m    430\u001b[0m     response[\u001b[38;5;124m\"\u001b[39m\u001b[38;5;124mvalue\u001b[39m\u001b[38;5;124m\"\u001b[39m] \u001b[38;5;241m=\u001b[39m \u001b[38;5;28mself\u001b[39m\u001b[38;5;241m.\u001b[39m_unwrap_value(response\u001b[38;5;241m.\u001b[39mget(\u001b[38;5;124m\"\u001b[39m\u001b[38;5;124mvalue\u001b[39m\u001b[38;5;124m\"\u001b[39m, \u001b[38;5;28;01mNone\u001b[39;00m))\n\u001b[1;32m    431\u001b[0m     \u001b[38;5;28;01mreturn\u001b[39;00m response\n",
      "File \u001b[0;32m~/anaconda3/lib/python3.12/site-packages/selenium/webdriver/remote/errorhandler.py:232\u001b[0m, in \u001b[0;36mErrorHandler.check_response\u001b[0;34m(self, response)\u001b[0m\n\u001b[1;32m    230\u001b[0m         alert_text \u001b[38;5;241m=\u001b[39m value[\u001b[38;5;124m\"\u001b[39m\u001b[38;5;124malert\u001b[39m\u001b[38;5;124m\"\u001b[39m]\u001b[38;5;241m.\u001b[39mget(\u001b[38;5;124m\"\u001b[39m\u001b[38;5;124mtext\u001b[39m\u001b[38;5;124m\"\u001b[39m)\n\u001b[1;32m    231\u001b[0m     \u001b[38;5;28;01mraise\u001b[39;00m exception_class(message, screen, stacktrace, alert_text)  \u001b[38;5;66;03m# type: ignore[call-arg]  # mypy is not smart enough here\u001b[39;00m\n\u001b[0;32m--> 232\u001b[0m \u001b[38;5;28;01mraise\u001b[39;00m exception_class(message, screen, stacktrace)\n",
      "\u001b[0;31mSessionNotCreatedException\u001b[0m: Message: session not created: cannot connect to chrome at 127.0.0.1:40497\nfrom session not created: This version of ChromeDriver only supports Chrome version 135\nCurrent browser version is 134.0.6998.36\nStacktrace:\n#0 0x58c56454ce9e <unknown>\n#1 0x58c563ffcb76 <unknown>\n#2 0x58c564039012 <unknown>\n#3 0x58c564037f68 <unknown>\n#4 0x58c56402e3db <unknown>\n#5 0x58c56407d743 <unknown>\n#6 0x58c56407cce6 <unknown>\n#7 0x58c56406e3e3 <unknown>\n#8 0x58c56403bcfd <unknown>\n#9 0x58c56403c921 <unknown>\n#10 0x58c56451e561 <unknown>\n#11 0x58c56452170d <unknown>\n#12 0x58c5645211db <unknown>\n#13 0x58c564521b75 <unknown>\n#14 0x58c56450be3b <unknown>\n#15 0x58c564521f3c <unknown>\n#16 0x58c5644f4e75 <unknown>\n#17 0x58c56453cc78 <unknown>\n#18 0x58c56453ce9c <unknown>\n#19 0x58c56454ba3c <unknown>\n#20 0x70f4a969caa4 <unknown>\n#21 0x70f4a9729c3c <unknown>\n"
     ]
    }
   ],
   "source": [
    "# open Profile\n",
    "towns_profile.open_profile()"
   ]
  },
  {
   "cell_type": "code",
   "execution_count": 31,
   "id": "4ed0b8e4-d844-4e56-807b-2a4e90c67643",
   "metadata": {},
   "outputs": [
    {
     "name": "stderr",
     "output_type": "stream",
     "text": [
      "\u001b[32m2025-04-13 17:21:47.018\u001b[0m | \u001b[1mINFO    \u001b[0m | \u001b[36msrc.towns_actions.open_towns\u001b[0m:\u001b[36mopen_towns\u001b[0m:\u001b[36m28\u001b[0m - \u001b[1mProfile_id: kwgrk9t. Successfully OPENED main page!\u001b[0m\n"
     ]
    },
    {
     "data": {
      "text/plain": [
       "False"
      ]
     },
     "execution_count": 31,
     "metadata": {},
     "output_type": "execute_result"
    }
   ],
   "source": [
    "# open Towns\n",
    "login_need = open_towns(towns_profile)\n",
    "login_need"
   ]
  },
  {
   "cell_type": "code",
   "execution_count": 18,
   "id": "12473cec-8e54-4cb2-852e-fef553c51675",
   "metadata": {},
   "outputs": [],
   "source": [
    "# twitter login\n",
    "if login_need:\n",
    "    login_twitter(towns_profile)\n",
    "\n",
    "# google login\n",
    "if login_need:\n",
    "    login_google(towns_profile)"
   ]
  },
  {
   "cell_type": "code",
   "execution_count": 20,
   "id": "f9a8906a-dda1-4178-9444-12439c5b0a17",
   "metadata": {},
   "outputs": [],
   "source": [
    "# # Reset Cache\n",
    "# reset_caches(driver)"
   ]
  },
  {
   "cell_type": "code",
   "execution_count": 22,
   "id": "7d9a2c63-67e3-443c-8670-1aed665dbbdb",
   "metadata": {},
   "outputs": [
    {
     "name": "stderr",
     "output_type": "stream",
     "text": [
      "\u001b[32m2025-04-02 17:37:17.069\u001b[0m | \u001b[1mINFO    \u001b[0m | \u001b[36msrc.towns_actions.get_info\u001b[0m:\u001b[36mget_connected_wallet\u001b[0m:\u001b[36m28\u001b[0m - \u001b[1mProfile_id: 577164824. Wallet successfully retrieved!\u001b[0m\n"
     ]
    },
    {
     "data": {
      "text/plain": [
       "'0xc4093E8F393d10F08D1754d3D5372d327Cb4fbd7'"
      ]
     },
     "execution_count": 22,
     "metadata": {},
     "output_type": "execute_result"
    }
   ],
   "source": [
    "# Get Connected Wallet\n",
    "get_connected_wallet(towns_profile)"
   ]
  },
  {
   "cell_type": "code",
   "execution_count": 19,
   "id": "7a7cb875-d6b1-414b-9702-ad91cfbc1a13",
   "metadata": {},
   "outputs": [
    {
     "name": "stderr",
     "output_type": "stream",
     "text": [
      "\u001b[32m2025-04-02 21:09:56.423\u001b[0m | \u001b[1mINFO    \u001b[0m | \u001b[36msrc.towns_actions.open_random\u001b[0m:\u001b[36mopen_random_town\u001b[0m:\u001b[36m33\u001b[0m - \u001b[1mProfile_id: 577170716. Successfully OPENED random town!\u001b[0m\n"
     ]
    },
    {
     "data": {
      "text/plain": [
       "'https://app.towns.com/t/0x9faf3b0c6185bd2ef701a40b5d67062e93a076a5/channels/209faf3b0c6185bd2ef701a40b5d67062e93a076a50000000000000000000000'"
      ]
     },
     "execution_count": 19,
     "metadata": {},
     "output_type": "execute_result"
    }
   ],
   "source": [
    "# open random town\n",
    "open_random_town(towns_profile)"
   ]
  },
  {
   "cell_type": "code",
   "execution_count": 28,
   "id": "b319da8e-bad7-4d5e-b92f-04063069e3ca",
   "metadata": {},
   "outputs": [
    {
     "name": "stderr",
     "output_type": "stream",
     "text": [
      "\u001b[32m2025-04-02 17:41:02.208\u001b[0m | \u001b[1mINFO    \u001b[0m | \u001b[36msrc.towns_actions.get_daily_points\u001b[0m:\u001b[36mget_daily_points\u001b[0m:\u001b[36m45\u001b[0m - \u001b[1mProfile_id: 577164824. Daily points are successfully farmed!\u001b[0m\n"
     ]
    }
   ],
   "source": [
    "# get daily points\n",
    "get_daily_points(towns_profile)"
   ]
  },
  {
   "cell_type": "code",
   "execution_count": 29,
   "id": "e68ef5c6-d765-48f2-8e10-0d655cb0277f",
   "metadata": {},
   "outputs": [
    {
     "name": "stderr",
     "output_type": "stream",
     "text": [
      "\u001b[32m2025-04-02 17:41:04.496\u001b[0m | \u001b[1mINFO    \u001b[0m | \u001b[36msrc.towns_actions.get_daily_points\u001b[0m:\u001b[36mget_daily_points\u001b[0m:\u001b[36m48\u001b[0m - \u001b[1mProfile_id: 577164824. Cooldown for daily points!\u001b[0m\n"
     ]
    }
   ],
   "source": [
    "# get daily points\n",
    "get_daily_points(towns_profile)"
   ]
  },
  {
   "cell_type": "code",
   "execution_count": 27,
   "id": "5c26ab2f-002f-48b9-9e7a-e923c7a2bad7",
   "metadata": {},
   "outputs": [
    {
     "name": "stderr",
     "output_type": "stream",
     "text": [
      "\u001b[32m2025-04-02 17:40:51.382\u001b[0m | \u001b[1mINFO    \u001b[0m | \u001b[36msrc.towns_actions.create_new_town\u001b[0m:\u001b[36mcreate_new_town\u001b[0m:\u001b[36m117\u001b[0m - \u001b[1mProfile_id: 577164824. Town of type free successfully created\u001b[0m\n"
     ]
    },
    {
     "data": {
      "text/plain": [
       "'https://app.towns.com/t/0x85f0aa8f0fdfa38f1042bc2807eaa064d4f6503a'"
      ]
     },
     "execution_count": 27,
     "metadata": {},
     "output_type": "execute_result"
    }
   ],
   "source": [
    "# create new free town\n",
    "create_new_town(towns_profile, \"free\", cost=0)"
   ]
  },
  {
   "cell_type": "code",
   "execution_count": 23,
   "id": "24ca97e1-8fe2-4f4f-9693-d3a7521ffc12",
   "metadata": {},
   "outputs": [
    {
     "name": "stderr",
     "output_type": "stream",
     "text": [
      "\u001b[32m2025-04-02 17:38:28.686\u001b[0m | \u001b[1mINFO    \u001b[0m | \u001b[36msrc.towns_actions.create_new_town\u001b[0m:\u001b[36mcreate_new_town\u001b[0m:\u001b[36m117\u001b[0m - \u001b[1mProfile_id: 577164824. Town of type dynamic successfully created\u001b[0m\n"
     ]
    },
    {
     "data": {
      "text/plain": [
       "'https://app.towns.com/t/0xf98ca09b34273d17b3d5f5969c4dc59ef8fbaf19'"
      ]
     },
     "execution_count": 23,
     "metadata": {},
     "output_type": "execute_result"
    }
   ],
   "source": [
    "# create new dynamic price town\n",
    "create_new_town(towns_profile, \"dynamic\", cost=0)"
   ]
  },
  {
   "cell_type": "code",
   "execution_count": 26,
   "id": "103487a0-1ce4-4645-87c4-210ed0f06178",
   "metadata": {},
   "outputs": [
    {
     "name": "stderr",
     "output_type": "stream",
     "text": [
      "\u001b[32m2025-04-02 17:39:46.053\u001b[0m | \u001b[1mINFO    \u001b[0m | \u001b[36msrc.towns_actions.create_new_town\u001b[0m:\u001b[36mcreate_new_town\u001b[0m:\u001b[36m117\u001b[0m - \u001b[1mProfile_id: 577164824. Town of type state successfully created\u001b[0m\n"
     ]
    },
    {
     "data": {
      "text/plain": [
       "'https://app.towns.com/t/0xba614116009f47d3cb33abeb3d9df26a5bbc482f'"
      ]
     },
     "execution_count": 26,
     "metadata": {},
     "output_type": "execute_result"
    }
   ],
   "source": [
    "# create new state price town\n",
    "create_new_town(towns_profile, \"state\", cost=0.01)"
   ]
  },
  {
   "cell_type": "code",
   "execution_count": 36,
   "id": "1b65625f-fa2a-4e3b-b115-1abd272b4612",
   "metadata": {
    "scrolled": true
   },
   "outputs": [
    {
     "name": "stderr",
     "output_type": "stream",
     "text": [
      "\u001b[32m2025-04-02 17:50:18.489\u001b[0m | \u001b[1mINFO    \u001b[0m | \u001b[36msrc.towns_actions.update_towns\u001b[0m:\u001b[36mupdate_towns\u001b[0m:\u001b[36m30\u001b[0m - \u001b[1mNo element 'Update Towns'\u001b[0m\n"
     ]
    }
   ],
   "source": [
    "# click on update town button\n",
    "update_towns(towns_profile)"
   ]
  },
  {
   "cell_type": "code",
   "execution_count": 38,
   "id": "90551522-5352-4586-80d6-8f39999a99dc",
   "metadata": {},
   "outputs": [
    {
     "name": "stderr",
     "output_type": "stream",
     "text": [
      "\u001b[32m2025-04-02 17:51:25.702\u001b[0m | \u001b[1mINFO    \u001b[0m | \u001b[36msrc.towns_actions.join_town\u001b[0m:\u001b[36mjoin_free_town\u001b[0m:\u001b[36m50\u001b[0m - \u001b[1mProfile_id: 577164824. Successfully JOINED into free town!\u001b[0m\n"
     ]
    }
   ],
   "source": [
    "# join free town\n",
    "town_link = \"https://app.towns.com/t/0xdc443716b9c203ff3ee9f3631182bfedf205dac8/\"\n",
    "join_free_town(towns_profile, town_link)"
   ]
  },
  {
   "cell_type": "code",
   "execution_count": 40,
   "id": "0b980833-fa36-4ead-88eb-3c1a57944d11",
   "metadata": {},
   "outputs": [
    {
     "name": "stdout",
     "output_type": "stream",
     "text": [
      "Not enough funds\n"
     ]
    }
   ],
   "source": [
    "# join paid town\n",
    "town_link = \"https://app.towns.com/t/0x8c5fd1c169c539e244260ba7df63f824d1303ce2\"\n",
    "join_paid_town(towns_profile, town_link, upper_limit=0.99)"
   ]
  },
  {
   "cell_type": "code",
   "execution_count": 44,
   "id": "d8309d3c-d125-4776-aeb2-62397c4473d6",
   "metadata": {},
   "outputs": [
    {
     "name": "stderr",
     "output_type": "stream",
     "text": [
      "\u001b[32m2025-04-02 17:54:03.361\u001b[0m | \u001b[1mINFO    \u001b[0m | \u001b[36msrc.towns_actions.write_message\u001b[0m:\u001b[36mwrite_n_messages\u001b[0m:\u001b[36m62\u001b[0m - \u001b[1mProfile_id: 577164824. Successfully WRITTEN MESSAGE!\u001b[0m\n",
      "\u001b[32m2025-04-02 17:54:20.560\u001b[0m | \u001b[1mINFO    \u001b[0m | \u001b[36msrc.towns_actions.write_message\u001b[0m:\u001b[36mwrite_n_messages\u001b[0m:\u001b[36m62\u001b[0m - \u001b[1mProfile_id: 577164824. Successfully WRITTEN MESSAGE!\u001b[0m\n",
      "\u001b[32m2025-04-02 17:54:38.003\u001b[0m | \u001b[1mINFO    \u001b[0m | \u001b[36msrc.towns_actions.write_message\u001b[0m:\u001b[36mwrite_n_messages\u001b[0m:\u001b[36m62\u001b[0m - \u001b[1mProfile_id: 577164824. Successfully WRITTEN MESSAGE!\u001b[0m\n",
      "\u001b[32m2025-04-02 17:54:56.476\u001b[0m | \u001b[1mINFO    \u001b[0m | \u001b[36msrc.towns_actions.write_message\u001b[0m:\u001b[36mwrite_n_messages\u001b[0m:\u001b[36m62\u001b[0m - \u001b[1mProfile_id: 577164824. Successfully WRITTEN MESSAGE!\u001b[0m\n"
     ]
    }
   ],
   "source": [
    "# write a message\n",
    "town_link = \"https://app.towns.com/t/0xdc443716b9c203ff3ee9f3631182bfedf205dac8/\" # free_town\n",
    "write_n_messages(towns_profile, town_link, 4, 10)"
   ]
  },
  {
   "cell_type": "code",
   "execution_count": 34,
   "id": "050f60d6-d55e-4ea6-98c2-601d458f0126",
   "metadata": {},
   "outputs": [],
   "source": [
    "towns_profile.close_profile()"
   ]
  },
  {
   "cell_type": "code",
   "execution_count": null,
   "id": "97dbd916-a1d1-4706-a165-73bfc85930f3",
   "metadata": {},
   "outputs": [],
   "source": []
  },
  {
   "cell_type": "code",
   "execution_count": 2,
   "id": "5ff16def-144f-4ac4-8ad0-3e700a479367",
   "metadata": {},
   "outputs": [],
   "source": [
    "a = list()"
   ]
  },
  {
   "cell_type": "code",
   "execution_count": 24,
   "id": "f106d87f-de30-4f84-90ef-29f3342b3a84",
   "metadata": {},
   "outputs": [],
   "source": [
    "from src.logic import get_random_town_link\n",
    "get_random_town_link(towns_profile, \"DYNAMIC\")"
   ]
  },
  {
   "cell_type": "code",
   "execution_count": null,
   "id": "a6fed459-f3a8-4af1-805a-8224764533fb",
   "metadata": {},
   "outputs": [],
   "source": []
  },
  {
   "cell_type": "code",
   "execution_count": null,
   "id": "0b8a41ac-89b0-4ce9-8170-7dc10278c382",
   "metadata": {},
   "outputs": [],
   "source": []
  },
  {
   "cell_type": "code",
   "execution_count": null,
   "id": "4c8daa8e-13a5-452d-8130-c3f7b0961b5d",
   "metadata": {},
   "outputs": [],
   "source": []
  },
  {
   "cell_type": "code",
   "execution_count": null,
   "id": "4b6d6372-c68a-4237-a284-f5d4a6bf9690",
   "metadata": {},
   "outputs": [],
   "source": []
  },
  {
   "cell_type": "code",
   "execution_count": null,
   "id": "487daf97-df9b-4f52-bb53-a13ddf5bd1f3",
   "metadata": {},
   "outputs": [],
   "source": []
  },
  {
   "cell_type": "code",
   "execution_count": null,
   "id": "d33841bc-49ae-4518-a876-13588aa29bd9",
   "metadata": {},
   "outputs": [],
   "source": []
  },
  {
   "cell_type": "code",
   "execution_count": null,
   "id": "da406ac4-044a-4bae-b681-2b09caf1de0f",
   "metadata": {},
   "outputs": [],
   "source": []
  },
  {
   "cell_type": "code",
   "execution_count": 88,
   "id": "417816ed-4c49-47ac-9ffb-03be9918f056",
   "metadata": {},
   "outputs": [],
   "source": [
    "from loguru import logger"
   ]
  },
  {
   "cell_type": "code",
   "execution_count": 90,
   "id": "37b1914d-64d4-4c58-884b-0df34d8af842",
   "metadata": {},
   "outputs": [],
   "source": [
    "def get_connected_wallet(towns_profile: TownsProfileManager):\n",
    "    # wait till open the page. find user-profile-button\n",
    "    user_profile_button_element = WebDriverWait(towns_profile.driver, 20).until(\n",
    "        EC.visibility_of_element_located((By.XPATH, \"//span[@data-testid='user-profile-button']\")))\n",
    "\n",
    "    # check if profile_box is already opened\n",
    "    check_elements = towns_profile.driver.find_elements(By.XPATH, \"//span[@data-testid='upload-image-container']\")\n",
    "    if not check_elements:\n",
    "        # click user-profile-button if Profile box is not opened\n",
    "        user_profile_button_element.click()\n",
    "\n",
    "    # find image_profile_element\n",
    "    image_profile_element = WebDriverWait(towns_profile.driver, 20).until(\n",
    "        EC.visibility_of_element_located((By.XPATH, \"//span[@data-testid='upload-image-container']\")))\n",
    "\n",
    "    # find profile_box_element\n",
    "    profile_box_element = image_profile_element.find_element(By.XPATH, \"..\").find_element(By.XPATH, \"..\").find_element(\n",
    "        By.XPATH, \"..\")\n",
    "\n",
    "    # check if there is already wallet available\n",
    "    wallet_elements = profile_box_element.find_elements(By.XPATH, \"//span[contains(text(), '0x')]\")\n",
    "    if len(wallet_elements) == 1:\n",
    "        return retrieve_wallet_with_validation(towns_profile, copy_connected_wallet_in_profile_box)\n",
    "    else:\n",
    "        # find and click Linked Wallets button\n",
    "        linked_wallets_element = WebDriverWait(towns_profile.driver, 20).until(\n",
    "            EC.visibility_of_element_located((By.XPATH, \"//*[contains(text(), 'Linked Wallets')]\")))\n",
    "        linked_wallets_element.click()\n",
    "\n",
    "        return retrieve_wallet_with_validation(towns_profile, copy_connected_wallet_in_wallets)\n",
    "\n",
    "\n",
    "def retrieve_wallet_with_validation(towns_profile, copy_wallet_function):\n",
    "    # retrieve connected wallet until 2 consecutive wallets are identical\n",
    "    prev_copied_wallet = None\n",
    "    while True:\n",
    "        copied_wallet = copy_wallet_function(towns_profile)\n",
    "        if copied_wallet == prev_copied_wallet:\n",
    "            towns_profile.wallet = copied_wallet\n",
    "\n",
    "            logger.info(f\"Profile_id: {towns_profile.profile_id}. Wallet successfully retrieved!\")\n",
    "            return copied_wallet\n",
    "        else:\n",
    "            prev_copied_wallet = copied_wallet\n",
    "\n",
    "\n",
    "\n",
    "def copy_connected_wallet_in_wallets(towns_profile: TownsProfileManager):\n",
    "    # find element with Town Wallet <p>\n",
    "    towns_wallet_text_element = WebDriverWait(towns_profile.driver, 20).until(\n",
    "        EC.visibility_of_element_located((By.XPATH, \"//p[contains(text(), 'Towns Wallet')]\")))\n",
    "    # find and click on button that copy text\n",
    "    copy_wallet_element = towns_wallet_text_element.find_element(By.XPATH, \"..\").find_element(By.XPATH, \"span\")\n",
    "    copy_wallet_element.click()\n",
    "\n",
    "    return pyperclip.paste()\n",
    "\n",
    "\n",
    "def copy_connected_wallet_in_profile_box(towns_profile: TownsProfileManager):\n",
    "    # find image_profile_element\n",
    "    image_profile_element = WebDriverWait(towns_profile.driver, 20).until(\n",
    "        EC.visibility_of_element_located((By.XPATH, \"//span[@data-testid='upload-image-container']\")))\n",
    "\n",
    "    # find profile_box_element\n",
    "    profile_box_element = image_profile_element.find_element(By.XPATH, \"..\").find_element(By.XPATH, \"..\").find_element(\n",
    "        By.XPATH, \"..\")\n",
    "\n",
    "    # find and click on button that copy text\n",
    "    copy_wallet_element = profile_box_element.find_element(By.XPATH, \"//span[contains(text(), '0x')]\")\n",
    "    copy_wallet_element.click()\n",
    "\n",
    "    return pyperclip.paste()"
   ]
  },
  {
   "cell_type": "code",
   "execution_count": 92,
   "id": "42aea93d-296a-48c3-ad59-0f66b6c6c0ab",
   "metadata": {},
   "outputs": [
    {
     "name": "stderr",
     "output_type": "stream",
     "text": [
      "\u001b[32m2025-04-10 09:26:31.349\u001b[0m | \u001b[1mINFO    \u001b[0m | \u001b[36m__main__\u001b[0m:\u001b[36mretrieve_wallet_with_validation\u001b[0m:\u001b[36m41\u001b[0m - \u001b[1mProfile_id: kwgrk9t. Wallet successfully retrieved!\u001b[0m\n"
     ]
    },
    {
     "data": {
      "text/plain": [
       "'0x9a43abBB10ee4d7BE0Ed0Ba14AD05CaB854a2811'"
      ]
     },
     "execution_count": 92,
     "metadata": {},
     "output_type": "execute_result"
    }
   ],
   "source": [
    "get_connected_wallet(towns_profile)"
   ]
  },
  {
   "cell_type": "code",
   "execution_count": null,
   "id": "d7f8f2ee-942b-41ff-98a3-0a716734f41e",
   "metadata": {},
   "outputs": [],
   "source": []
  },
  {
   "cell_type": "code",
   "execution_count": null,
   "id": "f5612d11-8d78-4063-9196-bd1bce688421",
   "metadata": {},
   "outputs": [],
   "source": []
  },
  {
   "cell_type": "code",
   "execution_count": null,
   "id": "9a15fa33-5a7d-4317-96f0-b89dde97ec3a",
   "metadata": {},
   "outputs": [],
   "source": []
  },
  {
   "cell_type": "code",
   "execution_count": null,
   "id": "c381437b-f01f-45ab-ba0b-10c72d05d823",
   "metadata": {},
   "outputs": [],
   "source": []
  },
  {
   "cell_type": "code",
   "execution_count": null,
   "id": "2508fd09-32b4-4344-a62e-44658e808423",
   "metadata": {},
   "outputs": [],
   "source": []
  },
  {
   "cell_type": "code",
   "execution_count": null,
   "id": "5306f42f-c1a4-48ae-b067-15f2da67a301",
   "metadata": {},
   "outputs": [],
   "source": []
  },
  {
   "cell_type": "code",
   "execution_count": null,
   "id": "370d29c7-2109-4e07-a126-5adb6efe6614",
   "metadata": {},
   "outputs": [],
   "source": []
  },
  {
   "cell_type": "code",
   "execution_count": null,
   "id": "382e99d1-bc07-457d-ae53-8d3e2fc3a0e7",
   "metadata": {},
   "outputs": [],
   "source": []
  },
  {
   "cell_type": "code",
   "execution_count": null,
   "id": "48a13c4b-a225-4821-8b89-9b76fe4ab5f5",
   "metadata": {},
   "outputs": [],
   "source": []
  },
  {
   "cell_type": "code",
   "execution_count": null,
   "id": "7492f42e-12da-44f0-be07-1373b8b6e528",
   "metadata": {},
   "outputs": [],
   "source": []
  },
  {
   "cell_type": "code",
   "execution_count": null,
   "id": "e72abcd7-0244-47e1-96e9-409d7de26cf0",
   "metadata": {},
   "outputs": [],
   "source": []
  },
  {
   "cell_type": "code",
   "execution_count": null,
   "id": "c9bba499-7e8c-4f60-9202-5f5e22917b4f",
   "metadata": {},
   "outputs": [],
   "source": []
  },
  {
   "cell_type": "code",
   "execution_count": null,
   "id": "7993b0b4-08cb-405e-8b17-5a7a990d8b68",
   "metadata": {},
   "outputs": [],
   "source": []
  },
  {
   "cell_type": "code",
   "execution_count": null,
   "id": "1cd07046-d8c2-42bd-a6dd-80a47d4955bf",
   "metadata": {},
   "outputs": [],
   "source": []
  },
  {
   "cell_type": "code",
   "execution_count": null,
   "id": "f5aec8a6-d2b6-48a4-935f-5b131a8b4a1a",
   "metadata": {},
   "outputs": [],
   "source": []
  },
  {
   "cell_type": "code",
   "execution_count": null,
   "id": "40d8efae-5906-4a35-893d-999483b38491",
   "metadata": {},
   "outputs": [],
   "source": [
    "# open random channel START"
   ]
  },
  {
   "cell_type": "code",
   "execution_count": 180,
   "id": "4076dd1e-a9e4-447f-898a-2849eccbaa6b",
   "metadata": {},
   "outputs": [],
   "source": [
    "def open_random_channel(driver):\n",
    "    # find all possible channels\n",
    "    channel_elements = driver.find_elements(By.XPATH, \"//span[contains(@data-testid, '-channel')]\")\n",
    "    \n",
    "    # choose some channel\n",
    "    channel_to_open = random.randint(0, len(channel_elements)-1)\n",
    "    \n",
    "    # open this channel\n",
    "    channel_elements[channel_to_open].click()\n",
    "    \n",
    "    # wait untill it is loaded\n",
    "    WebDriverWait(driver, 20).until(EC.visibility_of_element_located((By.XPATH, \"//*[contains(text(), 'Send a message to ')]\")))\n",
    "\n",
    "open_random_channel(driver)"
   ]
  },
  {
   "cell_type": "code",
   "execution_count": null,
   "id": "501c2011-ee33-4533-b7c4-84980bbceb38",
   "metadata": {},
   "outputs": [],
   "source": [
    "# open random channel END"
   ]
  },
  {
   "cell_type": "code",
   "execution_count": null,
   "id": "dd7c09b8-cf75-430a-a63d-1dc34e2d3cff",
   "metadata": {},
   "outputs": [],
   "source": []
  },
  {
   "cell_type": "code",
   "execution_count": null,
   "id": "3c7a3aa8-7755-46de-a931-1fd868f5d64f",
   "metadata": {},
   "outputs": [],
   "source": []
  },
  {
   "cell_type": "code",
   "execution_count": null,
   "id": "45ccf11c-eba2-4621-b322-21d4837ae1c6",
   "metadata": {},
   "outputs": [],
   "source": []
  },
  {
   "cell_type": "code",
   "execution_count": null,
   "id": "00948209-cb7b-43fa-a205-0f60892727c2",
   "metadata": {},
   "outputs": [],
   "source": []
  },
  {
   "cell_type": "code",
   "execution_count": null,
   "id": "da4215e9-7f9d-4a7e-a2d2-b1aea47b48b8",
   "metadata": {},
   "outputs": [],
   "source": []
  },
  {
   "cell_type": "code",
   "execution_count": null,
   "id": "18773dcc-ff01-4b8f-82de-b2e41fe319ce",
   "metadata": {},
   "outputs": [],
   "source": []
  },
  {
   "cell_type": "code",
   "execution_count": null,
   "id": "dec8ad99-8800-4682-b29d-0346574cdaf9",
   "metadata": {},
   "outputs": [],
   "source": []
  },
  {
   "cell_type": "code",
   "execution_count": null,
   "id": "9ce7eed6-5b94-4b62-ba60-0adafa6b0403",
   "metadata": {},
   "outputs": [],
   "source": []
  },
  {
   "cell_type": "code",
   "execution_count": 227,
   "id": "7a5b034a-150d-403e-9e55-32eca5ff9cc9",
   "metadata": {},
   "outputs": [],
   "source": []
  },
  {
   "cell_type": "code",
   "execution_count": 239,
   "id": "4768f478-1d10-441b-9242-b788827111c0",
   "metadata": {},
   "outputs": [],
   "source": []
  },
  {
   "cell_type": "code",
   "execution_count": 241,
   "id": "f94a146e-0e68-4d41-bc30-38f3f426cf63",
   "metadata": {},
   "outputs": [],
   "source": []
  },
  {
   "cell_type": "code",
   "execution_count": null,
   "id": "8ab3547b-ab28-4fc5-a9ec-e41f9abf3568",
   "metadata": {},
   "outputs": [],
   "source": []
  },
  {
   "cell_type": "code",
   "execution_count": null,
   "id": "597a2a35-0055-4dac-91b8-e7b0a459d8d6",
   "metadata": {},
   "outputs": [],
   "source": [
    "if action['action'] == 'write_message':\n",
    "    # Wait at the barrier until all profiles reach their write_message\n",
    "    print(f\"{profile.name} reached write_message, waiting for others...\")\n",
    "    barrier.wait()\n",
    "    \n",
    "    # Share params with other profiles\n",
    "    with lock:\n",
    "        shared_params[profile.name] = action['params']\n",
    "    \n",
    "    # Wait until all params are shared\n",
    "    barrier.wait()\n",
    "    \n",
    "    # Execute write_message with shared params\n",
    "    all_params = {**action['params'], 'shared': shared_params}\n",
    "    profile.execute_action({'action': 'write_message', 'params': all_params})"
   ]
  },
  {
   "cell_type": "code",
   "execution_count": null,
   "id": "95eeda08-5d19-4d6a-9af6-d872acb8d494",
   "metadata": {},
   "outputs": [],
   "source": [
    "barrier = threading.Barrier(len(profiles))"
   ]
  },
  {
   "cell_type": "code",
   "execution_count": null,
   "id": "68c488a9-aeaf-45fa-890d-8485d123efd8",
   "metadata": {},
   "outputs": [],
   "source": []
  },
  {
   "cell_type": "code",
   "execution_count": null,
   "id": "5d7c7a22-6563-4b27-81d1-0552c51609a9",
   "metadata": {},
   "outputs": [],
   "source": []
  },
  {
   "cell_type": "code",
   "execution_count": null,
   "id": "f5c0e712-4a3a-4959-b7cd-1eee8a7c500f",
   "metadata": {},
   "outputs": [],
   "source": []
  },
  {
   "cell_type": "code",
   "execution_count": null,
   "id": "301d5c36-f1d5-4cd7-ad34-f257fb73e75a",
   "metadata": {},
   "outputs": [],
   "source": []
  },
  {
   "cell_type": "code",
   "execution_count": 145,
   "id": "be8bb72d-7a34-40cf-afde-84add0c2cc3c",
   "metadata": {},
   "outputs": [],
   "source": [
    "def arrange_shuffled_actions(actions):\n",
    "    write_actions = []\n",
    "    other_actions = []\n",
    "    \n",
    "    for action in actions:\n",
    "        if action[\"action\"] == \"write_message\":\n",
    "            write_actions.append(action)\n",
    "        else:\n",
    "            other_actions.append(action)\n",
    "\n",
    "    shuffled_other_actions = other_actions.copy()\n",
    "    random.shuffle(shuffled_other_actions)\n",
    "\n",
    "    return shuffled_other_actions + write_actions"
   ]
  },
  {
   "cell_type": "code",
   "execution_count": null,
   "id": "97aa62c0-5caa-4c5c-924d-7751eb11e8ec",
   "metadata": {},
   "outputs": [],
   "source": []
  },
  {
   "cell_type": "code",
   "execution_count": null,
   "id": "647a8f56-0999-494c-8aa4-5e8ff0dbaedd",
   "metadata": {},
   "outputs": [],
   "source": [
    "def run_profile(profile: Profile, actions: List[Dict[str, any]], barrier: threading.Barrier):\n",
    "    # Shuffle actions for this profile\n",
    "    shuffled_actions = arrange_shuffled_actions(actions)\n",
    "    \n",
    "    for action in shuffled_actions:\n",
    "        if action['action'] == 'write_message':\n",
    "            # Wait at the barrier until all profiles reach their write_message\n",
    "            barrier.wait()\n",
    "            \n",
    "            # Execute write_message with shared params\n",
    "            profile.execute_action({'action': 'write_message', 'params': all_params})\n",
    "        else:\n",
    "            # Execute non-write actions immediately\n",
    "            profile.execute_action(action)"
   ]
  },
  {
   "cell_type": "code",
   "execution_count": null,
   "id": "b5d86920-139f-4043-aa72-a8e8861bcb7e",
   "metadata": {},
   "outputs": [],
   "source": [
    "def run_profile_group(profile_group: List[TownsProfileManager]):\n",
    "    barrier = threading.Barrier(len(profiles))  # Barrier for write_message synchronization\n",
    "    \n",
    "    # Start threads for each profile\n",
    "    threads = []\n",
    "    for profile in profiles:\n",
    "        t = threading.Thread(target=run_profile, args=(profile, actions, barrier, shared_params, lock))\n",
    "        threads.append(t)\n",
    "        t.start()\n",
    "    \n",
    "    # Wait for all threads to complete\n",
    "    for t in threads:\n",
    "        t.join()\n",
    "    \n",
    "    print(\"All profiles completed.\")"
   ]
  },
  {
   "cell_type": "code",
   "execution_count": null,
   "id": "eb68050a-6e00-4483-8025-6a1b5892dd0a",
   "metadata": {},
   "outputs": [],
   "source": []
  },
  {
   "cell_type": "code",
   "execution_count": null,
   "id": "7b145028-a605-4900-b41f-ae499413ea4a",
   "metadata": {},
   "outputs": [],
   "source": []
  },
  {
   "cell_type": "code",
   "execution_count": null,
   "id": "ad1d9a9a-2897-4019-8a6f-31e97498c1a1",
   "metadata": {},
   "outputs": [],
   "source": []
  },
  {
   "cell_type": "code",
   "execution_count": null,
   "id": "3862c58b-c1dd-4b64-b937-226f15760090",
   "metadata": {},
   "outputs": [],
   "source": []
  },
  {
   "cell_type": "code",
   "execution_count": null,
   "id": "8aff8bcc-5b4d-4575-b8d1-ebebb07ad012",
   "metadata": {},
   "outputs": [],
   "source": []
  },
  {
   "cell_type": "code",
   "execution_count": null,
   "id": "e65eaf48-6739-422a-9bf6-68b0fff2dbb2",
   "metadata": {},
   "outputs": [],
   "source": []
  },
  {
   "cell_type": "code",
   "execution_count": null,
   "id": "8f6f9c33-ea0c-4f91-bfff-3bab5403a845",
   "metadata": {},
   "outputs": [],
   "source": []
  },
  {
   "cell_type": "code",
   "execution_count": null,
   "id": "30bb8953-45e7-4944-b41b-42d0ae544912",
   "metadata": {},
   "outputs": [],
   "source": []
  },
  {
   "cell_type": "code",
   "execution_count": 30,
   "id": "5e248296-9ee8-4982-ab8d-404e8505252d",
   "metadata": {},
   "outputs": [],
   "source": [
    "group_of_n = 3"
   ]
  },
  {
   "cell_type": "code",
   "execution_count": 32,
   "id": "51065193-9825-4340-b917-ea626c705d08",
   "metadata": {},
   "outputs": [],
   "source": [
    "# LOGIC START"
   ]
  },
  {
   "cell_type": "code",
   "execution_count": 34,
   "id": "0c0c56e8-d4d3-453f-b742-81dc0223b0af",
   "metadata": {},
   "outputs": [
    {
     "name": "stdout",
     "output_type": "stream",
     "text": [
      "Group 1 (size 3):\n",
      "[<src.towns_profile_manager.TownsProfileManager object at 0x75e0eb88dc70>, <src.towns_profile_manager.TownsProfileManager object at 0x75e0eb883470>, <src.towns_profile_manager.TownsProfileManager object at 0x75e0eb882a20>]\n",
      "\n",
      "\n",
      "Group 2 (size 1):\n",
      "[<src.towns_profile_manager.TownsProfileManager object at 0x75e0eb881ca0>]\n",
      "\n",
      "\n"
     ]
    },
    {
     "ename": "NameError",
     "evalue": "name 'parse_actions' is not defined",
     "output_type": "error",
     "traceback": [
      "\u001b[0;31m---------------------------------------------------------------------------\u001b[0m",
      "\u001b[0;31mNameError\u001b[0m                                 Traceback (most recent call last)",
      "Cell \u001b[0;32mIn[34], line 4\u001b[0m\n\u001b[1;32m      2\u001b[0m profile_groups \u001b[38;5;241m=\u001b[39m generate_profile_groups(group_of_n)\n\u001b[1;32m      3\u001b[0m \u001b[38;5;66;03m# parse actions to perform\u001b[39;00m\n\u001b[0;32m----> 4\u001b[0m parsed_actions \u001b[38;5;241m=\u001b[39m parse_actions(\u001b[38;5;124m'\u001b[39m\u001b[38;5;124mactions.txt\u001b[39m\u001b[38;5;124m'\u001b[39m)\n",
      "\u001b[0;31mNameError\u001b[0m: name 'parse_actions' is not defined"
     ]
    }
   ],
   "source": [
    "# create group of profiles to run in concurrent way\n",
    "profile_groups = generate_profile_groups(group_of_n)\n",
    "# parse actions to perform\n",
    "parsed_actions = parse_actions('actions.txt')"
   ]
  },
  {
   "cell_type": "code",
   "execution_count": 199,
   "id": "028db8e8-0f07-4fbe-bdf2-18905d0b580d",
   "metadata": {},
   "outputs": [],
   "source": [
    "# create group of profiles to run in concurrent way\n",
    "profile_groups = generate_profile_groups(group_of_n)\n",
    "# parse actions to perform\n",
    "parsed_actions = parse_actions('actions.txt')\n",
    "\n",
    "for profile_group in profile_groups:\n",
    "    # Barrier for write_message synchronization\n",
    "    barrier = threading.Barrier(len(profile_group))\n",
    "    \n",
    "    # Start threads for each profile\n",
    "    threads = []\n",
    "    for profile in profiles:\n",
    "        t = threading.Thread(target=run_actions, args=(profile, actions, barrier))\n",
    "        threads.append(t)\n",
    "        t.start()\n",
    "    \n",
    "    # Wait for all threads to complete\n",
    "    for t in threads:\n",
    "        t.join()\n",
    "    \n",
    "    print(\"All profiles completed.\")"
   ]
  },
  {
   "cell_type": "code",
   "execution_count": 18,
   "id": "02090ddd-3ffb-40b8-bda9-113872a9acef",
   "metadata": {},
   "outputs": [],
   "source": [
    "from numpy import floor, ceil\n",
    "import pandas as pd\n",
    "\n",
    "def generate_profile_groups(group_of_n=5):\n",
    "    # Read the CSV file\n",
    "    df = pd.read_csv(\"profiles.csv\")\n",
    "    \n",
    "    # Shuffle the DataFrame rows\n",
    "    df = df.sample(frac=1).reset_index(drop=True)\n",
    "    \n",
    "    # Generate random group sizes\n",
    "    group_sizes = []\n",
    "    remaining = len(df)\n",
    "    \n",
    "    while remaining > 0:\n",
    "        group_size = random.randint(group_of_n - int(floor(group_of_n * 0.25)), group_of_n + int(ceil(group_of_n * 0.25)))\n",
    "        group_size = min(group_size, remaining)  # Ensure it doesn't exceed available rows\n",
    "        group_sizes.append(group_size)\n",
    "        remaining -= group_size\n",
    "    \n",
    "    # Split into groups\n",
    "    groups = []\n",
    "    start = 0\n",
    "    for size in group_sizes:\n",
    "        group = []\n",
    "        for _, profile_info in df.iloc[start:start + size].iterrows():\n",
    "            group.append(TownsProfileManager(\n",
    "                profile_id=profile_info[\"profile_id\"], \n",
    "                anty_type=profile_info[\"anty_type\"], \n",
    "                login_with=profile_info[\"login_with\"]\n",
    "            ))\n",
    "        groups.append(group)\n",
    "        start += size\n",
    "    \n",
    "    # Example: Print group sizes\n",
    "    for i, group in enumerate(groups):\n",
    "        print(f\"Group {i+1} (size {len(group)}):\")\n",
    "        print(group)\n",
    "        print(\"\\n\")"
   ]
  },
  {
   "cell_type": "code",
   "execution_count": 20,
   "id": "cbdb3660-4c27-4290-8b2e-349d253f2687",
   "metadata": {},
   "outputs": [
    {
     "name": "stdout",
     "output_type": "stream",
     "text": [
      "Group 1 (size 4):\n",
      "[<src.towns_profile_manager.TownsProfileManager object at 0x75e0eb8830e0>, <src.towns_profile_manager.TownsProfileManager object at 0x75e0ebbd4e90>, <src.towns_profile_manager.TownsProfileManager object at 0x75e0ebaeba10>, <src.towns_profile_manager.TownsProfileManager object at 0x75e0eb883f50>]\n",
      "\n",
      "\n"
     ]
    }
   ],
   "source": [
    "generate_profile_groups(group_of_n=5)"
   ]
  },
  {
   "cell_type": "code",
   "execution_count": null,
   "id": "c754cb4b-840c-4bc9-9eb0-c36ee0d5f9f1",
   "metadata": {},
   "outputs": [],
   "source": []
  },
  {
   "cell_type": "code",
   "execution_count": null,
   "id": "67179cdc-8f1b-46fe-bd1c-96d0392e5420",
   "metadata": {},
   "outputs": [],
   "source": [
    "def run_actions(towns_profile: Profile, actions: List[Dict[str, any]], barrier: threading.Barrier):\n",
    "    # Shuffle actions for this profile\n",
    "    shuffled_actions = arrange_shuffled_actions(actions)\n",
    "    \n",
    "    # 1st action\n",
    "    towns_profile.open_profile()\n",
    "    \n",
    "    # 2nd action\n",
    "    login_need = open_towns(towns_profile)\n",
    "    \n",
    "    # login if needed\n",
    "    if login_need:\n",
    "        if towns_profile.login_with == \"TWITTER\":\n",
    "            login_twitter(towns_profile)\n",
    "        elif towns_profile.login_with == \"GOOGLE\":\n",
    "            login_google(towns_profile)\n",
    "        else:\n",
    "            print(\"Wrong login type\")\n",
    "            \n",
    "        get_connected_wallet(towns_profile)\n",
    "        \n",
    "    for action in parsed_actions:\n",
    "        #create action\n",
    "        if action[\"action\"] == \"create_free_channel\":\n",
    "            if random.random() < action[\"param\"][\"chance\"]:\n",
    "                create_new_town(towns_profile, \"free\")\n",
    "                \n",
    "        if action[\"action\"] == \"create_dynamic_channel\":\n",
    "            if random.random() < action[\"param\"][\"chance\"]:\n",
    "                create_new_town(towns_profile, \"dynamic\")\n",
    "                \n",
    "        if action[\"action\"] == \"create_paid_channel\":\n",
    "            if random.random() < action[\"param\"][\"chance\"]:\n",
    "                create_new_town(towns_profile, \"state\", action[\"param\"][\"cost\"])\n",
    "    \n",
    "        # join town actions\n",
    "        if action[\"action\"] == \"join_free_channel\":\n",
    "            if random.random() < action[\"param\"][\"chance\"]:\n",
    "                town_link = get_random_town_link(\"free\")\n",
    "                join_free_town(towns_profile, town_link)\n",
    "                \n",
    "        if action[\"action\"] == \"join_dynamic_channel\":\n",
    "            if random.random() < action[\"param\"][\"chance\"]:\n",
    "                town_link = get_random_town_link(\"dynamic\")\n",
    "                join_paid_town(towns_profile, town_link, upper_limit=action[\"param\"][\"cost_limit\"])\n",
    "            \n",
    "        if action[\"action\"] == \"join_paid_channel\":\n",
    "            if random.random() < action[\"param\"][\"chance\"]:\n",
    "                town_link = get_random_town_link(\"state\")\n",
    "                join_paid_town(towns_profile, town_link, upper_limit=action[\"param\"][\"cost_limit\"])\n",
    "        \n",
    "        # write message action\n",
    "        if action[\"action\"] == \"write_message\":\n",
    "            if random.random() < action[\"param\"][\"chance\"]:                \n",
    "                # Wait at the barrier until all profiles reach their write_message\n",
    "                barrier.wait()\n",
    "                \n",
    "                if action[\"param\"][\"link\"]:\n",
    "                    town_link = action[\"param\"][\"link\"]\n",
    "                else:\n",
    "                    town_link = get_random_town_link(action[\"param\"][\"town_type\"])\n",
    "                    \n",
    "                # Execute write_message with shared params\n",
    "                town_link = get_random_town_link(action[\"param\"][\"link\"])\n",
    "                profile.execute_action({'action': 'write_message', 'params': all_params})\n",
    "                \n",
    "                write_message(towns_profile, town_link)\n",
    "        \n",
    "        if action[\"action\"] == \"get_daily_points\":\n",
    "            if random.random() < action[\"param\"][\"chance\"]:\n",
    "                get_daily_points(towns_profile)"
   ]
  },
  {
   "cell_type": "code",
   "execution_count": null,
   "id": "bbabdc2e-1e2f-4147-9918-43219b8a5496",
   "metadata": {},
   "outputs": [],
   "source": [
    "# LOGIC END"
   ]
  },
  {
   "cell_type": "code",
   "execution_count": null,
   "id": "b42a7329-e290-401d-be7e-13ca96031db3",
   "metadata": {},
   "outputs": [],
   "source": []
  },
  {
   "cell_type": "code",
   "execution_count": null,
   "id": "70fed34f-c952-46ae-a8fa-3f68625324ef",
   "metadata": {},
   "outputs": [],
   "source": []
  },
  {
   "cell_type": "code",
   "execution_count": null,
   "id": "1a564257-5426-4e71-897f-4f36b32f90b1",
   "metadata": {},
   "outputs": [],
   "source": []
  },
  {
   "cell_type": "code",
   "execution_count": null,
   "id": "e1ddbe91-ac73-44da-b0a2-12df61428fc1",
   "metadata": {},
   "outputs": [],
   "source": []
  },
  {
   "cell_type": "code",
   "execution_count": null,
   "id": "52c35ad5-1a86-459f-9607-3a8dd4e375c1",
   "metadata": {},
   "outputs": [],
   "source": []
  },
  {
   "cell_type": "code",
   "execution_count": null,
   "id": "c932f943-1092-4d5f-959a-7f4fe9cd4a14",
   "metadata": {},
   "outputs": [],
   "source": []
  },
  {
   "cell_type": "code",
   "execution_count": null,
   "id": "224e632e-dcb3-4268-a4d9-d073f7ae0089",
   "metadata": {},
   "outputs": [],
   "source": []
  },
  {
   "cell_type": "code",
   "execution_count": null,
   "id": "c451e0fc-2fe0-4ee7-9dac-4d8fc11a20b9",
   "metadata": {},
   "outputs": [],
   "source": []
  },
  {
   "cell_type": "code",
   "execution_count": null,
   "id": "266cc9b0-a3be-4db5-98ea-a9790866bacf",
   "metadata": {},
   "outputs": [],
   "source": []
  },
  {
   "cell_type": "code",
   "execution_count": null,
   "id": "12458966-b0e1-4732-8e02-6c6b219dc725",
   "metadata": {},
   "outputs": [],
   "source": []
  },
  {
   "cell_type": "code",
   "execution_count": null,
   "id": "65d5309c-bd33-47c7-91a5-9b6fd5b163fa",
   "metadata": {},
   "outputs": [],
   "source": []
  },
  {
   "cell_type": "code",
   "execution_count": null,
   "id": "f9fd993e-d1d8-4aaf-8379-68f6040b154a",
   "metadata": {},
   "outputs": [],
   "source": []
  },
  {
   "cell_type": "code",
   "execution_count": null,
   "id": "11c23605-7d05-4289-afc5-da7da550ca86",
   "metadata": {},
   "outputs": [],
   "source": [
    "# write review START"
   ]
  },
  {
   "cell_type": "code",
   "execution_count": 351,
   "id": "432e5877-18ba-443d-a7f4-d0830d9d2447",
   "metadata": {},
   "outputs": [],
   "source": [
    "def write_review(driver):\n",
    "    # open review tab\n",
    "    review_element = WebDriverWait(driver, 20).until(\n",
    "        EC.visibility_of_element_located((By.XPATH, \"//*[contains(text(), 'Review This Town')]\")))\n",
    "    review_element.click()\n",
    "\n",
    "    # click write_review button to open box with writing review\n",
    "    write_review_element = WebDriverWait(driver, 20).until(\n",
    "        EC.visibility_of_element_located((By.XPATH, \"//*[contains(text(), 'Write a Review')]\")))\n",
    "    write_review_element.click()\n",
    "\n",
    "    # find an element in the box\n",
    "    your_review_element = WebDriverWait(driver, 20).until(\n",
    "        EC.visibility_of_element_located((By.XPATH, \".//*[contains(text(), 'Your Review')]\")))\n",
    "    your_review_element_xpath = get_full_xpath_element(driver, your_review_element)\n",
    "    \n",
    "    # find xpath of the review box\n",
    "    review_box_xpath = your_review_element_xpath[:your_review_element_xpath.rfind(\"span[\") - 1]\n",
    "    review_box_element = driver.find_element(\"xpath\", review_box_xpath)\n",
    "\n",
    "    # find text_area\n",
    "    review_element = review_box_element.find_element(\"xpath\", \".//textarea\")\n",
    "    # generate review\n",
    "    review_text = generate_review()\n",
    "    # send text to the textarea\n",
    "    review_element.send_keys(review_text)\n",
    "\n",
    "    time.sleep(1)\n",
    "    \n",
    "    # find rating element\n",
    "    select_rating_element = driver.find_element(\"xpath\",\"//*[contains(text(), 'Select your rating')]\")\n",
    "    rating = random.randint(4, 5)\n",
    "    rating_element = select_rating_element.find_element(\"xpath\", \"..\").find_elements(\"xpath\", \".//div\")[rating - 1]\n",
    "    # rate town\n",
    "    rating_element.click()\n",
    "\n",
    "    time.sleep(1) # sleep between ac\n",
    "    \n",
    "    # click Post_review\n",
    "    your_review_element = WebDriverWait(driver, 20).until(\n",
    "        EC.visibility_of_element_located((By.XPATH, \"//*[contains(text(), 'Post Review')]\")))\n",
    "    post_review_element.click()\n",
    "    \n",
    "    # click on Pay_with_ETH\n",
    "    your_review_element = WebDriverWait(driver, 20).until(\n",
    "        EC.visibility_of_element_located((By.XPATH, \"//*[contains(text(), 'Pay with ETH')]\")))\n",
    "    pay_with_ETH_element.click()\n",
    "    \n",
    "    # Wait till review will be submitted\n",
    "    driver.find_element(\"xpath\", \"//*[contains(text(), 'Review posted successfully')]\")\n",
    "\n",
    "    time.sleep(1)\n",
    "    \n",
    "def send_keys(element, text):\n",
    "    for letter in text:\n",
    "        review_element.send_keys(letter)\n",
    "        time.sleep(random.randint(1, 7)/100)\n",
    "    \n",
    "def generate_review():\n",
    "    return \"great town. I guess it will grow and grow\""
   ]
  },
  {
   "cell_type": "code",
   "execution_count": 399,
   "id": "703b361d-854c-4b61-97f6-afe4de032ded",
   "metadata": {},
   "outputs": [],
   "source": [
    "# write review END"
   ]
  },
  {
   "cell_type": "code",
   "execution_count": 2,
   "id": "d9bc981d-212c-45f8-a085-51156963f7ac",
   "metadata": {},
   "outputs": [],
   "source": [
    "def trim_stacktrace(log: str) -> str:\n",
    "    \"\"\"\n",
    "    Keeps only the first two stacktrace lines that start with '#'.\n",
    "    \"\"\"\n",
    "    lines = log.strip().splitlines()\n",
    "    trimmed_lines = []\n",
    "    count = 0\n",
    "\n",
    "    for line in lines:\n",
    "        if line.strip().startswith(\"#\"):\n",
    "            if count < 2:\n",
    "                trimmed_lines.append(line)\n",
    "                count += 1\n",
    "            else:\n",
    "                break\n",
    "        else:\n",
    "            trimmed_lines.append(line)\n",
    "\n",
    "    return \"\\n\".join(trimmed_lines)\n"
   ]
  },
  {
   "cell_type": "code",
   "execution_count": 4,
   "id": "d3364263-ad8e-4b02-9506-80f3cfff66ab",
   "metadata": {},
   "outputs": [
    {
     "name": "stdout",
     "output_type": "stream",
     "text": [
      "Stacktrace:\n",
      "#0 0x652a66e0a29e <unknown>\n",
      "#1 0x652a668d9de6 <unknown>\n"
     ]
    }
   ],
   "source": [
    "log = \"\"\"\n",
    "Stacktrace:\n",
    "#0 0x652a66e0a29e <unknown>\n",
    "#1 0x652a668d9de6 <unknown>\n",
    "#2 0x652a66925685 <unknown>\n",
    "#3 0x652a66925a81 <unknown>\n",
    "#4 0x652a6696d9a4 <unknown>\n",
    "\"\"\"\n",
    "\n",
    "print(trim_stacktrace(log))\n"
   ]
  },
  {
   "cell_type": "code",
   "execution_count": null,
   "id": "beea00eb-cdfb-486e-821c-1852ae5347d8",
   "metadata": {},
   "outputs": [],
   "source": []
  },
  {
   "cell_type": "code",
   "execution_count": null,
   "id": "368d0295-38c5-49d0-adf6-54de136ab366",
   "metadata": {},
   "outputs": [],
   "source": []
  },
  {
   "cell_type": "code",
   "execution_count": null,
   "id": "46edfe2f-632c-4986-b40e-b37b1732294e",
   "metadata": {},
   "outputs": [],
   "source": []
  },
  {
   "cell_type": "code",
   "execution_count": null,
   "id": "70e43cbd-0ceb-49f8-92a5-38fc90f3892f",
   "metadata": {},
   "outputs": [],
   "source": []
  },
  {
   "cell_type": "code",
   "execution_count": null,
   "id": "4bbdb887-5ccf-43e1-8911-09f5bd1d4892",
   "metadata": {},
   "outputs": [],
   "source": []
  },
  {
   "cell_type": "code",
   "execution_count": null,
   "id": "d7b6b84f-cd25-452e-84c1-d7f648113073",
   "metadata": {},
   "outputs": [],
   "source": []
  },
  {
   "cell_type": "code",
   "execution_count": null,
   "id": "8a0b0342-de71-4236-8d51-5924dad8bbce",
   "metadata": {},
   "outputs": [],
   "source": []
  },
  {
   "cell_type": "code",
   "execution_count": null,
   "id": "d927dc0b-cc5e-4ffb-af5a-93900a7b32e6",
   "metadata": {},
   "outputs": [],
   "source": []
  },
  {
   "cell_type": "code",
   "execution_count": null,
   "id": "7d786b5a-f5e4-4d5a-99b4-59ab497e3cd5",
   "metadata": {},
   "outputs": [],
   "source": []
  },
  {
   "cell_type": "code",
   "execution_count": null,
   "id": "0bf5fcec-2d7c-480b-a6f8-198346884c2a",
   "metadata": {},
   "outputs": [],
   "source": []
  },
  {
   "cell_type": "code",
   "execution_count": null,
   "id": "b906be80-00bc-47d5-a9de-b1b38608f47c",
   "metadata": {},
   "outputs": [],
   "source": []
  }
 ],
 "metadata": {
  "kernelspec": {
   "display_name": "Python [conda env:base] *",
   "language": "python",
   "name": "conda-base-py"
  },
  "language_info": {
   "codemirror_mode": {
    "name": "ipython",
    "version": 3
   },
   "file_extension": ".py",
   "mimetype": "text/x-python",
   "name": "python",
   "nbconvert_exporter": "python",
   "pygments_lexer": "ipython3",
   "version": "3.12.7"
  }
 },
 "nbformat": 4,
 "nbformat_minor": 5
}
